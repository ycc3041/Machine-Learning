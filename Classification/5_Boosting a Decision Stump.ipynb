{
 "cells": [
  {
   "cell_type": "markdown",
   "metadata": {},
   "source": [
    "# W5_Boosting a Decision Stump"
   ]
  },
  {
   "cell_type": "code",
   "execution_count": 1,
   "metadata": {
    "collapsed": true
   },
   "outputs": [],
   "source": [
    "import numpy as np\n",
    "import pandas as pd\n",
    "from math import log\n",
    "from math import exp\n",
    "import matplotlib.pyplot as plt\n",
    "%matplotlib inline"
   ]
  },
  {
   "cell_type": "code",
   "execution_count": 2,
   "metadata": {},
   "outputs": [
    {
     "name": "stderr",
     "output_type": "stream",
     "text": [
      "C:\\Program Files\\Anaconda3\\lib\\site-packages\\IPython\\core\\interactiveshell.py:2717: DtypeWarning: Columns (19,47) have mixed types. Specify dtype option on import or set low_memory=False.\n",
      "  interactivity=interactivity, compiler=compiler, result=result)\n"
     ]
    },
    {
     "data": {
      "text/html": [
       "<div>\n",
       "<style>\n",
       "    .dataframe thead tr:only-child th {\n",
       "        text-align: right;\n",
       "    }\n",
       "\n",
       "    .dataframe thead th {\n",
       "        text-align: left;\n",
       "    }\n",
       "\n",
       "    .dataframe tbody tr th {\n",
       "        vertical-align: top;\n",
       "    }\n",
       "</style>\n",
       "<table border=\"1\" class=\"dataframe\">\n",
       "  <thead>\n",
       "    <tr style=\"text-align: right;\">\n",
       "      <th></th>\n",
       "      <th>safe_loans</th>\n",
       "      <th>grade_A</th>\n",
       "      <th>grade_B</th>\n",
       "      <th>grade_C</th>\n",
       "      <th>grade_D</th>\n",
       "      <th>grade_E</th>\n",
       "      <th>grade_F</th>\n",
       "      <th>grade_G</th>\n",
       "      <th>term_ 36 months</th>\n",
       "      <th>term_ 60 months</th>\n",
       "      <th>...</th>\n",
       "      <th>emp_length_2 years</th>\n",
       "      <th>emp_length_3 years</th>\n",
       "      <th>emp_length_4 years</th>\n",
       "      <th>emp_length_5 years</th>\n",
       "      <th>emp_length_6 years</th>\n",
       "      <th>emp_length_7 years</th>\n",
       "      <th>emp_length_8 years</th>\n",
       "      <th>emp_length_9 years</th>\n",
       "      <th>emp_length_&lt; 1 year</th>\n",
       "      <th>emp_length_n/a</th>\n",
       "    </tr>\n",
       "  </thead>\n",
       "  <tbody>\n",
       "    <tr>\n",
       "      <th>0</th>\n",
       "      <td>1</td>\n",
       "      <td>0</td>\n",
       "      <td>1</td>\n",
       "      <td>0</td>\n",
       "      <td>0</td>\n",
       "      <td>0</td>\n",
       "      <td>0</td>\n",
       "      <td>0</td>\n",
       "      <td>1</td>\n",
       "      <td>0</td>\n",
       "      <td>...</td>\n",
       "      <td>0</td>\n",
       "      <td>0</td>\n",
       "      <td>0</td>\n",
       "      <td>0</td>\n",
       "      <td>0</td>\n",
       "      <td>0</td>\n",
       "      <td>0</td>\n",
       "      <td>0</td>\n",
       "      <td>0</td>\n",
       "      <td>0</td>\n",
       "    </tr>\n",
       "    <tr>\n",
       "      <th>1</th>\n",
       "      <td>-1</td>\n",
       "      <td>0</td>\n",
       "      <td>0</td>\n",
       "      <td>1</td>\n",
       "      <td>0</td>\n",
       "      <td>0</td>\n",
       "      <td>0</td>\n",
       "      <td>0</td>\n",
       "      <td>0</td>\n",
       "      <td>1</td>\n",
       "      <td>...</td>\n",
       "      <td>0</td>\n",
       "      <td>0</td>\n",
       "      <td>0</td>\n",
       "      <td>0</td>\n",
       "      <td>0</td>\n",
       "      <td>0</td>\n",
       "      <td>0</td>\n",
       "      <td>0</td>\n",
       "      <td>1</td>\n",
       "      <td>0</td>\n",
       "    </tr>\n",
       "    <tr>\n",
       "      <th>2</th>\n",
       "      <td>1</td>\n",
       "      <td>0</td>\n",
       "      <td>0</td>\n",
       "      <td>1</td>\n",
       "      <td>0</td>\n",
       "      <td>0</td>\n",
       "      <td>0</td>\n",
       "      <td>0</td>\n",
       "      <td>1</td>\n",
       "      <td>0</td>\n",
       "      <td>...</td>\n",
       "      <td>0</td>\n",
       "      <td>0</td>\n",
       "      <td>0</td>\n",
       "      <td>0</td>\n",
       "      <td>0</td>\n",
       "      <td>0</td>\n",
       "      <td>0</td>\n",
       "      <td>0</td>\n",
       "      <td>0</td>\n",
       "      <td>0</td>\n",
       "    </tr>\n",
       "    <tr>\n",
       "      <th>3</th>\n",
       "      <td>1</td>\n",
       "      <td>0</td>\n",
       "      <td>0</td>\n",
       "      <td>1</td>\n",
       "      <td>0</td>\n",
       "      <td>0</td>\n",
       "      <td>0</td>\n",
       "      <td>0</td>\n",
       "      <td>1</td>\n",
       "      <td>0</td>\n",
       "      <td>...</td>\n",
       "      <td>0</td>\n",
       "      <td>0</td>\n",
       "      <td>0</td>\n",
       "      <td>0</td>\n",
       "      <td>0</td>\n",
       "      <td>0</td>\n",
       "      <td>0</td>\n",
       "      <td>0</td>\n",
       "      <td>0</td>\n",
       "      <td>0</td>\n",
       "    </tr>\n",
       "    <tr>\n",
       "      <th>4</th>\n",
       "      <td>1</td>\n",
       "      <td>1</td>\n",
       "      <td>0</td>\n",
       "      <td>0</td>\n",
       "      <td>0</td>\n",
       "      <td>0</td>\n",
       "      <td>0</td>\n",
       "      <td>0</td>\n",
       "      <td>1</td>\n",
       "      <td>0</td>\n",
       "      <td>...</td>\n",
       "      <td>0</td>\n",
       "      <td>1</td>\n",
       "      <td>0</td>\n",
       "      <td>0</td>\n",
       "      <td>0</td>\n",
       "      <td>0</td>\n",
       "      <td>0</td>\n",
       "      <td>0</td>\n",
       "      <td>0</td>\n",
       "      <td>0</td>\n",
       "    </tr>\n",
       "  </tbody>\n",
       "</table>\n",
       "<p>5 rows × 26 columns</p>\n",
       "</div>"
      ],
      "text/plain": [
       "   safe_loans  grade_A  grade_B  grade_C  grade_D  grade_E  grade_F  grade_G  \\\n",
       "0           1        0        1        0        0        0        0        0   \n",
       "1          -1        0        0        1        0        0        0        0   \n",
       "2           1        0        0        1        0        0        0        0   \n",
       "3           1        0        0        1        0        0        0        0   \n",
       "4           1        1        0        0        0        0        0        0   \n",
       "\n",
       "   term_ 36 months  term_ 60 months       ...        emp_length_2 years  \\\n",
       "0                1                0       ...                         0   \n",
       "1                0                1       ...                         0   \n",
       "2                1                0       ...                         0   \n",
       "3                1                0       ...                         0   \n",
       "4                1                0       ...                         0   \n",
       "\n",
       "   emp_length_3 years  emp_length_4 years  emp_length_5 years  \\\n",
       "0                   0                   0                   0   \n",
       "1                   0                   0                   0   \n",
       "2                   0                   0                   0   \n",
       "3                   0                   0                   0   \n",
       "4                   1                   0                   0   \n",
       "\n",
       "   emp_length_6 years  emp_length_7 years  emp_length_8 years  \\\n",
       "0                   0                   0                   0   \n",
       "1                   0                   0                   0   \n",
       "2                   0                   0                   0   \n",
       "3                   0                   0                   0   \n",
       "4                   0                   0                   0   \n",
       "\n",
       "   emp_length_9 years  emp_length_< 1 year  emp_length_n/a  \n",
       "0                   0                    0               0  \n",
       "1                   0                    1               0  \n",
       "2                   0                    0               0  \n",
       "3                   0                    0               0  \n",
       "4                   0                    0               0  \n",
       "\n",
       "[5 rows x 26 columns]"
      ]
     },
     "execution_count": 2,
     "metadata": {},
     "output_type": "execute_result"
    }
   ],
   "source": [
    "data = pd.read_csv('lending-club-data.csv')\n",
    "data['safe_loans'] = data['bad_loans'].apply(lambda x: 1 if x==0 else -1)\n",
    "features = ['grade',              # grade of the loan\n",
    "            'term',               # the term of the loan\n",
    "            'home_ownership',     # home ownership status: own, mortgage or rent\n",
    "            'emp_length',         # number of years of employment\n",
    "           ]\n",
    "target = 'safe_loans'\n",
    "data = pd.get_dummies(data[[target]+features])\n",
    "data.head()"
   ]
  },
  {
   "cell_type": "code",
   "execution_count": 3,
   "metadata": {
    "collapsed": true
   },
   "outputs": [],
   "source": [
    "train_index = list(pd.read_json('module-8-assignment-2-train-idx.json')[0])\n",
    "test_index = list(pd.read_json('module-8-assignment-2-test-idx.json')[0])\n",
    "train = data.iloc[train_index]\n",
    "test = data.iloc[test_index]"
   ]
  },
  {
   "cell_type": "code",
   "execution_count": 4,
   "metadata": {
    "collapsed": true
   },
   "outputs": [],
   "source": [
    "def intermediate_node_weighted_mistakes(labels_in_node, data_weights):\n",
    "    # weight of mistakes when all predictions are +1\n",
    "    weighted_mistakes_all_positive = sum(data_weights[labels_in_node==-1])\n",
    "    \n",
    "    # weight of mistakes when all predictions are -1\n",
    "    weighted_mistakes_all_negative = sum(data_weights[labels_in_node==1])\n",
    "    \n",
    "    if weighted_mistakes_all_positive <= weighted_mistakes_all_negative:\n",
    "        # return(weighted mistakes, predicted label)\n",
    "        return(weighted_mistakes_all_positive, 1)\n",
    "    else:\n",
    "        return(weighted_mistakes_all_negative, -1)"
   ]
  },
  {
   "cell_type": "code",
   "execution_count": 5,
   "metadata": {
    "collapsed": true
   },
   "outputs": [],
   "source": [
    "def best_splitting_feature(data, features, target, data_weights):\n",
    "    best_feature = None\n",
    "    best_error = float('inf')\n",
    "    \n",
    "    for feature in features:\n",
    "        left_split = data[data[feature]==0]\n",
    "        right_split = data[data[feature]==1]\n",
    "        \n",
    "        left_weights = data_weights[data[feature]==0]\n",
    "        right_weights = data_weights[data[feature]==1]\n",
    "        \n",
    "        left_weighted_mistakes, left_label = intermediate_node_weighted_mistakes(left_split[target], left_weights)\n",
    "        right_weighted_mistakes, right_label = intermediate_node_weighted_mistakes(right_split[target], right_weights)\n",
    "        \n",
    "        error = (left_weighted_mistakes+right_weighted_mistakes) / sum(data_weights)\n",
    "        \n",
    "        if error < best_error:\n",
    "            best_feature = feature\n",
    "            best_error = error\n",
    "            \n",
    "    return best_feature"
   ]
  },
  {
   "cell_type": "code",
   "execution_count": 6,
   "metadata": {
    "collapsed": true
   },
   "outputs": [],
   "source": [
    "def create_leaf(target_values, data_weights):\n",
    "        leaf = {'splitting_feature' : None,\n",
    "                'left' : None,\n",
    "                'right' : None,\n",
    "                'is_leaf': True}\n",
    "        weighted_error, label = intermediate_node_weighted_mistakes(target_values, data_weights)\n",
    "        leaf['prediction'] = label\n",
    "        return leaf"
   ]
  },
  {
   "cell_type": "code",
   "execution_count": 7,
   "metadata": {
    "collapsed": true
   },
   "outputs": [],
   "source": [
    "def create_decision_tree(data, features, target, data_weights, current_depth=0, max_depth=10):\n",
    "    remaining_features = features[:]\n",
    "    target_values = data[target]\n",
    "    \n",
    "    #print('--------------------------------------------------------------------')\n",
    "    #print('Subtree, current depth:{}, data point:{}'.format(current_depth, len(data)))\n",
    "    \n",
    "    # stopping condition 1\n",
    "    if intermediate_node_weighted_mistakes(target_values, data_weights)[0] <= 1e-15:\n",
    "        #print('Stopping condition reached: no mistake')\n",
    "        return create_leaf(target_values, data_weights)\n",
    "    \n",
    "    # stopping condition 2\n",
    "    if len(remaining_features) == 0:\n",
    "        #print('Stopping condition reached: all features are used')\n",
    "        return create_leaf(target_values, data_weights)\n",
    "    \n",
    "    # early stopping condition 1\n",
    "    if current_depth == max_depth:\n",
    "        #print('Stopping condition reached: maximum depth')\n",
    "        return create_leaf(target_values, data_weights)\n",
    "\n",
    "    splitting_feature = best_splitting_feature(data, remaining_features, target, data_weights)\n",
    "    remaining_features.remove(splitting_feature)\n",
    "    \n",
    "    left_split = data[data[splitting_feature] == 0]\n",
    "    right_split = data[data[splitting_feature] == 1]\n",
    "    \n",
    "    left_data_weights = data_weights[data[splitting_feature] == 0]\n",
    "    right_data_weights = data_weights[data[splitting_feature] == 1]\n",
    "    \n",
    "    #print('Splitting feature:{}, left split:{}, right split:{}'.format(best_splitting_feature, len(left_split), len(right_split)))\n",
    "    \n",
    "    if (len(left_split) == len(data) or len(right_split) == len(data)):\n",
    "        #print('All feature values are the same. Create leaf node')\n",
    "        return create_leaf(target_values, data_weights)\n",
    "    \n",
    "    left_tree = create_decision_tree(left_split, remaining_features, target, left_data_weights, current_depth + 1, max_depth)  \n",
    "    right_tree = create_decision_tree(right_split, remaining_features, target, right_data_weights, current_depth + 1, max_depth)  \n",
    "        \n",
    "    return {'is_leaf': False, \n",
    "            'prediction': None,\n",
    "            'splitting_feature': splitting_feature,\n",
    "            'left': left_tree, \n",
    "            'right': right_tree}"
   ]
  },
  {
   "cell_type": "code",
   "execution_count": 8,
   "metadata": {
    "collapsed": true
   },
   "outputs": [],
   "source": [
    "def count_nodes(tree):\n",
    "    if tree['is_leaf']:\n",
    "        return 1\n",
    "    return 1 + count_nodes(tree['left']) + count_nodes(tree['right'])"
   ]
  },
  {
   "cell_type": "code",
   "execution_count": 9,
   "metadata": {
    "collapsed": true
   },
   "outputs": [],
   "source": [
    "def make_predicion(tree, x, annotate=False):\n",
    "    if tree['is_leaf']:\n",
    "        if annotate:\n",
    "            print('reach leaf!')\n",
    "        return tree['prediction']\n",
    "    else:\n",
    "        splitting_feature_value = x[tree['splitting_feature']]\n",
    "        if annotate:\n",
    "            print('splitting feature:{}, value:{}'.fotmat(tree['splitting_feature'], splitting_feature_value))\n",
    "        if splitting_feature_value == 0:\n",
    "            return make_predicion(tree['left'], x, annotate)\n",
    "        else:\n",
    "            return make_predicion(tree['right'], x, annotate)"
   ]
  },
  {
   "cell_type": "code",
   "execution_count": 10,
   "metadata": {
    "collapsed": true
   },
   "outputs": [],
   "source": [
    "def compute_classification_error(tree, data):\n",
    "    predictions_list = []\n",
    "    for i in range(len(data)):\n",
    "        predictions_list.append(make_predicion(tree, data.iloc[i]))\n",
    "    predictions = np.array(predictions_list)\n",
    "    error_num = (predictions!=data['safe_loans']).sum()\n",
    "    error_ratio = error_num / float(len(data))\n",
    "    return error_ratio"
   ]
  },
  {
   "cell_type": "code",
   "execution_count": 11,
   "metadata": {
    "collapsed": true
   },
   "outputs": [],
   "source": [
    "# assign weights to only the first 10 and last 10 data points\n",
    "ex_data_weights = np.array([1.]*10 + [0.]*(len(train)-20) + [1.]*10)\n",
    "features = list(train.columns)\n",
    "features.remove('safe_loans')\n",
    "target = 'safe_loans'\n",
    "ex_tree = create_decision_tree(train, features, target, ex_data_weights, max_depth=2)"
   ]
  },
  {
   "cell_type": "code",
   "execution_count": 12,
   "metadata": {},
   "outputs": [
    {
     "name": "stdout",
     "output_type": "stream",
     "text": [
      "0.481248656781\n",
      "0.05\n"
     ]
    }
   ],
   "source": [
    "print(compute_classification_error(ex_tree, train))\n",
    "print(compute_classification_error(ex_tree, train.iloc[0:10].append(train.iloc[-10:])))"
   ]
  },
  {
   "cell_type": "code",
   "execution_count": 13,
   "metadata": {
    "collapsed": true
   },
   "outputs": [],
   "source": [
    "def adaboost_with_tree_stumps(data, features, target, num_tree_stumps):\n",
    "    # start with unweighted data\n",
    "    alpha = np.array([1.]*len(data))\n",
    "    weights = []\n",
    "    tree_stumps = []\n",
    "    \n",
    "    for t in range(num_tree_stumps):\n",
    "        print('=====================================================')\n",
    "        print ('Adaboost Iteration %d' % t)\n",
    "        \n",
    "        # learn a weighted decision tree stump. \n",
    "        # use max_depth=1\n",
    "        tree_stump = create_decision_tree(data, features, target, data_weights=alpha, max_depth=1)\n",
    "        tree_stumps.append(tree_stump)\n",
    "        \n",
    "        predictions_list = []\n",
    "        for i in range(len(data)):\n",
    "            predictions_list.append(make_predicion(tree_stump, data.iloc[i]))\n",
    "        predictions = np.array(predictions_list)\n",
    "        \n",
    "        # produce Boolean array indicating whether each data point is correctly classified\n",
    "        is_correct = data[target] == predictions # array\n",
    "        is_worng = data[target] != predictions\n",
    "\n",
    "        # compute coefficient w hat for this tree stump       \n",
    "        weighted_error = sum(alpha * is_worng)\n",
    "        total_weights = sum(alpha)\n",
    "        weighted_error = weighted_error / total_weights\n",
    "        weight = (1/2) * log((1-weighted_error) / weighted_error)\n",
    "        weights.append(weight)\n",
    "        \n",
    "        # recompute data weights alpha\n",
    "        v_fun = np.vectorize(lambda x : exp(-weight) if x else exp(weight))\n",
    "        adjustment = v_fun(is_correct)\n",
    "        alpha = alpha * adjustment\n",
    "        alpha = alpha / sum(alpha) # normalize data points weights\n",
    "        \n",
    "    return weights, tree_stumps"
   ]
  },
  {
   "cell_type": "code",
   "execution_count": 14,
   "metadata": {},
   "outputs": [
    {
     "name": "stdout",
     "output_type": "stream",
     "text": [
      "=====================================================\n",
      "Adaboost Iteration 0\n",
      "=====================================================\n",
      "Adaboost Iteration 1\n",
      "=====================================================\n",
      "Adaboost Iteration 2\n",
      "=====================================================\n",
      "Adaboost Iteration 3\n",
      "=====================================================\n",
      "Adaboost Iteration 4\n",
      "=====================================================\n",
      "Adaboost Iteration 5\n",
      "=====================================================\n",
      "Adaboost Iteration 6\n",
      "=====================================================\n",
      "Adaboost Iteration 7\n",
      "=====================================================\n",
      "Adaboost Iteration 8\n",
      "=====================================================\n",
      "Adaboost Iteration 9\n"
     ]
    }
   ],
   "source": [
    "weights_10, tree_stumps_10  = adaboost_with_tree_stumps(train, features, target, 10)"
   ]
  },
  {
   "cell_type": "code",
   "execution_count": 15,
   "metadata": {},
   "outputs": [
    {
     "data": {
      "text/plain": [
       "[0.15802933659263743,\n",
       " 0.1768236329364191,\n",
       " 0.09311888971129693,\n",
       " 0.07288885525840554,\n",
       " 0.06706306914118143,\n",
       " 0.06456916961644447,\n",
       " 0.05456055779178564,\n",
       " 0.04351093673362621,\n",
       " 0.02898871150041245,\n",
       " 0.02596250969152032]"
      ]
     },
     "execution_count": 15,
     "metadata": {},
     "output_type": "execute_result"
    }
   ],
   "source": [
    "weights_10"
   ]
  },
  {
   "cell_type": "code",
   "execution_count": 16,
   "metadata": {
    "collapsed": true
   },
   "outputs": [],
   "source": [
    "def make_adaboost_prediction(stump_weights, tree_stumps, data):\n",
    "    scores= np.array([0.]*len(data))\n",
    "    \n",
    "    for t, tree_stump in enumerate(tree_stumps):\n",
    "        predictions_list = []\n",
    "        for i in range(len(data)):\n",
    "            predictions_list.append(make_predicion(tree_stump, data.iloc[i]))\n",
    "        predictions = np.array(predictions_list)\n",
    "        scores += stump_weights[t] * predictions\n",
    "\n",
    "    v_fun = np.vectorize(lambda x : +1 if x > 0 else -1)\n",
    "    return v_fun(scores)"
   ]
  },
  {
   "cell_type": "code",
   "execution_count": 17,
   "metadata": {},
   "outputs": [
    {
     "name": "stdout",
     "output_type": "stream",
     "text": [
      "=====================================================\n",
      "Adaboost Iteration 0\n",
      "=====================================================\n",
      "Adaboost Iteration 1\n",
      "=====================================================\n",
      "Adaboost Iteration 2\n",
      "=====================================================\n",
      "Adaboost Iteration 3\n",
      "=====================================================\n",
      "Adaboost Iteration 4\n",
      "=====================================================\n",
      "Adaboost Iteration 5\n",
      "=====================================================\n",
      "Adaboost Iteration 6\n",
      "=====================================================\n",
      "Adaboost Iteration 7\n",
      "=====================================================\n",
      "Adaboost Iteration 8\n",
      "=====================================================\n",
      "Adaboost Iteration 9\n",
      "=====================================================\n",
      "Adaboost Iteration 10\n",
      "=====================================================\n",
      "Adaboost Iteration 11\n",
      "=====================================================\n",
      "Adaboost Iteration 12\n",
      "=====================================================\n",
      "Adaboost Iteration 13\n",
      "=====================================================\n",
      "Adaboost Iteration 14\n",
      "=====================================================\n",
      "Adaboost Iteration 15\n",
      "=====================================================\n",
      "Adaboost Iteration 16\n",
      "=====================================================\n",
      "Adaboost Iteration 17\n",
      "=====================================================\n",
      "Adaboost Iteration 18\n",
      "=====================================================\n",
      "Adaboost Iteration 19\n",
      "=====================================================\n",
      "Adaboost Iteration 20\n",
      "=====================================================\n",
      "Adaboost Iteration 21\n",
      "=====================================================\n",
      "Adaboost Iteration 22\n",
      "=====================================================\n",
      "Adaboost Iteration 23\n",
      "=====================================================\n",
      "Adaboost Iteration 24\n",
      "=====================================================\n",
      "Adaboost Iteration 25\n",
      "=====================================================\n",
      "Adaboost Iteration 26\n",
      "=====================================================\n",
      "Adaboost Iteration 27\n",
      "=====================================================\n",
      "Adaboost Iteration 28\n",
      "=====================================================\n",
      "Adaboost Iteration 29\n"
     ]
    }
   ],
   "source": [
    "weights_30, tree_stumps_30  = adaboost_with_tree_stumps(train, features, target, 30)"
   ]
  },
  {
   "cell_type": "code",
   "execution_count": 18,
   "metadata": {},
   "outputs": [
    {
     "name": "stdout",
     "output_type": "stream",
     "text": [
      "Iteration:1, error:0.4216365785514722\n",
      "Iteration:2, error:0.4334300451321728\n",
      "Iteration:3, error:0.40003761014399314\n",
      "Iteration:4, error:0.40003761014399314\n",
      "Iteration:5, error:0.3847249086610789\n",
      "Iteration:6, error:0.38461745110681284\n",
      "Iteration:7, error:0.3827638082957232\n",
      "Iteration:8, error:0.38461745110681284\n",
      "Iteration:9, error:0.3827638082957232\n",
      "Iteration:10, error:0.38448312916398025\n",
      "Iteration:11, error:0.3827369439071567\n",
      "Iteration:12, error:0.3814474532559639\n",
      "Iteration:13, error:0.38152804642166344\n",
      "Iteration:14, error:0.3805609284332689\n",
      "Iteration:15, error:0.38050719965613583\n",
      "Iteration:16, error:0.3782237266279819\n",
      "Iteration:17, error:0.378277455405115\n",
      "Iteration:18, error:0.37841177734794756\n",
      "Iteration:19, error:0.37806254029658287\n",
      "Iteration:20, error:0.37876101439931226\n",
      "Iteration:21, error:0.37956694605630775\n",
      "Iteration:22, error:0.37889533634214484\n",
      "Iteration:23, error:0.37889533634214484\n",
      "Iteration:24, error:0.37876101439931226\n",
      "Iteration:25, error:0.37889533634214484\n",
      "Iteration:26, error:0.3789759295078444\n",
      "Iteration:27, error:0.379110251450677\n",
      "Iteration:28, error:0.37892220073071137\n",
      "Iteration:29, error:0.3790296582849774\n",
      "Iteration:30, error:0.37873415001074573\n"
     ]
    }
   ],
   "source": [
    "# compute training error at the end of each iteration\n",
    "training_error_list = []\n",
    "for t in range(1,31):\n",
    "    predictions = make_adaboost_prediction(weights_30[:t], tree_stumps_30[:t], train)\n",
    "    error_num = (predictions!=train['safe_loans']).sum()\n",
    "    error_ratio = error_num / float(len(train))\n",
    "    training_error_list.append(error_ratio)\n",
    "    print('Iteration:{}, error:{}'.format(t, training_error_list[t-1]))    "
   ]
  },
  {
   "cell_type": "code",
   "execution_count": 19,
   "metadata": {},
   "outputs": [
    {
     "name": "stdout",
     "output_type": "stream",
     "text": [
      "Iteration:1, error:0.4233089185695821\n",
      "Iteration:2, error:0.42847910383455406\n",
      "Iteration:3, error:0.3981042654028436\n",
      "Iteration:4, error:0.3981042654028436\n",
      "Iteration:5, error:0.3799009047824214\n",
      "Iteration:6, error:0.38000861697544164\n",
      "Iteration:7, error:0.3792546316242999\n",
      "Iteration:8, error:0.38000861697544164\n",
      "Iteration:9, error:0.3792546316242999\n",
      "Iteration:10, error:0.3796854803963809\n",
      "Iteration:11, error:0.3792546316242999\n",
      "Iteration:12, error:0.37796208530805686\n",
      "Iteration:13, error:0.3792546316242999\n",
      "Iteration:14, error:0.3778543731150366\n",
      "Iteration:15, error:0.3785006462731581\n",
      "Iteration:16, error:0.3778543731150366\n",
      "Iteration:17, error:0.37796208530805686\n",
      "Iteration:18, error:0.3778543731150366\n",
      "Iteration:19, error:0.37817750969409736\n",
      "Iteration:20, error:0.3768849633778544\n",
      "Iteration:21, error:0.37753123653597587\n",
      "Iteration:22, error:0.3767772511848341\n",
      "Iteration:23, error:0.3767772511848341\n",
      "Iteration:24, error:0.3768849633778544\n",
      "Iteration:25, error:0.3767772511848341\n",
      "Iteration:26, error:0.37656182679879363\n",
      "Iteration:27, error:0.3764541146057734\n",
      "Iteration:28, error:0.3769926755708746\n",
      "Iteration:29, error:0.3767772511848341\n",
      "Iteration:30, error:0.3767772511848341\n"
     ]
    }
   ],
   "source": [
    "# compute test error at the end of each iteration\n",
    "test_error_list = []\n",
    "for t in range(1,31):\n",
    "    predictions = make_adaboost_prediction(weights_30[:t], tree_stumps_30[:t], test)\n",
    "    error_num = (predictions!=test['safe_loans']).sum()\n",
    "    error_ratio = error_num / float(len(test))\n",
    "    test_error_list.append(error_ratio)\n",
    "    print('Iteration:{}, error:{}'.format(t, test_error_list[t-1])) "
   ]
  },
  {
   "cell_type": "code",
   "execution_count": 20,
   "metadata": {},
   "outputs": [
    {
     "data": {
      "image/png": "[encoded data removed]",
      "text/plain": [
       "<matplotlib.figure.Figure at 0x1f78e3b3fd0>"
      ]
     },
     "metadata": {},
     "output_type": "display_data"
    }
   ],
   "source": [
    "plt.rcParams['figure.figsize'] = 7, 5\n",
    "plt.plot(range(1,31), training_error_list, '-', linewidth=4.0, label='Training error')\n",
    "plt.plot(range(1,31), test_error_list, '-', linewidth=4.0, label='Test error')\n",
    "plt.title('Performance of Adaboost ensemble')\n",
    "plt.xlabel('# of iterations')\n",
    "plt.ylabel('Classification error')\n",
    "plt.legend(loc='best', prop={'size':15})\n",
    "\n",
    "plt.rcParams.update({'font.size': 16})"
   ]
  }
 ],
 "metadata": {
  "kernelspec": {
   "display_name": "Python 3",
   "language": "python",
   "name": "python3"
  },
  "language_info": {
   "codemirror_mode": {
    "name": "ipython",
    "version": 3
   },
   "file_extension": ".py",
   "mimetype": "text/x-python",
   "name": "python",
   "nbconvert_exporter": "python",
   "pygments_lexer": "ipython3",
   "version": "3.6.1"
  }
 },
 "nbformat": 4,
 "nbformat_minor": 2
}
