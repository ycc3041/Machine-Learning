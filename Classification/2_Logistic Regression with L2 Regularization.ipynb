{
 "cells": [
  {
   "cell_type": "markdown",
   "metadata": {},
   "source": [
    "# W2_Logistic Regression with L2 Regularization"
   ]
  },
  {
   "cell_type": "code",
   "execution_count": 1,
   "metadata": {
    "collapsed": true
   },
   "outputs": [],
   "source": [
    "import numpy as np\n",
    "import pandas as pd\n",
    "import string\n",
    "import matplotlib.pyplot as plt\n",
    "%matplotlib inline"
   ]
  },
  {
   "cell_type": "code",
   "execution_count": 2,
   "metadata": {},
   "outputs": [
    {
     "data": {
      "text/html": [
       "<div>\n",
       "<style>\n",
       "    .dataframe thead tr:only-child th {\n",
       "        text-align: right;\n",
       "    }\n",
       "\n",
       "    .dataframe thead th {\n",
       "        text-align: left;\n",
       "    }\n",
       "\n",
       "    .dataframe tbody tr th {\n",
       "        vertical-align: top;\n",
       "    }\n",
       "</style>\n",
       "<table border=\"1\" class=\"dataframe\">\n",
       "  <thead>\n",
       "    <tr style=\"text-align: right;\">\n",
       "      <th></th>\n",
       "      <th>name</th>\n",
       "      <th>review</th>\n",
       "      <th>rating</th>\n",
       "      <th>sentiment</th>\n",
       "      <th>cleaned_review</th>\n",
       "    </tr>\n",
       "  </thead>\n",
       "  <tbody>\n",
       "    <tr>\n",
       "      <th>0</th>\n",
       "      <td>Stop Pacifier Sucking without tears with Thumb...</td>\n",
       "      <td>All of my kids have cried non-stop when I trie...</td>\n",
       "      <td>5</td>\n",
       "      <td>1</td>\n",
       "      <td>All of my kids have cried nonstop when I tried...</td>\n",
       "    </tr>\n",
       "    <tr>\n",
       "      <th>1</th>\n",
       "      <td>Nature's Lullabies Second Year Sticker Calendar</td>\n",
       "      <td>We wanted to get something to keep track of ou...</td>\n",
       "      <td>5</td>\n",
       "      <td>1</td>\n",
       "      <td>We wanted to get something to keep track of ou...</td>\n",
       "    </tr>\n",
       "    <tr>\n",
       "      <th>2</th>\n",
       "      <td>Nature's Lullabies Second Year Sticker Calendar</td>\n",
       "      <td>My daughter had her 1st baby over a year ago. ...</td>\n",
       "      <td>5</td>\n",
       "      <td>1</td>\n",
       "      <td>My daughter had her 1st baby over a year ago S...</td>\n",
       "    </tr>\n",
       "    <tr>\n",
       "      <th>3</th>\n",
       "      <td>Lamaze Peekaboo, I Love You</td>\n",
       "      <td>One of baby's first and favorite books, and it...</td>\n",
       "      <td>4</td>\n",
       "      <td>1</td>\n",
       "      <td>One of babys first and favorite books and it i...</td>\n",
       "    </tr>\n",
       "    <tr>\n",
       "      <th>4</th>\n",
       "      <td>SoftPlay Peek-A-Boo Where's Elmo A Children's ...</td>\n",
       "      <td>Very cute interactive book! My son loves this ...</td>\n",
       "      <td>5</td>\n",
       "      <td>1</td>\n",
       "      <td>Very cute interactive book My son loves this b...</td>\n",
       "    </tr>\n",
       "  </tbody>\n",
       "</table>\n",
       "</div>"
      ],
      "text/plain": [
       "                                                name  \\\n",
       "0  Stop Pacifier Sucking without tears with Thumb...   \n",
       "1    Nature's Lullabies Second Year Sticker Calendar   \n",
       "2    Nature's Lullabies Second Year Sticker Calendar   \n",
       "3                        Lamaze Peekaboo, I Love You   \n",
       "4  SoftPlay Peek-A-Boo Where's Elmo A Children's ...   \n",
       "\n",
       "                                              review  rating  sentiment  \\\n",
       "0  All of my kids have cried non-stop when I trie...       5          1   \n",
       "1  We wanted to get something to keep track of ou...       5          1   \n",
       "2  My daughter had her 1st baby over a year ago. ...       5          1   \n",
       "3  One of baby's first and favorite books, and it...       4          1   \n",
       "4  Very cute interactive book! My son loves this ...       5          1   \n",
       "\n",
       "                                      cleaned_review  \n",
       "0  All of my kids have cried nonstop when I tried...  \n",
       "1  We wanted to get something to keep track of ou...  \n",
       "2  My daughter had her 1st baby over a year ago S...  \n",
       "3  One of babys first and favorite books and it i...  \n",
       "4  Very cute interactive book My son loves this b...  "
      ]
     },
     "execution_count": 2,
     "metadata": {},
     "output_type": "execute_result"
    }
   ],
   "source": [
    "data = pd.read_csv('amazon_baby_subset.csv')\n",
    "\n",
    "# perform text cleaning\n",
    "data = data.fillna({'review':''})\n",
    "def remove_punctuation(text):\n",
    "    table = str.maketrans(dict.fromkeys(string.punctuation))\n",
    "    return text.translate(table)\n",
    "\n",
    "data['cleaned_review'] = data['review'].apply(remove_punctuation)\n",
    "data.head()"
   ]
  },
  {
   "cell_type": "code",
   "execution_count": 3,
   "metadata": {},
   "outputs": [
    {
     "data": {
      "text/plain": [
       "['baby', 'one', 'great', 'love', 'use']"
      ]
     },
     "execution_count": 3,
     "metadata": {},
     "output_type": "execute_result"
    }
   ],
   "source": [
    "important_words = list(pd.read_json('important_words.json')[0]) #193 words\n",
    "important_words[:5]"
   ]
  },
  {
   "cell_type": "code",
   "execution_count": 4,
   "metadata": {},
   "outputs": [
    {
     "data": {
      "text/html": [
       "<div>\n",
       "<style>\n",
       "    .dataframe thead tr:only-child th {\n",
       "        text-align: right;\n",
       "    }\n",
       "\n",
       "    .dataframe thead th {\n",
       "        text-align: left;\n",
       "    }\n",
       "\n",
       "    .dataframe tbody tr th {\n",
       "        vertical-align: top;\n",
       "    }\n",
       "</style>\n",
       "<table border=\"1\" class=\"dataframe\">\n",
       "  <thead>\n",
       "    <tr style=\"text-align: right;\">\n",
       "      <th></th>\n",
       "      <th>name</th>\n",
       "      <th>review</th>\n",
       "      <th>rating</th>\n",
       "      <th>sentiment</th>\n",
       "      <th>cleaned_review</th>\n",
       "      <th>baby</th>\n",
       "      <th>one</th>\n",
       "      <th>great</th>\n",
       "      <th>love</th>\n",
       "      <th>use</th>\n",
       "      <th>...</th>\n",
       "      <th>seems</th>\n",
       "      <th>picture</th>\n",
       "      <th>completely</th>\n",
       "      <th>wish</th>\n",
       "      <th>buying</th>\n",
       "      <th>babies</th>\n",
       "      <th>won</th>\n",
       "      <th>tub</th>\n",
       "      <th>almost</th>\n",
       "      <th>either</th>\n",
       "    </tr>\n",
       "  </thead>\n",
       "  <tbody>\n",
       "    <tr>\n",
       "      <th>0</th>\n",
       "      <td>Stop Pacifier Sucking without tears with Thumb...</td>\n",
       "      <td>All of my kids have cried non-stop when I trie...</td>\n",
       "      <td>5</td>\n",
       "      <td>1</td>\n",
       "      <td>All of my kids have cried nonstop when I tried...</td>\n",
       "      <td>0</td>\n",
       "      <td>0</td>\n",
       "      <td>1</td>\n",
       "      <td>0</td>\n",
       "      <td>0</td>\n",
       "      <td>...</td>\n",
       "      <td>0</td>\n",
       "      <td>0</td>\n",
       "      <td>0</td>\n",
       "      <td>0</td>\n",
       "      <td>0</td>\n",
       "      <td>0</td>\n",
       "      <td>0</td>\n",
       "      <td>0</td>\n",
       "      <td>0</td>\n",
       "      <td>0</td>\n",
       "    </tr>\n",
       "  </tbody>\n",
       "</table>\n",
       "<p>1 rows × 198 columns</p>\n",
       "</div>"
      ],
      "text/plain": [
       "                                                name  \\\n",
       "0  Stop Pacifier Sucking without tears with Thumb...   \n",
       "\n",
       "                                              review  rating  sentiment  \\\n",
       "0  All of my kids have cried non-stop when I trie...       5          1   \n",
       "\n",
       "                                      cleaned_review  baby  one  great  love  \\\n",
       "0  All of my kids have cried nonstop when I tried...     0    0      1     0   \n",
       "\n",
       "   use   ...    seems  picture  completely  wish  buying  babies  won  tub  \\\n",
       "0    0   ...        0        0           0     0       0       0    0    0   \n",
       "\n",
       "   almost  either  \n",
       "0       0       0  \n",
       "\n",
       "[1 rows x 198 columns]"
      ]
     },
     "execution_count": 4,
     "metadata": {},
     "output_type": "execute_result"
    }
   ],
   "source": [
    "for word in important_words:\n",
    "    data[word] = data['cleaned_review'].apply(lambda s: s.split().count(word))\n",
    "data.head(1)"
   ]
  },
  {
   "cell_type": "code",
   "execution_count": 5,
   "metadata": {},
   "outputs": [
    {
     "name": "stdout",
     "output_type": "stream",
     "text": [
      "# training data: 42361\n",
      "# validation data: 10711\n"
     ]
    }
   ],
   "source": [
    "# import train data and validation data\n",
    "train_index = list(pd.read_json('module-4-assignment-train-idx.json')[0])\n",
    "val_index = list(pd.read_json('module-4-assignment-validation-idx.json')[0])\n",
    "print('# training data:', len(train_index))\n",
    "print('# validation data:', len(val_index))\n",
    "train = data.iloc[train_index]\n",
    "val = data.iloc[val_index]"
   ]
  },
  {
   "cell_type": "code",
   "execution_count": 6,
   "metadata": {
    "scrolled": true
   },
   "outputs": [
    {
     "name": "stderr",
     "output_type": "stream",
     "text": [
      "C:\\Program Files\\Anaconda3\\lib\\site-packages\\ipykernel_launcher.py:3: SettingWithCopyWarning: \n",
      "A value is trying to be set on a copy of a slice from a DataFrame.\n",
      "Try using .loc[row_indexer,col_indexer] = value instead\n",
      "\n",
      "See the caveats in the documentation: http://pandas.pydata.org/pandas-docs/stable/indexing.html#indexing-view-versus-copy\n",
      "  This is separate from the ipykernel package so we can avoid doing imports until\n"
     ]
    }
   ],
   "source": [
    "# convert data frame to multi-dimensional array\n",
    "def get_numpy_data(dataframe, features, label):\n",
    "    dataframe['constant'] = 1\n",
    "    features = ['constant'] + features\n",
    "    feature_matrix = dataframe[features].values\n",
    "    label_array = dataframe[label].values\n",
    "    return(feature_matrix, label_array)\n",
    "\n",
    "train_feature_matrix, train_label = get_numpy_data(train, important_words, 'sentiment')\n",
    "val_feature_matrix, val_label = get_numpy_data(val, important_words, 'sentiment')"
   ]
  },
  {
   "cell_type": "code",
   "execution_count": 7,
   "metadata": {},
   "outputs": [
    {
     "data": {
      "text/plain": [
       "(42361, 194)"
      ]
     },
     "execution_count": 7,
     "metadata": {},
     "output_type": "execute_result"
    }
   ],
   "source": [
    "train_feature_matrix.shape"
   ]
  },
  {
   "cell_type": "code",
   "execution_count": 8,
   "metadata": {
    "collapsed": true
   },
   "outputs": [],
   "source": [
    "# estimate conditional probability with link function\n",
    "def predict_probability(feature_matrix, coef):\n",
    "    score = np.dot(feature_matrix, coef)\n",
    "    prob_predictions = 1 / (1 + np.exp(-score))\n",
    "    return prob_predictions"
   ]
  },
  {
   "cell_type": "code",
   "execution_count": 9,
   "metadata": {
    "collapsed": true
   },
   "outputs": [],
   "source": [
    "def feature_derivative_with_L2(errors, feature, coefficient, l2_penalty, is_constant):\n",
    "    if is_constant == False:\n",
    "        derivative = np.dot(errors, feature) - 2 * l2_penalty * coefficient\n",
    "    else:\n",
    "        derivative = np.dot(errors, feature) # don't regularize intercept term\n",
    "    return derivative"
   ]
  },
  {
   "cell_type": "code",
   "execution_count": 10,
   "metadata": {
    "collapsed": true
   },
   "outputs": [],
   "source": [
    "def compute_log_likelihood_with_L2(feature_matrix, output_array, coef, l2_penalty):\n",
    "    indicator = (output_array == 1)\n",
    "    scores = np.dot(feature_matrix, coef)\n",
    "    lp = np.sum((indicator - 1) * scores - np.log(1. + np.exp(-scores))) - l2_penalty * np.sum(coefficients[1:] ** 2)\n",
    "    return lp"
   ]
  },
  {
   "cell_type": "code",
   "execution_count": 11,
   "metadata": {
    "collapsed": true
   },
   "outputs": [],
   "source": [
    "def logistic_regression_with_L2(feature_matrix, label_array, init_coef, step_size, l2_penalty, max_iter):\n",
    "    coef = init_coef\n",
    "    indicator = (label_array==1)\n",
    "    itr = 0\n",
    "    \n",
    "    while itr < max_iter:\n",
    "        prob_predictions = predict_probability(feature_matrix, coef)\n",
    "        errors = indicator - prob_predictions\n",
    "        for index in range(len(init_coef)):\n",
    "            is_constant = (index == 0)\n",
    "            derivative = feature_derivative_with_L2(errors, feature_matrix[:,index], coef[index], l2_penalty, is_constant)\n",
    "            coef[index] = coef[index] + step_size * derivative\n",
    "        itr += 1\n",
    "        \n",
    "    return coef"
   ]
  },
  {
   "cell_type": "code",
   "execution_count": 12,
   "metadata": {},
   "outputs": [],
   "source": [
    "# explore effects of L2 regularization using different l2 penalties\n",
    "coef_penalty_0 = logistic_regression_with_L2(train_feature_matrix, train_label, np.zeros(194), 5e-6, 0, 501)\n",
    "coef_penalty_4 = logistic_regression_with_L2(train_feature_matrix, train_label, np.zeros(194), 5e-6, 4, 501)\n",
    "coef_penalty_10 = logistic_regression_with_L2(train_feature_matrix, train_label, np.zeros(194), 5e-6, 10, 501)\n",
    "coef_penalty_1e2= logistic_regression_with_L2(train_feature_matrix, train_label, np.zeros(194), 5e-6, 1e2, 501)\n",
    "coef_penalty_1e3 = logistic_regression_with_L2(train_feature_matrix, train_label, np.zeros(194), 5e-6, 1e3, 501)\n",
    "coef_penalty_1e5 = logistic_regression_with_L2(train_feature_matrix, train_label, np.zeros(194), 5e-6, 1e5, 501)"
   ]
  },
  {
   "cell_type": "code",
   "execution_count": 13,
   "metadata": {
    "collapsed": true
   },
   "outputs": [],
   "source": [
    "# coef_dict = dict.fromkeys([0, 4, 10, 1e2, 1e3, 1e5])\n",
    "# for key in coef_dict.keys():\n",
    "#    coef_dict[key] = logistic_regression_with_L2(train_feature_matrix, train_label, np.zeros(194), key, 0, 501)"
   ]
  },
  {
   "cell_type": "code",
   "execution_count": 14,
   "metadata": {},
   "outputs": [
    {
     "data": {
      "text/html": [
       "<div>\n",
       "<style>\n",
       "    .dataframe thead tr:only-child th {\n",
       "        text-align: right;\n",
       "    }\n",
       "\n",
       "    .dataframe thead th {\n",
       "        text-align: left;\n",
       "    }\n",
       "\n",
       "    .dataframe tbody tr th {\n",
       "        vertical-align: top;\n",
       "    }\n",
       "</style>\n",
       "<table border=\"1\" class=\"dataframe\">\n",
       "  <thead>\n",
       "    <tr style=\"text-align: right;\">\n",
       "      <th></th>\n",
       "      <th>baby</th>\n",
       "      <th>one</th>\n",
       "      <th>great</th>\n",
       "      <th>love</th>\n",
       "      <th>use</th>\n",
       "      <th>would</th>\n",
       "      <th>like</th>\n",
       "      <th>easy</th>\n",
       "      <th>little</th>\n",
       "      <th>seat</th>\n",
       "      <th>...</th>\n",
       "      <th>seems</th>\n",
       "      <th>picture</th>\n",
       "      <th>completely</th>\n",
       "      <th>wish</th>\n",
       "      <th>buying</th>\n",
       "      <th>babies</th>\n",
       "      <th>won</th>\n",
       "      <th>tub</th>\n",
       "      <th>almost</th>\n",
       "      <th>either</th>\n",
       "    </tr>\n",
       "  </thead>\n",
       "  <tbody>\n",
       "    <tr>\n",
       "      <th>p=0</th>\n",
       "      <td>0.074073</td>\n",
       "      <td>0.012753</td>\n",
       "      <td>0.801625</td>\n",
       "      <td>1.058554</td>\n",
       "      <td>-0.000104</td>\n",
       "      <td>-0.287021</td>\n",
       "      <td>-0.003384</td>\n",
       "      <td>0.984559</td>\n",
       "      <td>0.524419</td>\n",
       "      <td>-0.086968</td>\n",
       "      <td>...</td>\n",
       "      <td>0.058308</td>\n",
       "      <td>-0.196906</td>\n",
       "      <td>-0.277845</td>\n",
       "      <td>0.173191</td>\n",
       "      <td>-0.132197</td>\n",
       "      <td>0.052494</td>\n",
       "      <td>0.004960</td>\n",
       "      <td>-0.166745</td>\n",
       "      <td>-0.031916</td>\n",
       "      <td>-0.228852</td>\n",
       "    </tr>\n",
       "    <tr>\n",
       "      <th>p=4</th>\n",
       "      <td>0.073994</td>\n",
       "      <td>0.012495</td>\n",
       "      <td>0.796897</td>\n",
       "      <td>1.050856</td>\n",
       "      <td>0.000163</td>\n",
       "      <td>-0.286027</td>\n",
       "      <td>-0.003442</td>\n",
       "      <td>0.977600</td>\n",
       "      <td>0.521385</td>\n",
       "      <td>-0.086125</td>\n",
       "      <td>...</td>\n",
       "      <td>0.057905</td>\n",
       "      <td>-0.195273</td>\n",
       "      <td>-0.275461</td>\n",
       "      <td>0.171640</td>\n",
       "      <td>-0.131083</td>\n",
       "      <td>0.052130</td>\n",
       "      <td>0.004907</td>\n",
       "      <td>-0.165367</td>\n",
       "      <td>-0.031621</td>\n",
       "      <td>-0.226793</td>\n",
       "    </tr>\n",
       "    <tr>\n",
       "      <th>p=10</th>\n",
       "      <td>0.073877</td>\n",
       "      <td>0.012115</td>\n",
       "      <td>0.789935</td>\n",
       "      <td>1.039529</td>\n",
       "      <td>0.000556</td>\n",
       "      <td>-0.284564</td>\n",
       "      <td>-0.003527</td>\n",
       "      <td>0.967362</td>\n",
       "      <td>0.516917</td>\n",
       "      <td>-0.084883</td>\n",
       "      <td>...</td>\n",
       "      <td>0.057312</td>\n",
       "      <td>-0.192866</td>\n",
       "      <td>-0.271947</td>\n",
       "      <td>0.169352</td>\n",
       "      <td>-0.129441</td>\n",
       "      <td>0.051594</td>\n",
       "      <td>0.004830</td>\n",
       "      <td>-0.163338</td>\n",
       "      <td>-0.031186</td>\n",
       "      <td>-0.223758</td>\n",
       "    </tr>\n",
       "    <tr>\n",
       "      <th>p=100</th>\n",
       "      <td>0.072360</td>\n",
       "      <td>0.007247</td>\n",
       "      <td>0.701425</td>\n",
       "      <td>0.896644</td>\n",
       "      <td>0.005481</td>\n",
       "      <td>-0.265993</td>\n",
       "      <td>-0.004635</td>\n",
       "      <td>0.838245</td>\n",
       "      <td>0.460235</td>\n",
       "      <td>-0.069109</td>\n",
       "      <td>...</td>\n",
       "      <td>0.049753</td>\n",
       "      <td>-0.162143</td>\n",
       "      <td>-0.227098</td>\n",
       "      <td>0.140022</td>\n",
       "      <td>-0.108471</td>\n",
       "      <td>0.044805</td>\n",
       "      <td>0.003848</td>\n",
       "      <td>-0.137693</td>\n",
       "      <td>-0.025604</td>\n",
       "      <td>-0.184986</td>\n",
       "    </tr>\n",
       "    <tr>\n",
       "      <th>p=1000</th>\n",
       "      <td>0.059752</td>\n",
       "      <td>-0.008761</td>\n",
       "      <td>0.376012</td>\n",
       "      <td>0.418354</td>\n",
       "      <td>0.017326</td>\n",
       "      <td>-0.188662</td>\n",
       "      <td>-0.007043</td>\n",
       "      <td>0.401904</td>\n",
       "      <td>0.251221</td>\n",
       "      <td>-0.017718</td>\n",
       "      <td>...</td>\n",
       "      <td>0.022875</td>\n",
       "      <td>-0.061171</td>\n",
       "      <td>-0.081775</td>\n",
       "      <td>0.044374</td>\n",
       "      <td>-0.040331</td>\n",
       "      <td>0.021026</td>\n",
       "      <td>0.001084</td>\n",
       "      <td>-0.054778</td>\n",
       "      <td>-0.007361</td>\n",
       "      <td>-0.061138</td>\n",
       "    </tr>\n",
       "    <tr>\n",
       "      <th>p=1000000</th>\n",
       "      <td>0.001784</td>\n",
       "      <td>-0.001827</td>\n",
       "      <td>0.008950</td>\n",
       "      <td>0.009042</td>\n",
       "      <td>0.000418</td>\n",
       "      <td>-0.008127</td>\n",
       "      <td>-0.000827</td>\n",
       "      <td>0.008808</td>\n",
       "      <td>0.005941</td>\n",
       "      <td>0.000611</td>\n",
       "      <td>...</td>\n",
       "      <td>0.000329</td>\n",
       "      <td>-0.001151</td>\n",
       "      <td>-0.001421</td>\n",
       "      <td>0.000468</td>\n",
       "      <td>-0.000792</td>\n",
       "      <td>0.000365</td>\n",
       "      <td>0.000017</td>\n",
       "      <td>-0.000936</td>\n",
       "      <td>-0.000125</td>\n",
       "      <td>-0.000980</td>\n",
       "    </tr>\n",
       "  </tbody>\n",
       "</table>\n",
       "<p>6 rows × 193 columns</p>\n",
       "</div>"
      ],
      "text/plain": [
       "               baby       one     great      love       use     would  \\\n",
       "p=0        0.074073  0.012753  0.801625  1.058554 -0.000104 -0.287021   \n",
       "p=4        0.073994  0.012495  0.796897  1.050856  0.000163 -0.286027   \n",
       "p=10       0.073877  0.012115  0.789935  1.039529  0.000556 -0.284564   \n",
       "p=100      0.072360  0.007247  0.701425  0.896644  0.005481 -0.265993   \n",
       "p=1000     0.059752 -0.008761  0.376012  0.418354  0.017326 -0.188662   \n",
       "p=1000000  0.001784 -0.001827  0.008950  0.009042  0.000418 -0.008127   \n",
       "\n",
       "               like      easy    little      seat    ...        seems  \\\n",
       "p=0       -0.003384  0.984559  0.524419 -0.086968    ...     0.058308   \n",
       "p=4       -0.003442  0.977600  0.521385 -0.086125    ...     0.057905   \n",
       "p=10      -0.003527  0.967362  0.516917 -0.084883    ...     0.057312   \n",
       "p=100     -0.004635  0.838245  0.460235 -0.069109    ...     0.049753   \n",
       "p=1000    -0.007043  0.401904  0.251221 -0.017718    ...     0.022875   \n",
       "p=1000000 -0.000827  0.008808  0.005941  0.000611    ...     0.000329   \n",
       "\n",
       "            picture  completely      wish    buying    babies       won  \\\n",
       "p=0       -0.196906   -0.277845  0.173191 -0.132197  0.052494  0.004960   \n",
       "p=4       -0.195273   -0.275461  0.171640 -0.131083  0.052130  0.004907   \n",
       "p=10      -0.192866   -0.271947  0.169352 -0.129441  0.051594  0.004830   \n",
       "p=100     -0.162143   -0.227098  0.140022 -0.108471  0.044805  0.003848   \n",
       "p=1000    -0.061171   -0.081775  0.044374 -0.040331  0.021026  0.001084   \n",
       "p=1000000 -0.001151   -0.001421  0.000468 -0.000792  0.000365  0.000017   \n",
       "\n",
       "                tub    almost    either  \n",
       "p=0       -0.166745 -0.031916 -0.228852  \n",
       "p=4       -0.165367 -0.031621 -0.226793  \n",
       "p=10      -0.163338 -0.031186 -0.223758  \n",
       "p=100     -0.137693 -0.025604 -0.184986  \n",
       "p=1000    -0.054778 -0.007361 -0.061138  \n",
       "p=1000000 -0.000936 -0.000125 -0.000980  \n",
       "\n",
       "[6 rows x 193 columns]"
      ]
     },
     "execution_count": 14,
     "metadata": {},
     "output_type": "execute_result"
    }
   ],
   "source": [
    "coef_df = pd.DataFrame(data=[coef_penalty_0[1:], coef_penalty_4[1:], coef_penalty_10[1:], coef_penalty_1e2[1:], coef_penalty_1e3[1:], coef_penalty_1e5[1:]], columns=important_words, index=['p=0','p=4','p=10','p=100', 'p=1000', 'p=1000000'])\n",
    "coef_df"
   ]
  },
  {
   "cell_type": "code",
   "execution_count": 15,
   "metadata": {},
   "outputs": [
    {
     "name": "stdout",
     "output_type": "stream",
     "text": [
      "positive words: ['love', 'loves', 'easy', 'perfect', 'great']\n",
      "negative words: ['disappointed', 'money', 'return', 'waste', 'returned']\n"
     ]
    }
   ],
   "source": [
    "positive_words = list(coef_df.loc['p=0'].sort_values(ascending=False)[:5].index)\n",
    "negative_words = list(coef_df.loc['p=0'].sort_values()[:5].index)\n",
    "print('positive words:', positive_words)\n",
    "print('negative words:', negative_words)"
   ]
  },
  {
   "cell_type": "code",
   "execution_count": 16,
   "metadata": {},
   "outputs": [
    {
     "data": {
      "image/png": "[encoded data removed]",
      "text/plain": [
       "<matplotlib.figure.Figure at 0x228a9c0ab70>"
      ]
     },
     "metadata": {},
     "output_type": "display_data"
    }
   ],
   "source": [
    "plt.rcParams['figure.figsize'] = (10, 6)\n",
    "\n",
    "cmap_positive = plt.get_cmap('Reds')\n",
    "cmap_negative = plt.get_cmap('Blues')\n",
    "\n",
    "l2_penalty_list=[0, 4, 10, 1e2, 1e3, 1e5]\n",
    "plt.plot(l2_penalty_list, [0.]*len(l2_penalty_list), '--', lw=1, color='k')\n",
    "\n",
    "for i in range(len(positive_words)):\n",
    "    color = cmap_positive(0.8*((i+1)/(len(positive_words)*1.2)+0.15))\n",
    "    plt.plot(l2_penalty_list, coef_df[positive_words[i]], '-', label=positive_words[i], linewidth=2, color=color)\n",
    "    \n",
    "for i in range(len(negative_words)):\n",
    "    color = cmap_negative(0.8*((i+1)/(len(negative_words)*1.2)+0.15))\n",
    "    plt.plot(l2_penalty_list, coef_df[negative_words[i]], '-', label=negative_words[i], linewidth=2, color=color)\n",
    "    \n",
    "plt.legend(loc='best', ncol=4, prop={'size':15}, columnspacing=0.5)\n",
    "plt.axis([1, 1e5, -1, 2])\n",
    "plt.title('Coefficient path')\n",
    "plt.xlabel('L2 penalty ($\\lambda$)')\n",
    "plt.ylabel('Coefficient value')\n",
    "plt.xscale('log')\n",
    "plt.rcParams.update({'font.size': 14})\n",
    "plt.tight_layout()"
   ]
  },
  {
   "cell_type": "code",
   "execution_count": 17,
   "metadata": {
    "collapsed": true
   },
   "outputs": [],
   "source": [
    "# measure accuracy \n",
    "def compute_acc(feature_matrix, coef, label_array):\n",
    "    score = np.dot(feature_matrix, coef)\n",
    "    v_fun = np.vectorize(lambda x: 1 if x>=0 else -1)\n",
    "    estimated_label = v_fun(score)\n",
    "    accuracy = sum(estimated_label==label_array) / len(label_array)\n",
    "    return accuracy"
   ]
  },
  {
   "cell_type": "code",
   "execution_count": 18,
   "metadata": {},
   "outputs": [
    {
     "name": "stdout",
     "output_type": "stream",
     "text": [
      "accuracy on testing data\n"
     ]
    },
    {
     "data": {
      "text/html": [
       "<div>\n",
       "<style>\n",
       "    .dataframe thead tr:only-child th {\n",
       "        text-align: right;\n",
       "    }\n",
       "\n",
       "    .dataframe thead th {\n",
       "        text-align: left;\n",
       "    }\n",
       "\n",
       "    .dataframe tbody tr th {\n",
       "        vertical-align: top;\n",
       "    }\n",
       "</style>\n",
       "<table border=\"1\" class=\"dataframe\">\n",
       "  <thead>\n",
       "    <tr style=\"text-align: right;\">\n",
       "      <th></th>\n",
       "      <th>0</th>\n",
       "      <th>1</th>\n",
       "      <th>2</th>\n",
       "      <th>3</th>\n",
       "      <th>4</th>\n",
       "      <th>5</th>\n",
       "    </tr>\n",
       "  </thead>\n",
       "  <tbody>\n",
       "    <tr>\n",
       "      <th>penalty</th>\n",
       "      <td>0.00000</td>\n",
       "      <td>4.00000</td>\n",
       "      <td>10.00000</td>\n",
       "      <td>100.00000</td>\n",
       "      <td>1000.00000</td>\n",
       "      <td>100000.00000</td>\n",
       "    </tr>\n",
       "    <tr>\n",
       "      <th>accuracy</th>\n",
       "      <td>0.78516</td>\n",
       "      <td>0.78511</td>\n",
       "      <td>0.78499</td>\n",
       "      <td>0.78398</td>\n",
       "      <td>0.77586</td>\n",
       "      <td>0.68037</td>\n",
       "    </tr>\n",
       "  </tbody>\n",
       "</table>\n",
       "</div>"
      ],
      "text/plain": [
       "                0        1         2          3           4             5\n",
       "penalty   0.00000  4.00000  10.00000  100.00000  1000.00000  100000.00000\n",
       "accuracy  0.78516  0.78511   0.78499    0.78398     0.77586       0.68037"
      ]
     },
     "execution_count": 18,
     "metadata": {},
     "output_type": "execute_result"
    }
   ],
   "source": [
    "print('accuracy on testing data')\n",
    "acc_list = []\n",
    "for coef in [coef_penalty_0, coef_penalty_4, coef_penalty_10, coef_penalty_1e2, coef_penalty_1e3, coef_penalty_1e5]:\n",
    "    acc_list.append(round(compute_acc(train_feature_matrix, coef, train_label), 5))\n",
    "acc_df = pd.DataFrame(data=[l2_penalty_list, acc_list], index=[['penalty', 'accuracy']])\n",
    "acc_df"
   ]
  },
  {
   "cell_type": "code",
   "execution_count": 19,
   "metadata": {},
   "outputs": [
    {
     "name": "stdout",
     "output_type": "stream",
     "text": [
      "accuracy on validation data\n"
     ]
    },
    {
     "data": {
      "text/html": [
       "<div>\n",
       "<style>\n",
       "    .dataframe thead tr:only-child th {\n",
       "        text-align: right;\n",
       "    }\n",
       "\n",
       "    .dataframe thead th {\n",
       "        text-align: left;\n",
       "    }\n",
       "\n",
       "    .dataframe tbody tr th {\n",
       "        vertical-align: top;\n",
       "    }\n",
       "</style>\n",
       "<table border=\"1\" class=\"dataframe\">\n",
       "  <thead>\n",
       "    <tr style=\"text-align: right;\">\n",
       "      <th></th>\n",
       "      <th>0</th>\n",
       "      <th>1</th>\n",
       "      <th>2</th>\n",
       "      <th>3</th>\n",
       "      <th>4</th>\n",
       "      <th>5</th>\n",
       "    </tr>\n",
       "  </thead>\n",
       "  <tbody>\n",
       "    <tr>\n",
       "      <th>penalty</th>\n",
       "      <td>0.00000</td>\n",
       "      <td>4.00000</td>\n",
       "      <td>10.00000</td>\n",
       "      <td>100.00000</td>\n",
       "      <td>1000.00000</td>\n",
       "      <td>100000.00000</td>\n",
       "    </tr>\n",
       "    <tr>\n",
       "      <th>accuracy</th>\n",
       "      <td>0.78144</td>\n",
       "      <td>0.78153</td>\n",
       "      <td>0.78172</td>\n",
       "      <td>0.78107</td>\n",
       "      <td>0.77136</td>\n",
       "      <td>0.66782</td>\n",
       "    </tr>\n",
       "  </tbody>\n",
       "</table>\n",
       "</div>"
      ],
      "text/plain": [
       "                0        1         2          3           4             5\n",
       "penalty   0.00000  4.00000  10.00000  100.00000  1000.00000  100000.00000\n",
       "accuracy  0.78144  0.78153   0.78172    0.78107     0.77136       0.66782"
      ]
     },
     "execution_count": 19,
     "metadata": {},
     "output_type": "execute_result"
    }
   ],
   "source": [
    "print('accuracy on validation data')\n",
    "acc_list = []\n",
    "for coef in [coef_penalty_0, coef_penalty_4, coef_penalty_10, coef_penalty_1e2, coef_penalty_1e3, coef_penalty_1e5]:\n",
    "    acc_list.append(round(compute_acc(val_feature_matrix, coef, val_label), 5))\n",
    "acc_df = pd.DataFrame(data=[l2_penalty_list, acc_list], index=[['penalty', 'accuracy']])\n",
    "acc_df"
   ]
  }
 ],
 "metadata": {
  "kernelspec": {
   "display_name": "Python 3",
   "language": "python",
   "name": "python3"
  },
  "language_info": {
   "codemirror_mode": {
    "name": "ipython",
    "version": 3
   },
   "file_extension": ".py",
   "mimetype": "text/x-python",
   "name": "python",
   "nbconvert_exporter": "python",
   "pygments_lexer": "ipython3",
   "version": "3.6.1"
  }
 },
 "nbformat": 4,
 "nbformat_minor": 2
}
