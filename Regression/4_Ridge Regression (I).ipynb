{
 "cells": [
  {
   "cell_type": "markdown",
   "metadata": {},
   "source": [
    "# W4_Ridge Regression (I)"
   ]
  },
  {
   "cell_type": "code",
   "execution_count": 1,
   "metadata": {},
   "outputs": [],
   "source": [
    "import numpy as np\n",
    "import pandas as pd\n",
    "import matplotlib.pyplot as plt\n",
    "%matplotlib inline\n",
    "from sklearn.linear_model import Ridge\n",
    "from math import floor"
   ]
  },
  {
   "cell_type": "code",
   "execution_count": 2,
   "metadata": {
    "collapsed": true
   },
   "outputs": [],
   "source": [
    "# get polynomial dataframe\n",
    "def get_polynomial_df(feature, degree):\n",
    "    df = pd.DataFrame()\n",
    "    df['power_1'] = feature.copy()\n",
    "    \n",
    "    if degree > 1:\n",
    "        for power in range(2, degree+1):\n",
    "            name = 'power_' + str(power)\n",
    "            df[name] = feature.copy() ** power\n",
    "    return df"
   ]
  },
  {
   "cell_type": "code",
   "execution_count": 3,
   "metadata": {},
   "outputs": [
    {
     "data": {
      "text/html": [
       "<div>\n",
       "<style>\n",
       "    .dataframe thead tr:only-child th {\n",
       "        text-align: right;\n",
       "    }\n",
       "\n",
       "    .dataframe thead th {\n",
       "        text-align: left;\n",
       "    }\n",
       "\n",
       "    .dataframe tbody tr th {\n",
       "        vertical-align: top;\n",
       "    }\n",
       "</style>\n",
       "<table border=\"1\" class=\"dataframe\">\n",
       "  <thead>\n",
       "    <tr style=\"text-align: right;\">\n",
       "      <th></th>\n",
       "      <th>id</th>\n",
       "      <th>date</th>\n",
       "      <th>price</th>\n",
       "      <th>bedrooms</th>\n",
       "      <th>bathrooms</th>\n",
       "      <th>sqft_living</th>\n",
       "      <th>sqft_lot</th>\n",
       "      <th>floors</th>\n",
       "      <th>waterfront</th>\n",
       "      <th>view</th>\n",
       "      <th>...</th>\n",
       "      <th>grade</th>\n",
       "      <th>sqft_above</th>\n",
       "      <th>sqft_basement</th>\n",
       "      <th>yr_built</th>\n",
       "      <th>yr_renovated</th>\n",
       "      <th>zipcode</th>\n",
       "      <th>lat</th>\n",
       "      <th>long</th>\n",
       "      <th>sqft_living15</th>\n",
       "      <th>sqft_lot15</th>\n",
       "    </tr>\n",
       "  </thead>\n",
       "  <tbody>\n",
       "    <tr>\n",
       "      <th>19452</th>\n",
       "      <td>3980300371</td>\n",
       "      <td>20140926T000000</td>\n",
       "      <td>142000.0</td>\n",
       "      <td>0.0</td>\n",
       "      <td>0.00</td>\n",
       "      <td>290.0</td>\n",
       "      <td>20875</td>\n",
       "      <td>1.0</td>\n",
       "      <td>0</td>\n",
       "      <td>0</td>\n",
       "      <td>...</td>\n",
       "      <td>1</td>\n",
       "      <td>290</td>\n",
       "      <td>0</td>\n",
       "      <td>1963</td>\n",
       "      <td>0</td>\n",
       "      <td>98024</td>\n",
       "      <td>47.5308</td>\n",
       "      <td>-121.888</td>\n",
       "      <td>1620.0</td>\n",
       "      <td>22850.0</td>\n",
       "    </tr>\n",
       "    <tr>\n",
       "      <th>15381</th>\n",
       "      <td>2856101479</td>\n",
       "      <td>20140701T000000</td>\n",
       "      <td>276000.0</td>\n",
       "      <td>1.0</td>\n",
       "      <td>0.75</td>\n",
       "      <td>370.0</td>\n",
       "      <td>1801</td>\n",
       "      <td>1.0</td>\n",
       "      <td>0</td>\n",
       "      <td>0</td>\n",
       "      <td>...</td>\n",
       "      <td>5</td>\n",
       "      <td>370</td>\n",
       "      <td>0</td>\n",
       "      <td>1923</td>\n",
       "      <td>0</td>\n",
       "      <td>98117</td>\n",
       "      <td>47.6778</td>\n",
       "      <td>-122.389</td>\n",
       "      <td>1340.0</td>\n",
       "      <td>5000.0</td>\n",
       "    </tr>\n",
       "    <tr>\n",
       "      <th>860</th>\n",
       "      <td>1723049033</td>\n",
       "      <td>20140620T000000</td>\n",
       "      <td>245000.0</td>\n",
       "      <td>1.0</td>\n",
       "      <td>0.75</td>\n",
       "      <td>380.0</td>\n",
       "      <td>15000</td>\n",
       "      <td>1.0</td>\n",
       "      <td>0</td>\n",
       "      <td>0</td>\n",
       "      <td>...</td>\n",
       "      <td>5</td>\n",
       "      <td>380</td>\n",
       "      <td>0</td>\n",
       "      <td>1963</td>\n",
       "      <td>0</td>\n",
       "      <td>98168</td>\n",
       "      <td>47.4810</td>\n",
       "      <td>-122.323</td>\n",
       "      <td>1170.0</td>\n",
       "      <td>15000.0</td>\n",
       "    </tr>\n",
       "    <tr>\n",
       "      <th>18379</th>\n",
       "      <td>1222029077</td>\n",
       "      <td>20141029T000000</td>\n",
       "      <td>265000.0</td>\n",
       "      <td>0.0</td>\n",
       "      <td>0.75</td>\n",
       "      <td>384.0</td>\n",
       "      <td>213444</td>\n",
       "      <td>1.0</td>\n",
       "      <td>0</td>\n",
       "      <td>0</td>\n",
       "      <td>...</td>\n",
       "      <td>4</td>\n",
       "      <td>384</td>\n",
       "      <td>0</td>\n",
       "      <td>2003</td>\n",
       "      <td>0</td>\n",
       "      <td>98070</td>\n",
       "      <td>47.4177</td>\n",
       "      <td>-122.491</td>\n",
       "      <td>1920.0</td>\n",
       "      <td>224341.0</td>\n",
       "    </tr>\n",
       "    <tr>\n",
       "      <th>4868</th>\n",
       "      <td>6896300380</td>\n",
       "      <td>20141002T000000</td>\n",
       "      <td>228000.0</td>\n",
       "      <td>0.0</td>\n",
       "      <td>1.00</td>\n",
       "      <td>390.0</td>\n",
       "      <td>5900</td>\n",
       "      <td>1.0</td>\n",
       "      <td>0</td>\n",
       "      <td>0</td>\n",
       "      <td>...</td>\n",
       "      <td>4</td>\n",
       "      <td>390</td>\n",
       "      <td>0</td>\n",
       "      <td>1953</td>\n",
       "      <td>0</td>\n",
       "      <td>98118</td>\n",
       "      <td>47.5260</td>\n",
       "      <td>-122.261</td>\n",
       "      <td>2170.0</td>\n",
       "      <td>6000.0</td>\n",
       "    </tr>\n",
       "  </tbody>\n",
       "</table>\n",
       "<p>5 rows × 21 columns</p>\n",
       "</div>"
      ],
      "text/plain": [
       "               id             date     price  bedrooms  bathrooms  \\\n",
       "19452  3980300371  20140926T000000  142000.0       0.0       0.00   \n",
       "15381  2856101479  20140701T000000  276000.0       1.0       0.75   \n",
       "860    1723049033  20140620T000000  245000.0       1.0       0.75   \n",
       "18379  1222029077  20141029T000000  265000.0       0.0       0.75   \n",
       "4868   6896300380  20141002T000000  228000.0       0.0       1.00   \n",
       "\n",
       "       sqft_living  sqft_lot  floors  waterfront  view     ...      grade  \\\n",
       "19452        290.0     20875     1.0           0     0     ...          1   \n",
       "15381        370.0      1801     1.0           0     0     ...          5   \n",
       "860          380.0     15000     1.0           0     0     ...          5   \n",
       "18379        384.0    213444     1.0           0     0     ...          4   \n",
       "4868         390.0      5900     1.0           0     0     ...          4   \n",
       "\n",
       "       sqft_above  sqft_basement  yr_built  yr_renovated  zipcode      lat  \\\n",
       "19452         290              0      1963             0    98024  47.5308   \n",
       "15381         370              0      1923             0    98117  47.6778   \n",
       "860           380              0      1963             0    98168  47.4810   \n",
       "18379         384              0      2003             0    98070  47.4177   \n",
       "4868          390              0      1953             0    98118  47.5260   \n",
       "\n",
       "          long  sqft_living15  sqft_lot15  \n",
       "19452 -121.888         1620.0     22850.0  \n",
       "15381 -122.389         1340.0      5000.0  \n",
       "860   -122.323         1170.0     15000.0  \n",
       "18379 -122.491         1920.0    224341.0  \n",
       "4868  -122.261         2170.0      6000.0  \n",
       "\n",
       "[5 rows x 21 columns]"
      ]
     },
     "execution_count": 3,
     "metadata": {},
     "output_type": "execute_result"
    }
   ],
   "source": [
    "dtype_dict = {'bathrooms':float, 'waterfront':int, 'sqft_above':int, 'sqft_living15':float, 'grade':int, 'yr_renovated':int, 'price':float, 'bedrooms':float, 'zipcode':str, 'long':float, 'sqft_lot15':float, 'sqft_living':float, 'floors':float, 'condition':int, 'lat':float, 'date':str, 'sqft_basement':int, 'yr_built':int, 'id':str, 'sqft_lot':int, 'view':int}\n",
    "data = pd.read_csv('kc_house_data.csv', dtype=dtype_dict)\n",
    "data.sort_values(by=['sqft_living', 'price'], inplace=True)\n",
    "data.head()"
   ]
  },
  {
   "cell_type": "code",
   "execution_count": 4,
   "metadata": {},
   "outputs": [
    {
     "name": "stdout",
     "output_type": "stream",
     "text": [
      "124.873306483\n"
     ]
    }
   ],
   "source": [
    "# build a Ridge model with small penalty\n",
    "poly15 = get_polynomial_df(data['sqft_living'], 15)\n",
    "poly15['price'] = data['price'].copy()\n",
    "l2_small_penalty = 1.5e-5\n",
    "model15 = Ridge(alpha=l2_small_penalty, normalize=True).fit(poly15.drop('price', axis=1), poly15['price'])\n",
    "# see the coefficient of power_1\n",
    "print(model15.coef_[0])"
   ]
  },
  {
   "cell_type": "code",
   "execution_count": 5,
   "metadata": {},
   "outputs": [],
   "source": [
    "# import 4 differeent ata sets\n",
    "set_1 = pd.read_csv('wk3_kc_house_set_1_data.csv', dtype=dtype_dict)\n",
    "set_2 = pd.read_csv('wk3_kc_house_set_2_data.csv', dtype=dtype_dict)\n",
    "set_3 = pd.read_csv('wk3_kc_house_set_3_data.csv', dtype=dtype_dict)\n",
    "set_4 = pd.read_csv('wk3_kc_house_set_4_data.csv', dtype=dtype_dict)\n",
    "\n",
    "# compare different results using the same panalty\n",
    "def comparing_4_datasets(penalty):\n",
    "    \n",
    "    i = 1\n",
    "    \n",
    "    for dataset in (set_1, set_2, set_3, set_4):\n",
    "        poly = get_polynomial_df(dataset['sqft_living'], 15)\n",
    "        poly['price'] = dataset['price']\n",
    "        model = Ridge(alpha=penalty, normalize=True).fit(poly.drop('price', axis=1), poly['price'])\n",
    "    \n",
    "        plt.plot(poly['power_1'], model.predict(poly.drop('price', axis=1)), label='dataset_'+str(i))\n",
    "        plt.xlabel('sqft living')\n",
    "        plt.ylabel('estimated price')\n",
    "        plt.legend()\n",
    "    \n",
    "        print(\"The coefficient of 'power_1' in the model using dataset {} is {}\".format(i, round(model.coef_[0],3)))\n",
    "    \n",
    "        i += 1"
   ]
  },
  {
   "cell_type": "code",
   "execution_count": 6,
   "metadata": {},
   "outputs": [
    {
     "name": "stdout",
     "output_type": "stream",
     "text": [
      "The coefficient of 'power_1' in the model using dataset 1 is 544.669\n",
      "The coefficient of 'power_1' in the model using dataset 2 is 859.363\n",
      "The coefficient of 'power_1' in the model using dataset 3 is -755.396\n",
      "The coefficient of 'power_1' in the model using dataset 4 is 1119.446\n"
     ]
    },
    {
     "data": {
      "image/png": "[encoded data removed]",
      "text/plain": [
       "<matplotlib.figure.Figure at 0x18c9190e240>"
      ]
     },
     "metadata": {},
     "output_type": "display_data"
    }
   ],
   "source": [
    "# use a small penalty\n",
    "l2_small_penalty=1e-9\n",
    "comparing_4_datasets(l2_small_penalty)"
   ]
  },
  {
   "cell_type": "code",
   "execution_count": 7,
   "metadata": {},
   "outputs": [
    {
     "name": "stdout",
     "output_type": "stream",
     "text": [
      "The coefficient of 'power_1' in the model using dataset 1 is 2.328\n",
      "The coefficient of 'power_1' in the model using dataset 2 is 2.098\n",
      "The coefficient of 'power_1' in the model using dataset 3 is 2.289\n",
      "The coefficient of 'power_1' in the model using dataset 4 is 2.086\n"
     ]
    },
    {
     "data": {
      "image/png": "[encoded data removed]",
      "text/plain": [
       "<matplotlib.figure.Figure at 0x18c9209ce10>"
      ]
     },
     "metadata": {},
     "output_type": "display_data"
    }
   ],
   "source": [
    "# use a big penalty\n",
    "l2_large_penalty=1.23e2\n",
    "comparing_4_datasets(l2_large_penalty)"
   ]
  },
  {
   "cell_type": "code",
   "execution_count": 8,
   "metadata": {
    "collapsed": true
   },
   "outputs": [],
   "source": [
    "train_valid_shuffled = pd.read_csv('wk3_kc_house_train_valid_shuffled.csv', dtype=dtype_dict)\n",
    "test = pd.read_csv('wk3_kc_house_test_data.csv', dtype=dtype_dict)"
   ]
  },
  {
   "cell_type": "code",
   "execution_count": 9,
   "metadata": {},
   "outputs": [],
   "source": [
    "data = get_polynomial_df(train_valid_shuffled['sqft_living'], 15)\n",
    "data['price'] = train_valid_shuffled['price']"
   ]
  },
  {
   "cell_type": "code",
   "execution_count": 10,
   "metadata": {},
   "outputs": [
    {
     "name": "stdout",
     "output_type": "stream",
     "text": [
      "When panalty is 1000.0, it has minimum RSS 265017874561645.25\n"
     ]
    }
   ],
   "source": [
    "# implement k-cross-validation\n",
    "def k_fold_cross_validation(k, l2_penalty, data):    \n",
    "    n = len(data) \n",
    "    RSS = 0\n",
    "    for i in range(k):\n",
    "        start = floor((n/k) * i)\n",
    "        end = floor((n/k) * (i+1))\n",
    "        val_data = data[start:end+1]\n",
    "        train_data = data[0:start].append(data[end+1:n])\n",
    "        \n",
    "        model = Ridge(alpha=l2_penalty, normalize=True).fit(train_data.drop('price', axis=1), train_data['price'])\n",
    "        \n",
    "        predictions = model.predict(val_data.drop('price', axis=1))\n",
    "        RSS += sum((predictions - val_data['price']) ** 2)\n",
    "    return RSS/k\n",
    "\n",
    "min_rss = float('inf')\n",
    "best_p = None\n",
    "all_RSS = []\n",
    "\n",
    "for penalty in np.logspace(3, 9, num=13):\n",
    "    RSS = k_fold_cross_validation(10, penalty, data)\n",
    "    all_RSS.append(RSS)\n",
    "    if RSS < min_rss:\n",
    "        min_rss = RSS\n",
    "        best_p = penalty\n",
    "df = pd.DataFrame(data=[np.logspace(3, 9, num=13), np.array(all_RSS)], index=['penalty', 'RSS'])\n",
    "df\n",
    "print('When panalty is {}, it has minimum RSS {}'.format(best_p, min_rss))"
   ]
  },
  {
   "cell_type": "code",
   "execution_count": 11,
   "metadata": {},
   "outputs": [
    {
     "name": "stdout",
     "output_type": "stream",
     "text": [
      "2.83856861224e+14\n"
     ]
    }
   ],
   "source": [
    "# use optimal penalty to train model and get test error\n",
    "train = pd.read_csv('wk3_kc_house_train_data.csv', dtype=dtype_dict)\n",
    "test = pd.read_csv('wk3_kc_house_test_data.csv', dtype=dtype_dict)\n",
    "train_data = get_polynomial_df(train['sqft_living'], 15)\n",
    "train_data['price'] = train['price']\n",
    "test_data = get_polynomial_df(test['sqft_living'], 15)\n",
    "test_data['price'] = test['price']\n",
    "model = Ridge(alpha=best_p, normalize=True).fit(data.drop('price', axis=1), data['price'])\n",
    "predictions = model.predict(test_data.drop('price', axis=1))\n",
    "test_RSS = sum((predictions-test_data['price']) ** 2)\n",
    "print(test_RSS)"
   ]
  }
 ],
 "metadata": {
  "kernelspec": {
   "display_name": "Python 3",
   "language": "python",
   "name": "python3"
  },
  "language_info": {
   "codemirror_mode": {
    "name": "ipython",
    "version": 3
   },
   "file_extension": ".py",
   "mimetype": "text/x-python",
   "name": "python",
   "nbconvert_exporter": "python",
   "pygments_lexer": "ipython3",
   "version": "3.6.1"
  }
 },
 "nbformat": 4,
 "nbformat_minor": 2
}
