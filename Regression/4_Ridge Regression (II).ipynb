{
 "cells": [
  {
   "cell_type": "markdown",
   "metadata": {},
   "source": [
    "# W4_Ridge Regression (II)"
   ]
  },
  {
   "cell_type": "code",
   "execution_count": 1,
   "metadata": {
    "collapsed": true
   },
   "outputs": [],
   "source": [
    "import numpy as np\n",
    "import pandas as pd\n",
    "import matplotlib.pyplot as plt\n",
    "%matplotlib inline"
   ]
  },
  {
   "cell_type": "code",
   "execution_count": 2,
   "metadata": {
    "collapsed": true
   },
   "outputs": [],
   "source": [
    "# import data\n",
    "dtype_dict = {'bathrooms':float, 'waterfront':int, 'sqft_above':int, 'sqft_living15':float, 'grade':int, 'yr_renovated':int, 'price':float, 'bedrooms':float, 'zipcode':str, 'long':float, 'sqft_lot15':float, 'sqft_living':float, 'floors':str, 'condition':int, 'lat':float, 'date':str, 'sqft_basement':int, 'yr_built':int, 'id':str, 'sqft_lot':int, 'view':int}\n",
    "data = pd.read_csv('kc_house_data.csv', dtype=dtype_dict)\n",
    "train_data = pd.read_csv('kc_house_train_data.csv', dtype=dtype_dict)\n",
    "test_data = pd.read_csv('kc_house_test_data.csv', dtype=dtype_dict)"
   ]
  },
  {
   "cell_type": "code",
   "execution_count": 3,
   "metadata": {
    "collapsed": true
   },
   "outputs": [],
   "source": [
    "# get numpy array we need from dataframe\n",
    "def get_numpy_data(dataframe, features, output):\n",
    "    dataframe['constant'] = 1\n",
    "    features = ['constant'] + features\n",
    "    features_matrix = dataframe[features].values\n",
    "    output_array = dataframe[output].values \n",
    "    return (features_matrix, output_array)"
   ]
  },
  {
   "cell_type": "code",
   "execution_count": 4,
   "metadata": {
    "collapsed": true
   },
   "outputs": [],
   "source": [
    "# compute for estimated output\n",
    "def get_predictions(features_matrix, weights):\n",
    "    predictions = np.dot(features_matrix, weights)\n",
    "    return predictions"
   ]
  },
  {
   "cell_type": "code",
   "execution_count": 5,
   "metadata": {
    "scrolled": true
   },
   "outputs": [
    {
     "name": "stdout",
     "output_type": "stream",
     "text": [
      "# Testing get_feature_derivative function:\n",
      "-5.6554166816e+13\n",
      "-5.6554166816e+13\n",
      "-22446749330.0\n",
      "-22446749330.0\n"
     ]
    }
   ],
   "source": [
    "# get a certrain feature's derivative\n",
    "def get_feature_derivative(errors, feature, weights, l2_penalty, is_constant):\n",
    "    if is_constant == False:\n",
    "        term1 = 2 * np.dot(errors, feature)\n",
    "        term2 = 2 * l2_penalty * weights # regularization term\n",
    "        derivative = term1 + term2\n",
    "    else:\n",
    "        derivative = 2 * np.dot(errors, feature) # we don't want to do regularization on intercept\n",
    "    return derivative\n",
    "\n",
    "# test get_feature_derivative function\n",
    "print('# Testing get_feature_derivative function:')\n",
    "\n",
    "example_features, example_output = get_numpy_data(data, ['sqft_living'], 'price')\n",
    "my_weights = np.array([1., 10.])\n",
    "example_predictions = get_predictions(example_features, my_weights)\n",
    "errors = example_predictions - example_output \n",
    "\n",
    "# next two lines should print the same values\n",
    "print(get_feature_derivative(errors, example_features[:,1], my_weights[1], 1, False))\n",
    "print(np.sum(errors*example_features[:,1])*2+20.)\n",
    "\n",
    "# next two lines should print the same values\n",
    "print(get_feature_derivative(errors, example_features[:,0], my_weights[0], 1, True))\n",
    "print(np.sum(errors)*2.)"
   ]
  },
  {
   "cell_type": "code",
   "execution_count": 6,
   "metadata": {
    "collapsed": true
   },
   "outputs": [],
   "source": [
    "# implement gradient descent of Ridge regression\n",
    "def gradient_descent(features_matrix, output, ini_weights, step_size, l2_penalty, iteration):\n",
    "    weights = ini_weights\n",
    "    num = 0\n",
    "    while num <= iteration:\n",
    "        \n",
    "        predictions = get_predictions(features_matrix, weights)\n",
    "        errors = predictions - output\n",
    "        \n",
    "        # loop over every weight\n",
    "        for i in range(len(weights)):\n",
    "            if i == 0:\n",
    "                is_constant = True\n",
    "            else:\n",
    "                is_constant = False\n",
    "            \n",
    "            derivative = get_feature_derivative(errors, features_matrix[:,i], weights[i], l2_penalty, is_constant)\n",
    "            weights[i] = weights[i] - step_size * derivative\n",
    "        \n",
    "        num += 1\n",
    "        \n",
    "    return weights"
   ]
  },
  {
   "cell_type": "code",
   "execution_count": 7,
   "metadata": {},
   "outputs": [],
   "source": [
    "# test gradient_descent function using different penalty\n",
    "# simple feature\n",
    "simple_feature = ['sqft_living']\n",
    "output = 'price'\n",
    "train_feature_1, train_output_1 = get_numpy_data(train_data, simple_feature, output)\n",
    "test_feature_1, test_output_1 = get_numpy_data(test_data, simple_feature, output)\n",
    "ini_weights_1 = np.array([0., 0.])\n",
    "step_size = 1e-12\n",
    "iteration = 1000"
   ]
  },
  {
   "cell_type": "code",
   "execution_count": 8,
   "metadata": {},
   "outputs": [
    {
     "data": {
      "text/plain": [
       "array([ -1.63382329e-01,   2.63024369e+02])"
      ]
     },
     "execution_count": 8,
     "metadata": {},
     "output_type": "execute_result"
    }
   ],
   "source": [
    "simple_weights_penalty_0 = gradient_descent(train_feature_1, train_output_1, np.array([0.,0.]), step_size, 0, iteration)\n",
    "simple_weights_penalty_0"
   ]
  },
  {
   "cell_type": "code",
   "execution_count": 9,
   "metadata": {},
   "outputs": [
    {
     "data": {
      "text/plain": [
       "array([   9.77704731,  124.57217382])"
      ]
     },
     "execution_count": 9,
     "metadata": {},
     "output_type": "execute_result"
    }
   ],
   "source": [
    "simple_weights_penalty_high = gradient_descent(train_feature_1, train_output_1, np.array([0.,0.]), step_size, 1e11, iteration)\n",
    "simple_weights_penalty_high"
   ]
  },
  {
   "cell_type": "code",
   "execution_count": 10,
   "metadata": {},
   "outputs": [
    {
     "name": "stdout",
     "output_type": "stream",
     "text": [
      "[ 0.  0.]\n",
      "[ -1.63382329e-01   2.63024369e+02]\n",
      "[   9.77704731  124.57217382]\n"
     ]
    }
   ],
   "source": [
    "print(ini_weights_1)\n",
    "print(simple_weights_penalty_0)\n",
    "print(simple_weights_penalty_high)"
   ]
  },
  {
   "cell_type": "code",
   "execution_count": 11,
   "metadata": {},
   "outputs": [
    {
     "name": "stdout",
     "output_type": "stream",
     "text": [
      "1.78427328614e+15 2.75723632143e+14 6.9464208928e+14\n"
     ]
    }
   ],
   "source": [
    "# compute RSS\n",
    "def get_RSS(X, weights, y):\n",
    "    predictions = get_predictions(X, weights)\n",
    "    return sum((predictions-y) ** 2)\n",
    "\n",
    "# compare RSS (simple feature)\n",
    "RSS1 = get_RSS(test_feature_1, ini_weights_1, test_output_1)\n",
    "RSS2 = get_RSS(test_feature_1, simple_weights_penalty_0, test_output_1)\n",
    "RSS3 = get_RSS(test_feature_1, simple_weights_penalty_high, test_output_1)\n",
    "print(RSS1, RSS2, RSS3)"
   ]
  },
  {
   "cell_type": "code",
   "execution_count": 12,
   "metadata": {},
   "outputs": [
    {
     "data": {
      "text/plain": [
       "array([  -0.35780714,  243.05572642,   22.41312485])"
      ]
     },
     "execution_count": 12,
     "metadata": {},
     "output_type": "execute_result"
    }
   ],
   "source": [
    "# test gradient_descent function using different penalty\n",
    "# multiple features\n",
    "features = ['sqft_living', 'sqft_living15']\n",
    "output = 'price'\n",
    "train_feature_2, train_output_2 = get_numpy_data(train_data, features, output)\n",
    "test_feature_2, test_output_2 = get_numpy_data(test_data, features, output)\n",
    "\n",
    "ini_weights_2 = np.array([0., 0., 0.])\n",
    "\n",
    "multiple_weights_penalty_0 = gradient_descent(train_feature_2, train_output_2, np.array([0.,0.,0.]), step_size, 0, iteration)\n",
    "multiple_weights_penalty_0"
   ]
  },
  {
   "cell_type": "code",
   "execution_count": 13,
   "metadata": {},
   "outputs": [
    {
     "data": {
      "text/plain": [
       "array([  6.74968592,  91.48927275,  78.43658676])"
      ]
     },
     "execution_count": 13,
     "metadata": {},
     "output_type": "execute_result"
    }
   ],
   "source": [
    "multiple_weights_penalty_high = gradient_descent(train_feature_2, train_output_2, np.array([0.,0.,0.]), step_size, 1e11, iteration)\n",
    "multiple_weights_penalty_high"
   ]
  },
  {
   "cell_type": "code",
   "execution_count": 14,
   "metadata": {},
   "outputs": [
    {
     "name": "stdout",
     "output_type": "stream",
     "text": [
      "1.78427328614e+15 2.75723632143e+14 6.9464208928e+14\n"
     ]
    }
   ],
   "source": [
    "RSS_1 = get_RSS(test_feature_2, ini_weights_2, test_output_2)\n",
    "RSS_2 = get_RSS(test_feature_2, multiple_weights_penalty_0, test_output_2)\n",
    "RSS_3 = get_RSS(test_feature_2, multiple_weights_penalty_high, test_output_2)\n",
    "print(RSS1, RSS2, RSS3)"
   ]
  },
  {
   "cell_type": "code",
   "execution_count": 15,
   "metadata": {},
   "outputs": [
    {
     "data": {
      "text/html": [
       "<div>\n",
       "<style>\n",
       "    .dataframe thead tr:only-child th {\n",
       "        text-align: right;\n",
       "    }\n",
       "\n",
       "    .dataframe thead th {\n",
       "        text-align: left;\n",
       "    }\n",
       "\n",
       "    .dataframe tbody tr th {\n",
       "        vertical-align: top;\n",
       "    }\n",
       "</style>\n",
       "<table border=\"1\" class=\"dataframe\">\n",
       "  <thead>\n",
       "    <tr style=\"text-align: right;\">\n",
       "      <th></th>\n",
       "      <th>id</th>\n",
       "      <th>date</th>\n",
       "      <th>price</th>\n",
       "      <th>bedrooms</th>\n",
       "      <th>bathrooms</th>\n",
       "      <th>sqft_living</th>\n",
       "      <th>sqft_lot</th>\n",
       "      <th>floors</th>\n",
       "      <th>waterfront</th>\n",
       "      <th>view</th>\n",
       "      <th>...</th>\n",
       "      <th>sqft_above</th>\n",
       "      <th>sqft_basement</th>\n",
       "      <th>yr_built</th>\n",
       "      <th>yr_renovated</th>\n",
       "      <th>zipcode</th>\n",
       "      <th>lat</th>\n",
       "      <th>long</th>\n",
       "      <th>sqft_living15</th>\n",
       "      <th>sqft_lot15</th>\n",
       "      <th>constant</th>\n",
       "    </tr>\n",
       "  </thead>\n",
       "  <tbody>\n",
       "    <tr>\n",
       "      <th>0</th>\n",
       "      <td>0114101516</td>\n",
       "      <td>20140528T000000</td>\n",
       "      <td>310000.0</td>\n",
       "      <td>3.0</td>\n",
       "      <td>1.0</td>\n",
       "      <td>1430.0</td>\n",
       "      <td>19901</td>\n",
       "      <td>1.5</td>\n",
       "      <td>0</td>\n",
       "      <td>0</td>\n",
       "      <td>...</td>\n",
       "      <td>1430</td>\n",
       "      <td>0</td>\n",
       "      <td>1927</td>\n",
       "      <td>0</td>\n",
       "      <td>98028</td>\n",
       "      <td>47.7558</td>\n",
       "      <td>-122.229</td>\n",
       "      <td>1780.0</td>\n",
       "      <td>12697.0</td>\n",
       "      <td>1</td>\n",
       "    </tr>\n",
       "  </tbody>\n",
       "</table>\n",
       "<p>1 rows × 22 columns</p>\n",
       "</div>"
      ],
      "text/plain": [
       "           id             date     price  bedrooms  bathrooms  sqft_living  \\\n",
       "0  0114101516  20140528T000000  310000.0       3.0        1.0       1430.0   \n",
       "\n",
       "   sqft_lot floors  waterfront  view    ...     sqft_above  sqft_basement  \\\n",
       "0     19901    1.5           0     0    ...           1430              0   \n",
       "\n",
       "   yr_built  yr_renovated  zipcode      lat     long  sqft_living15  \\\n",
       "0      1927             0    98028  47.7558 -122.229         1780.0   \n",
       "\n",
       "   sqft_lot15  constant  \n",
       "0     12697.0         1  \n",
       "\n",
       "[1 rows x 22 columns]"
      ]
     },
     "execution_count": 15,
     "metadata": {},
     "output_type": "execute_result"
    }
   ],
   "source": [
    "# use first row in test data set to compare which model has lower RSS\n",
    "test_data.head(1)"
   ]
  },
  {
   "cell_type": "code",
   "execution_count": 16,
   "metadata": {},
   "outputs": [],
   "source": [
    "X = np.array([1, 1430.0, 1780.0])\n",
    "prediction1 = get_predictions(X, multiple_weights_penalty_0)\n",
    "prediction2 = get_predictions(X, multiple_weights_penalty_high)"
   ]
  },
  {
   "cell_type": "code",
   "execution_count": 17,
   "metadata": {},
   "outputs": [
    {
     "data": {
      "text/plain": [
       "387464.69321329583"
      ]
     },
     "execution_count": 17,
     "metadata": {},
     "output_type": "execute_result"
    }
   ],
   "source": [
    "prediction1"
   ]
  },
  {
   "cell_type": "code",
   "execution_count": 18,
   "metadata": {},
   "outputs": [
    {
     "data": {
      "text/plain": [
       "270453.53414681269"
      ]
     },
     "execution_count": 18,
     "metadata": {},
     "output_type": "execute_result"
    }
   ],
   "source": [
    "prediction2"
   ]
  }
 ],
 "metadata": {
  "kernelspec": {
   "display_name": "Python 3",
   "language": "python",
   "name": "python3"
  },
  "language_info": {
   "codemirror_mode": {
    "name": "ipython",
    "version": 3
   },
   "file_extension": ".py",
   "mimetype": "text/x-python",
   "name": "python",
   "nbconvert_exporter": "python",
   "pygments_lexer": "ipython3",
   "version": "3.6.1"
  }
 },
 "nbformat": 4,
 "nbformat_minor": 2
}
