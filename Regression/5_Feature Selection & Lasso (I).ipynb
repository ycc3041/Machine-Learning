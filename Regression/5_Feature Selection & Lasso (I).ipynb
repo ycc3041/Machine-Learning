{
 "cells": [
  {
   "cell_type": "markdown",
   "metadata": {},
   "source": [
    "# W5_Feature Selection & Lasso (I)"
   ]
  },
  {
   "cell_type": "code",
   "execution_count": 1,
   "metadata": {
    "collapsed": true
   },
   "outputs": [],
   "source": [
    "import numpy as np\n",
    "import pandas as pd\n",
    "from math import log, sqrt\n",
    "from sklearn.linear_model import Lasso"
   ]
  },
  {
   "cell_type": "code",
   "execution_count": 2,
   "metadata": {
    "collapsed": true
   },
   "outputs": [],
   "source": [
    "# import data\n",
    "dtype_dict = {'bathrooms':float, 'waterfront':int, 'sqft_above':int, 'sqft_living15':float, 'grade':int, 'yr_renovated':int, 'price':float, 'bedrooms':float, 'zipcode':str, 'long':float, 'sqft_lot15':float, 'sqft_living':float, 'floors':float, 'condition':int, 'lat':float, 'date':str, 'sqft_basement':int, 'yr_built':int, 'id':str, 'sqft_lot':int, 'view':int}\n",
    "data = pd.read_csv('kc_house_data.csv', dtype=dtype_dict)\n",
    "\n",
    "# create new features\n",
    "data['sqft_living_sqrt'] = data['sqft_living'].apply(sqrt)\n",
    "data['sqft_lot_sqrt'] = data['sqft_lot'].apply(sqrt)\n",
    "data['bedrooms_square'] = data['bedrooms'] * data['bedrooms']\n",
    "data['floors_square'] = data['floors'] * data['floors']"
   ]
  },
  {
   "cell_type": "code",
   "execution_count": 3,
   "metadata": {},
   "outputs": [
    {
     "name": "stdout",
     "output_type": "stream",
     "text": [
      "# Selected features:\n",
      "sqft_living\n",
      "view\n",
      "grade\n"
     ]
    }
   ],
   "source": [
    "# build a lasso model\n",
    "all_features = ['bedrooms', 'bedrooms_square', 'bathrooms', 'sqft_living', 'sqft_living_sqrt', 'sqft_lot', 'sqft_lot_sqrt','floors', 'floors_square', 'waterfront', 'view', 'condition', 'grade', 'sqft_above','sqft_basement','yr_built', 'yr_renovated']\n",
    "all_model = Lasso(alpha=5e2, normalize=True).fit(data[all_features], data['price'])\n",
    "print('# Selected features:')\n",
    "for i in range(len(all_features)):\n",
    "    if all_model.coef_[i] != 0:\n",
    "        print(all_features[i])"
   ]
  },
  {
   "cell_type": "code",
   "execution_count": 4,
   "metadata": {},
   "outputs": [
    {
     "name": "stdout",
     "output_type": "stream",
     "text": [
      "best penalty:10.0, min RSS:398213327300134.06\n"
     ]
    }
   ],
   "source": [
    "def get_RSS(X, model, y):\n",
    "    predictions = model.predict(X)\n",
    "    return sum((predictions - y) ** 2)\n",
    "\n",
    "# import data\n",
    "test = pd.read_csv('wk3_kc_house_test_data.csv', dtype=dtype_dict)\n",
    "train = pd.read_csv('wk3_kc_house_train_data.csv', dtype=dtype_dict)\n",
    "validation = pd.read_csv('wk3_kc_house_valid_data.csv', dtype=dtype_dict)\n",
    "\n",
    "# create new features \n",
    "for data in (test, train, validation):\n",
    "    data['sqft_living_sqrt'] = data['sqft_living'].apply(sqrt)\n",
    "    data['sqft_lot_sqrt'] = data['sqft_lot'].apply(sqrt)\n",
    "    data['bedrooms_square'] = data['bedrooms'] * data['bedrooms']\n",
    "    data['floors_square'] = data['floors'] * data['floors']\n",
    "\n",
    "f = None\n",
    "best_model = None\n",
    "best_penalty = None\n",
    "min_RSS = float('inf')\n",
    "\n",
    "# search for optimal penalty\n",
    "for penalty in np.logspace(1, 7, num=13):\n",
    "    model = Lasso(alpha=penalty, normalize=True).fit(train[all_features], train['price'])\n",
    "    # compute RSS on validation data\n",
    "    RSS = get_RSS(validation[all_features], model, validation['price'])\n",
    "    if RSS < min_RSS:\n",
    "        best_penalty = penalty\n",
    "        best_model = model\n",
    "        min_RSS = RSS\n",
    "print('best penalty:{}, min RSS:{}'.format(best_penalty, min_RSS))"
   ]
  },
  {
   "cell_type": "code",
   "execution_count": 5,
   "metadata": {},
   "outputs": [
    {
     "data": {
      "text/plain": [
       "98467402552698.875"
      ]
     },
     "execution_count": 5,
     "metadata": {},
     "output_type": "execute_result"
    }
   ],
   "source": [
    "# compute RSS on test data using best penalty\n",
    "get_RSS(test[all_features], best_model, test['price'])"
   ]
  },
  {
   "cell_type": "code",
   "execution_count": 6,
   "metadata": {},
   "outputs": [
    {
     "data": {
      "text/plain": [
       "15"
      ]
     },
     "execution_count": 6,
     "metadata": {},
     "output_type": "execute_result"
    }
   ],
   "source": [
    "# count the number of nonzero coefficients\n",
    "np.count_nonzero(best_model.coef_) + np.count_nonzero(best_model.intercept_)"
   ]
  },
  {
   "cell_type": "code",
   "execution_count": 7,
   "metadata": {},
   "outputs": [
    {
     "name": "stdout",
     "output_type": "stream",
     "text": [
      "127.42749857 263.665089873\n"
     ]
    }
   ],
   "source": [
    "# limit the nonzero coefficients to be 7\n",
    "max_nonzeros = 7\n",
    "penalty_too_low = []\n",
    "penalty_too_high = []\n",
    "\n",
    "# find the penalty range we are interested in\n",
    "for penalty in np.logspace(1, 4, num=20):\n",
    "    model = Lasso(alpha=penalty, normalize=True).fit(train[all_features], train['price'])\n",
    "    nonzeros = np.count_nonzero(model.coef_) + np.count_nonzero(model.intercept_)\n",
    "    # too many nonzeors coefficients -> penalty is too low\n",
    "    if nonzeros > max_nonzeros:\n",
    "        penalty_too_low.append(penalty)\n",
    "    # too few nonzeors coefficients -> penalty is too high\n",
    "    elif nonzeros < max_nonzeros:\n",
    "        penalty_too_high.append(penalty)\n",
    "        \n",
    "l1_penalty_min = max(penalty_too_low)\n",
    "l1_penalty_max = min(penalty_too_high)\n",
    "\n",
    "print(l1_penalty_min, l1_penalty_max)"
   ]
  },
  {
   "cell_type": "code",
   "execution_count": 8,
   "metadata": {},
   "outputs": [
    {
     "name": "stdout",
     "output_type": "stream",
     "text": [
      "best penalty:156.10909673930755, min RSS:440037365263317.0\n"
     ]
    }
   ],
   "source": [
    "best_penalty_7 = None\n",
    "best_model_7 = None\n",
    "min_RSS_7 = float('inf')\n",
    "\n",
    "for penalty in np.linspace(l1_penalty_min, l1_penalty_max, num=20):\n",
    "    model = Lasso(alpha=penalty, normalize=True).fit(train[all_features], train['price'])\n",
    "    nonzeros = np.count_nonzero(model.coef_) + np.count_nonzero(model.intercept_)\n",
    "    RSS = get_RSS(validation[all_features], model, validation['price'])\n",
    "    if (RSS < min_RSS_7) and (nonzeros == max_nonzeros):\n",
    "        best_penalty_7 = penalty\n",
    "        best_model_7 = model\n",
    "        min_RSS_7 = RSS\n",
    "print('best penalty:{}, min RSS:{}'.format(best_penalty_7, min_RSS_7))"
   ]
  },
  {
   "cell_type": "code",
   "execution_count": 9,
   "metadata": {},
   "outputs": [
    {
     "name": "stdout",
     "output_type": "stream",
     "text": [
      "# Selected features:\n",
      "bathrooms\n",
      "sqft_living\n",
      "waterfront\n",
      "view\n",
      "grade\n",
      "yr_built\n"
     ]
    }
   ],
   "source": [
    "print('# Selected features:')\n",
    "for i in range(len(all_features)):\n",
    "    if best_model_7.coef_[i] != 0:\n",
    "        print(all_features[i])"
   ]
  }
 ],
 "metadata": {
  "kernelspec": {
   "display_name": "Python 3",
   "language": "python",
   "name": "python3"
  },
  "language_info": {
   "codemirror_mode": {
    "name": "ipython",
    "version": 3
   },
   "file_extension": ".py",
   "mimetype": "text/x-python",
   "name": "python",
   "nbconvert_exporter": "python",
   "pygments_lexer": "ipython3",
   "version": "3.6.1"
  }
 },
 "nbformat": 4,
 "nbformat_minor": 2
}
