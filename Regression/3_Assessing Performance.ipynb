{
 "cells": [
  {
   "cell_type": "markdown",
   "metadata": {},
   "source": [
    "# W3_Assessing Performance"
   ]
  },
  {
   "cell_type": "code",
   "execution_count": 1,
   "metadata": {
    "collapsed": true
   },
   "outputs": [],
   "source": [
    "import numpy\n",
    "import pandas as pd\n",
    "import matplotlib.pyplot as plt\n",
    "%matplotlib inline\n",
    "from sklearn.linear_model import LinearRegression\n",
    "from sklearn.model_selection import train_test_split"
   ]
  },
  {
   "cell_type": "code",
   "execution_count": 2,
   "metadata": {
    "collapsed": true
   },
   "outputs": [],
   "source": [
    "# get polynomial dataframe\n",
    "def get_polynomial_df(feature, degree):\n",
    "    df = pd.DataFrame()\n",
    "    df['power_1'] = feature\n",
    "    \n",
    "    if degree > 1:\n",
    "        for power in range(2, degree+1):\n",
    "            name = 'power_' + str(power)\n",
    "            df[name] = feature ** power\n",
    "    return df"
   ]
  },
  {
   "cell_type": "code",
   "execution_count": 3,
   "metadata": {},
   "outputs": [
    {
     "data": {
      "text/html": [
       "<div>\n",
       "<style>\n",
       "    .dataframe thead tr:only-child th {\n",
       "        text-align: right;\n",
       "    }\n",
       "\n",
       "    .dataframe thead th {\n",
       "        text-align: left;\n",
       "    }\n",
       "\n",
       "    .dataframe tbody tr th {\n",
       "        vertical-align: top;\n",
       "    }\n",
       "</style>\n",
       "<table border=\"1\" class=\"dataframe\">\n",
       "  <thead>\n",
       "    <tr style=\"text-align: right;\">\n",
       "      <th></th>\n",
       "      <th>id</th>\n",
       "      <th>date</th>\n",
       "      <th>price</th>\n",
       "      <th>bedrooms</th>\n",
       "      <th>bathrooms</th>\n",
       "      <th>sqft_living</th>\n",
       "      <th>sqft_lot</th>\n",
       "      <th>floors</th>\n",
       "      <th>waterfront</th>\n",
       "      <th>view</th>\n",
       "      <th>...</th>\n",
       "      <th>grade</th>\n",
       "      <th>sqft_above</th>\n",
       "      <th>sqft_basement</th>\n",
       "      <th>yr_built</th>\n",
       "      <th>yr_renovated</th>\n",
       "      <th>zipcode</th>\n",
       "      <th>lat</th>\n",
       "      <th>long</th>\n",
       "      <th>sqft_living15</th>\n",
       "      <th>sqft_lot15</th>\n",
       "    </tr>\n",
       "  </thead>\n",
       "  <tbody>\n",
       "    <tr>\n",
       "      <th>19452</th>\n",
       "      <td>3980300371</td>\n",
       "      <td>20140926T000000</td>\n",
       "      <td>142000.0</td>\n",
       "      <td>0.0</td>\n",
       "      <td>0.00</td>\n",
       "      <td>290.0</td>\n",
       "      <td>20875</td>\n",
       "      <td>1</td>\n",
       "      <td>0</td>\n",
       "      <td>0</td>\n",
       "      <td>...</td>\n",
       "      <td>1</td>\n",
       "      <td>290</td>\n",
       "      <td>0</td>\n",
       "      <td>1963</td>\n",
       "      <td>0</td>\n",
       "      <td>98024</td>\n",
       "      <td>47.5308</td>\n",
       "      <td>-121.888</td>\n",
       "      <td>1620.0</td>\n",
       "      <td>22850.0</td>\n",
       "    </tr>\n",
       "    <tr>\n",
       "      <th>15381</th>\n",
       "      <td>2856101479</td>\n",
       "      <td>20140701T000000</td>\n",
       "      <td>276000.0</td>\n",
       "      <td>1.0</td>\n",
       "      <td>0.75</td>\n",
       "      <td>370.0</td>\n",
       "      <td>1801</td>\n",
       "      <td>1</td>\n",
       "      <td>0</td>\n",
       "      <td>0</td>\n",
       "      <td>...</td>\n",
       "      <td>5</td>\n",
       "      <td>370</td>\n",
       "      <td>0</td>\n",
       "      <td>1923</td>\n",
       "      <td>0</td>\n",
       "      <td>98117</td>\n",
       "      <td>47.6778</td>\n",
       "      <td>-122.389</td>\n",
       "      <td>1340.0</td>\n",
       "      <td>5000.0</td>\n",
       "    </tr>\n",
       "    <tr>\n",
       "      <th>860</th>\n",
       "      <td>1723049033</td>\n",
       "      <td>20140620T000000</td>\n",
       "      <td>245000.0</td>\n",
       "      <td>1.0</td>\n",
       "      <td>0.75</td>\n",
       "      <td>380.0</td>\n",
       "      <td>15000</td>\n",
       "      <td>1</td>\n",
       "      <td>0</td>\n",
       "      <td>0</td>\n",
       "      <td>...</td>\n",
       "      <td>5</td>\n",
       "      <td>380</td>\n",
       "      <td>0</td>\n",
       "      <td>1963</td>\n",
       "      <td>0</td>\n",
       "      <td>98168</td>\n",
       "      <td>47.4810</td>\n",
       "      <td>-122.323</td>\n",
       "      <td>1170.0</td>\n",
       "      <td>15000.0</td>\n",
       "    </tr>\n",
       "    <tr>\n",
       "      <th>18379</th>\n",
       "      <td>1222029077</td>\n",
       "      <td>20141029T000000</td>\n",
       "      <td>265000.0</td>\n",
       "      <td>0.0</td>\n",
       "      <td>0.75</td>\n",
       "      <td>384.0</td>\n",
       "      <td>213444</td>\n",
       "      <td>1</td>\n",
       "      <td>0</td>\n",
       "      <td>0</td>\n",
       "      <td>...</td>\n",
       "      <td>4</td>\n",
       "      <td>384</td>\n",
       "      <td>0</td>\n",
       "      <td>2003</td>\n",
       "      <td>0</td>\n",
       "      <td>98070</td>\n",
       "      <td>47.4177</td>\n",
       "      <td>-122.491</td>\n",
       "      <td>1920.0</td>\n",
       "      <td>224341.0</td>\n",
       "    </tr>\n",
       "    <tr>\n",
       "      <th>4868</th>\n",
       "      <td>6896300380</td>\n",
       "      <td>20141002T000000</td>\n",
       "      <td>228000.0</td>\n",
       "      <td>0.0</td>\n",
       "      <td>1.00</td>\n",
       "      <td>390.0</td>\n",
       "      <td>5900</td>\n",
       "      <td>1</td>\n",
       "      <td>0</td>\n",
       "      <td>0</td>\n",
       "      <td>...</td>\n",
       "      <td>4</td>\n",
       "      <td>390</td>\n",
       "      <td>0</td>\n",
       "      <td>1953</td>\n",
       "      <td>0</td>\n",
       "      <td>98118</td>\n",
       "      <td>47.5260</td>\n",
       "      <td>-122.261</td>\n",
       "      <td>2170.0</td>\n",
       "      <td>6000.0</td>\n",
       "    </tr>\n",
       "    <tr>\n",
       "      <th>21332</th>\n",
       "      <td>9266700190</td>\n",
       "      <td>20150511T000000</td>\n",
       "      <td>245000.0</td>\n",
       "      <td>1.0</td>\n",
       "      <td>1.00</td>\n",
       "      <td>390.0</td>\n",
       "      <td>2000</td>\n",
       "      <td>1</td>\n",
       "      <td>0</td>\n",
       "      <td>0</td>\n",
       "      <td>...</td>\n",
       "      <td>6</td>\n",
       "      <td>390</td>\n",
       "      <td>0</td>\n",
       "      <td>1920</td>\n",
       "      <td>0</td>\n",
       "      <td>98103</td>\n",
       "      <td>47.6938</td>\n",
       "      <td>-122.347</td>\n",
       "      <td>1340.0</td>\n",
       "      <td>5100.0</td>\n",
       "    </tr>\n",
       "    <tr>\n",
       "      <th>8623</th>\n",
       "      <td>6303400395</td>\n",
       "      <td>20150130T000000</td>\n",
       "      <td>325000.0</td>\n",
       "      <td>1.0</td>\n",
       "      <td>0.75</td>\n",
       "      <td>410.0</td>\n",
       "      <td>8636</td>\n",
       "      <td>1</td>\n",
       "      <td>0</td>\n",
       "      <td>0</td>\n",
       "      <td>...</td>\n",
       "      <td>4</td>\n",
       "      <td>410</td>\n",
       "      <td>0</td>\n",
       "      <td>1953</td>\n",
       "      <td>0</td>\n",
       "      <td>98146</td>\n",
       "      <td>47.5077</td>\n",
       "      <td>-122.357</td>\n",
       "      <td>1190.0</td>\n",
       "      <td>8636.0</td>\n",
       "    </tr>\n",
       "    <tr>\n",
       "      <th>11500</th>\n",
       "      <td>4322200105</td>\n",
       "      <td>20150331T000000</td>\n",
       "      <td>229050.0</td>\n",
       "      <td>1.0</td>\n",
       "      <td>1.00</td>\n",
       "      <td>420.0</td>\n",
       "      <td>3298</td>\n",
       "      <td>1</td>\n",
       "      <td>0</td>\n",
       "      <td>0</td>\n",
       "      <td>...</td>\n",
       "      <td>4</td>\n",
       "      <td>420</td>\n",
       "      <td>0</td>\n",
       "      <td>1949</td>\n",
       "      <td>0</td>\n",
       "      <td>98136</td>\n",
       "      <td>47.5375</td>\n",
       "      <td>-122.391</td>\n",
       "      <td>1460.0</td>\n",
       "      <td>4975.0</td>\n",
       "    </tr>\n",
       "    <tr>\n",
       "      <th>14466</th>\n",
       "      <td>7549801385</td>\n",
       "      <td>20140612T000000</td>\n",
       "      <td>280000.0</td>\n",
       "      <td>1.0</td>\n",
       "      <td>0.75</td>\n",
       "      <td>420.0</td>\n",
       "      <td>6720</td>\n",
       "      <td>1</td>\n",
       "      <td>0</td>\n",
       "      <td>0</td>\n",
       "      <td>...</td>\n",
       "      <td>5</td>\n",
       "      <td>420</td>\n",
       "      <td>0</td>\n",
       "      <td>1922</td>\n",
       "      <td>0</td>\n",
       "      <td>98108</td>\n",
       "      <td>47.5520</td>\n",
       "      <td>-122.311</td>\n",
       "      <td>1420.0</td>\n",
       "      <td>6720.0</td>\n",
       "    </tr>\n",
       "    <tr>\n",
       "      <th>465</th>\n",
       "      <td>8658300340</td>\n",
       "      <td>20140523T000000</td>\n",
       "      <td>80000.0</td>\n",
       "      <td>1.0</td>\n",
       "      <td>0.75</td>\n",
       "      <td>430.0</td>\n",
       "      <td>5050</td>\n",
       "      <td>1</td>\n",
       "      <td>0</td>\n",
       "      <td>0</td>\n",
       "      <td>...</td>\n",
       "      <td>4</td>\n",
       "      <td>430</td>\n",
       "      <td>0</td>\n",
       "      <td>1912</td>\n",
       "      <td>0</td>\n",
       "      <td>98014</td>\n",
       "      <td>47.6499</td>\n",
       "      <td>-121.909</td>\n",
       "      <td>1200.0</td>\n",
       "      <td>7500.0</td>\n",
       "    </tr>\n",
       "  </tbody>\n",
       "</table>\n",
       "<p>10 rows × 21 columns</p>\n",
       "</div>"
      ],
      "text/plain": [
       "               id             date     price  bedrooms  bathrooms  \\\n",
       "19452  3980300371  20140926T000000  142000.0       0.0       0.00   \n",
       "15381  2856101479  20140701T000000  276000.0       1.0       0.75   \n",
       "860    1723049033  20140620T000000  245000.0       1.0       0.75   \n",
       "18379  1222029077  20141029T000000  265000.0       0.0       0.75   \n",
       "4868   6896300380  20141002T000000  228000.0       0.0       1.00   \n",
       "21332  9266700190  20150511T000000  245000.0       1.0       1.00   \n",
       "8623   6303400395  20150130T000000  325000.0       1.0       0.75   \n",
       "11500  4322200105  20150331T000000  229050.0       1.0       1.00   \n",
       "14466  7549801385  20140612T000000  280000.0       1.0       0.75   \n",
       "465    8658300340  20140523T000000   80000.0       1.0       0.75   \n",
       "\n",
       "       sqft_living  sqft_lot floors  waterfront  view     ...      grade  \\\n",
       "19452        290.0     20875      1           0     0     ...          1   \n",
       "15381        370.0      1801      1           0     0     ...          5   \n",
       "860          380.0     15000      1           0     0     ...          5   \n",
       "18379        384.0    213444      1           0     0     ...          4   \n",
       "4868         390.0      5900      1           0     0     ...          4   \n",
       "21332        390.0      2000      1           0     0     ...          6   \n",
       "8623         410.0      8636      1           0     0     ...          4   \n",
       "11500        420.0      3298      1           0     0     ...          4   \n",
       "14466        420.0      6720      1           0     0     ...          5   \n",
       "465          430.0      5050      1           0     0     ...          4   \n",
       "\n",
       "       sqft_above  sqft_basement  yr_built  yr_renovated  zipcode      lat  \\\n",
       "19452         290              0      1963             0    98024  47.5308   \n",
       "15381         370              0      1923             0    98117  47.6778   \n",
       "860           380              0      1963             0    98168  47.4810   \n",
       "18379         384              0      2003             0    98070  47.4177   \n",
       "4868          390              0      1953             0    98118  47.5260   \n",
       "21332         390              0      1920             0    98103  47.6938   \n",
       "8623          410              0      1953             0    98146  47.5077   \n",
       "11500         420              0      1949             0    98136  47.5375   \n",
       "14466         420              0      1922             0    98108  47.5520   \n",
       "465           430              0      1912             0    98014  47.6499   \n",
       "\n",
       "          long  sqft_living15  sqft_lot15  \n",
       "19452 -121.888         1620.0     22850.0  \n",
       "15381 -122.389         1340.0      5000.0  \n",
       "860   -122.323         1170.0     15000.0  \n",
       "18379 -122.491         1920.0    224341.0  \n",
       "4868  -122.261         2170.0      6000.0  \n",
       "21332 -122.347         1340.0      5100.0  \n",
       "8623  -122.357         1190.0      8636.0  \n",
       "11500 -122.391         1460.0      4975.0  \n",
       "14466 -122.311         1420.0      6720.0  \n",
       "465   -121.909         1200.0      7500.0  \n",
       "\n",
       "[10 rows x 21 columns]"
      ]
     },
     "execution_count": 3,
     "metadata": {},
     "output_type": "execute_result"
    }
   ],
   "source": [
    "dtype_dict = {'bathrooms':float, 'waterfront':int, 'sqft_above':int, 'sqft_living15':float, 'grade':int, 'yr_renovated':int, 'price':float, 'bedrooms':float, 'zipcode':str, 'long':float, 'sqft_lot15':float, 'sqft_living':float, 'floors':str, 'condition':int, 'lat':float, 'date':str, 'sqft_basement':int, 'yr_built':int, 'id':str, 'sqft_lot':int, 'view':int}\n",
    "data = pd.read_csv('kc_house_data.csv', dtype=dtype_dict)\n",
    "data.sort_values(by=['sqft_living', 'price'], inplace=True)\n",
    "data.head(10)"
   ]
  },
  {
   "cell_type": "code",
   "execution_count": 4,
   "metadata": {},
   "outputs": [
    {
     "data": {
      "text/html": [
       "<div>\n",
       "<style>\n",
       "    .dataframe thead tr:only-child th {\n",
       "        text-align: right;\n",
       "    }\n",
       "\n",
       "    .dataframe thead th {\n",
       "        text-align: left;\n",
       "    }\n",
       "\n",
       "    .dataframe tbody tr th {\n",
       "        vertical-align: top;\n",
       "    }\n",
       "</style>\n",
       "<table border=\"1\" class=\"dataframe\">\n",
       "  <thead>\n",
       "    <tr style=\"text-align: right;\">\n",
       "      <th></th>\n",
       "      <th>power_1</th>\n",
       "      <th>price</th>\n",
       "    </tr>\n",
       "  </thead>\n",
       "  <tbody>\n",
       "    <tr>\n",
       "      <th>19452</th>\n",
       "      <td>290.0</td>\n",
       "      <td>142000.0</td>\n",
       "    </tr>\n",
       "    <tr>\n",
       "      <th>15381</th>\n",
       "      <td>370.0</td>\n",
       "      <td>276000.0</td>\n",
       "    </tr>\n",
       "    <tr>\n",
       "      <th>860</th>\n",
       "      <td>380.0</td>\n",
       "      <td>245000.0</td>\n",
       "    </tr>\n",
       "    <tr>\n",
       "      <th>18379</th>\n",
       "      <td>384.0</td>\n",
       "      <td>265000.0</td>\n",
       "    </tr>\n",
       "    <tr>\n",
       "      <th>4868</th>\n",
       "      <td>390.0</td>\n",
       "      <td>228000.0</td>\n",
       "    </tr>\n",
       "  </tbody>\n",
       "</table>\n",
       "</div>"
      ],
      "text/plain": [
       "       power_1     price\n",
       "19452    290.0  142000.0\n",
       "15381    370.0  276000.0\n",
       "860      380.0  245000.0\n",
       "18379    384.0  265000.0\n",
       "4868     390.0  228000.0"
      ]
     },
     "execution_count": 4,
     "metadata": {},
     "output_type": "execute_result"
    }
   ],
   "source": [
    "poly1 = get_polynomial_df(data['sqft_living'], 1)\n",
    "poly1['price'] = data['price']\n",
    "poly1.head()"
   ]
  },
  {
   "cell_type": "code",
   "execution_count": 5,
   "metadata": {},
   "outputs": [
    {
     "name": "stderr",
     "output_type": "stream",
     "text": [
      "C:\\Program Files\\Anaconda3\\lib\\site-packages\\ipykernel_launcher.py:2: FutureWarning: reshape is deprecated and will raise in a subsequent release. Please use .values.reshape(...) instead\n",
      "  \n",
      "C:\\Program Files\\Anaconda3\\lib\\site-packages\\ipykernel_launcher.py:4: FutureWarning: reshape is deprecated and will raise in a subsequent release. Please use .values.reshape(...) instead\n",
      "  after removing the cwd from sys.path.\n"
     ]
    },
    {
     "data": {
      "text/plain": [
       "[<matplotlib.lines.Line2D at 0x18bac7a2e80>]"
      ]
     },
     "execution_count": 5,
     "metadata": {},
     "output_type": "execute_result"
    },
    {
     "data": {
      "image/png": "[encoded data removed]",
      "text/plain": [
       "<matplotlib.figure.Figure at 0x18baa1307f0>"
      ]
     },
     "metadata": {},
     "output_type": "display_data"
    }
   ],
   "source": [
    "# polynomial power = 1\n",
    "model1 = LinearRegression().fit(poly1['power_1'].reshape(-1,1), poly1['price'])\n",
    "plt.plot(poly1['power_1'], poly1['price'], '.')\n",
    "plt.plot(poly1['power_1'], model1.predict(poly1['power_1'].reshape(-1,1)))"
   ]
  },
  {
   "cell_type": "code",
   "execution_count": 6,
   "metadata": {},
   "outputs": [
    {
     "data": {
      "text/plain": [
       "[<matplotlib.lines.Line2D at 0x18bae09ccc0>]"
      ]
     },
     "execution_count": 6,
     "metadata": {},
     "output_type": "execute_result"
    },
    {
     "data": {
      "image/png": "[encoded data removed]",
      "text/plain": [
       "<matplotlib.figure.Figure at 0x18badd63710>"
      ]
     },
     "metadata": {},
     "output_type": "display_data"
    }
   ],
   "source": [
    "# polynomial power = 2\n",
    "poly2 = get_polynomial_df(data['sqft_living'], 2)\n",
    "poly2['price'] = data['price']\n",
    "\n",
    "model2 = LinearRegression().fit(poly2[['power_1', 'power_2']], poly2['price'])\n",
    "plt.plot(poly2['power_1'], poly2['price'], '.')\n",
    "plt.plot(poly2['power_1'], model2.predict(poly2[['power_1', 'power_2']]))"
   ]
  },
  {
   "cell_type": "code",
   "execution_count": 7,
   "metadata": {},
   "outputs": [
    {
     "data": {
      "text/plain": [
       "[<matplotlib.lines.Line2D at 0x18bae12f898>]"
      ]
     },
     "execution_count": 7,
     "metadata": {},
     "output_type": "execute_result"
    },
    {
     "data": {
      "image/png": "[encoded data removed]",
      "text/plain": [
       "<matplotlib.figure.Figure at 0x18bae0569b0>"
      ]
     },
     "metadata": {},
     "output_type": "display_data"
    }
   ],
   "source": [
    "# polynomial power = 3\n",
    "poly3 = get_polynomial_df(data['sqft_living'], 3)\n",
    "poly3['price'] = data['price']\n",
    "\n",
    "model3 = LinearRegression().fit(poly3[['power_1', 'power_2', 'power_3']], poly3['price'])\n",
    "plt.plot(poly3['power_1'], poly3['price'], '.')\n",
    "plt.plot(poly3['power_1'], model3.predict(poly3[['power_1', 'power_2', 'power_3']]))"
   ]
  },
  {
   "cell_type": "code",
   "execution_count": 8,
   "metadata": {},
   "outputs": [
    {
     "data": {
      "text/plain": [
       "[<matplotlib.lines.Line2D at 0x18bae056ac8>]"
      ]
     },
     "execution_count": 8,
     "metadata": {},
     "output_type": "execute_result"
    },
    {
     "data": {
      "image/png": "[encoded data removed]",
      "text/plain": [
       "<matplotlib.figure.Figure at 0x18bae168be0>"
      ]
     },
     "metadata": {},
     "output_type": "display_data"
    }
   ],
   "source": [
    "# polynomial power = 15\n",
    "poly15 = get_polynomial_df(data['sqft_living'], 15)\n",
    "\n",
    "model15 = LinearRegression().fit(poly15, data['price'])\n",
    "plt.plot(poly15['power_1'], data['price'], '.')\n",
    "plt.plot(poly15['power_1'], model15.predict(poly15))"
   ]
  },
  {
   "cell_type": "code",
   "execution_count": 9,
   "metadata": {},
   "outputs": [
    {
     "name": "stdout",
     "output_type": "stream",
     "text": [
      "The coefficient of power_15 for dataset 1 is -3.7470027081099033e-16\n",
      "The coefficient of power_15 for dataset 2 is 1.339206523454095e-15\n",
      "The coefficient of power_15 for dataset 3 is -2.498001805406602e-16\n",
      "The coefficient of power_15 for dataset 4 is -3.2959746043559335e-16\n"
     ]
    },
    {
     "data": {
      "image/png": "[encoded data removed]",
      "text/plain": [
       "<matplotlib.figure.Figure at 0x18bae0c7f60>"
      ]
     },
     "metadata": {},
     "output_type": "display_data"
    }
   ],
   "source": [
    "# use 4 different data sets to build 4 models\n",
    "subset1 = pd.read_csv('wk3_kc_house_set_1_data.csv')\n",
    "subset2 = pd.read_csv('wk3_kc_house_set_2_data.csv')\n",
    "subset3 = pd.read_csv('wk3_kc_house_set_3_data.csv')\n",
    "subset4 = pd.read_csv('wk3_kc_house_set_4_data.csv')\n",
    "\n",
    "i = 1\n",
    "\n",
    "for dataset in (subset1, subset2, subset3, subset4):\n",
    "    poly15 = get_polynomial_df(dataset['sqft_living'], 15)\n",
    "    poly15['price'] = dataset['price']\n",
    "    \n",
    "    model15 = LinearRegression().fit(poly15.drop('price', axis=1), poly15['price'])\n",
    "    print('The coefficient of power_15 for dataset {} is {}'.format(i, model15.coef_[14]))\n",
    "    \n",
    "    plt.plot(poly15['power_1'], model15.predict(poly15.drop('price', axis=1)), label='line'+str(i))\n",
    "    plt.legend()\n",
    "    \n",
    "    i += 1"
   ]
  },
  {
   "cell_type": "code",
   "execution_count": 10,
   "metadata": {
    "collapsed": true
   },
   "outputs": [],
   "source": [
    "def get_RSS(X, model, y):\n",
    "    predictions = model.predict(X)\n",
    "    return sum((predictions - y) ** 2)"
   ]
  },
  {
   "cell_type": "code",
   "execution_count": 11,
   "metadata": {
    "collapsed": true
   },
   "outputs": [],
   "source": [
    "train_add_val, test_data = train_test_split(data, train_size=0.9, random_state=1)\n",
    "train_data, val_data = train_test_split(train_add_val, train_size=0.5, random_state=1)"
   ]
  },
  {
   "cell_type": "code",
   "execution_count": 12,
   "metadata": {},
   "outputs": [
    {
     "name": "stdout",
     "output_type": "stream",
     "text": [
      "The RSS on validation dataset when polynomial power = 1: 688774305233989.5\n",
      "The RSS on validation dataset when polynomial power = 2: 623408727198380.8\n",
      "The RSS on validation dataset when polynomial power = 3: 626184335265108.8\n",
      "The RSS on validation dataset when polynomial power = 4: 619269329315262.6\n",
      "The RSS on validation dataset when polynomial power = 5: 612251017961104.4\n",
      "The RSS on validation dataset when polynomial power = 6: 604020353088751.9\n",
      "The RSS on validation dataset when polynomial power = 7: 663228906990762.9\n",
      "The RSS on validation dataset when polynomial power = 8: 1033161235162006.2\n",
      "The RSS on validation dataset when polynomial power = 9: 2320326855987908.0\n",
      "The RSS on validation dataset when polynomial power = 10: 6004434077086864.0\n",
      "The RSS on validation dataset when polynomial power = 11: 1.535226700467828e+16\n",
      "The RSS on validation dataset when polynomial power = 12: 3994362072871782.0\n",
      "The RSS on validation dataset when polynomial power = 13: 6988094132542063.0\n",
      "The RSS on validation dataset when polynomial power = 14: 1.3146157074531366e+16\n",
      "The RSS on validation dataset when polynomial power = 15: 2.545461985771511e+16\n",
      "When power is 6, it has minimum RSS 604020353088751.9.\n"
     ]
    }
   ],
   "source": [
    "# train_data = pd.read_csv('wk3_kc_house_train_data.csv')\n",
    "# val_data = pd.read_csv('wk3_kc_house_valid_data.csv')\n",
    "# test_data = pd.read_csv('wk3_kc_house_test_data.csv')\n",
    "\n",
    "min_RSS = float(\"inf\")\n",
    "index = 0\n",
    "best_model = None\n",
    "\n",
    "# use different power and find optimal model\n",
    "for power in range(1,16):\n",
    "    poly = get_polynomial_df(train_data['sqft_living'], power)\n",
    "    poly['price'] = train_data['price']\n",
    "    model = LinearRegression().fit(poly.drop('price', axis=1), poly['price'])\n",
    "\n",
    "    X = get_polynomial_df(val_data['sqft_living'], power)\n",
    "    y = val_data['price']\n",
    "    RSS = get_RSS(X, model, y)\n",
    "\n",
    "    if RSS < min_RSS:\n",
    "        min_RSS = RSS\n",
    "        index = power\n",
    "        best_model = model \n",
    "    \n",
    "    print('The RSS on validation dataset when polynomial power = {}: {}'.format(power, RSS))\n",
    "\n",
    "print('When power is {}, it has minimum RSS {}.'.format(index, min_RSS))"
   ]
  },
  {
   "cell_type": "code",
   "execution_count": 13,
   "metadata": {},
   "outputs": [
    {
     "data": {
      "text/plain": [
       "143374909106587.44"
      ]
     },
     "execution_count": 13,
     "metadata": {},
     "output_type": "execute_result"
    }
   ],
   "source": [
    "# compute test error \n",
    "X = get_polynomial_df(test_data['sqft_living'], index)\n",
    "y = test_data['price']\n",
    "get_RSS(X, best_model, y)"
   ]
  }
 ],
 "metadata": {
  "kernelspec": {
   "display_name": "Python 3",
   "language": "python",
   "name": "python3"
  },
  "language_info": {
   "codemirror_mode": {
    "name": "ipython",
    "version": 3
   },
   "file_extension": ".py",
   "mimetype": "text/x-python",
   "name": "python",
   "nbconvert_exporter": "python",
   "pygments_lexer": "ipython3",
   "version": "3.6.1"
  }
 },
 "nbformat": 4,
 "nbformat_minor": 2
}
