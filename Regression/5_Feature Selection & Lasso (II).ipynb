{
 "cells": [
  {
   "cell_type": "markdown",
   "metadata": {},
   "source": [
    "# W5_Feature Selection & Lasso (II)"
   ]
  },
  {
   "cell_type": "code",
   "execution_count": 1,
   "metadata": {
    "collapsed": true
   },
   "outputs": [],
   "source": [
    "import numpy as np\n",
    "import pandas as pd"
   ]
  },
  {
   "cell_type": "code",
   "execution_count": 2,
   "metadata": {
    "collapsed": true
   },
   "outputs": [],
   "source": [
    "dtype_dict = {'bathrooms':float, 'waterfront':int, 'sqft_above':int, 'sqft_living15':float, 'grade':int, 'yr_renovated':int, 'price':float, 'bedrooms':float, 'zipcode':str, 'long':float, 'sqft_lot15':float, 'sqft_living':float, 'floors':float, 'condition':int, 'lat':float, 'date':str, 'sqft_basement':int, 'yr_built':int, 'id':str, 'sqft_lot':int, 'view':int}\n",
    "data = pd.read_csv('kc_house_data.csv', dtype=dtype_dict)"
   ]
  },
  {
   "cell_type": "code",
   "execution_count": 3,
   "metadata": {
    "collapsed": true
   },
   "outputs": [],
   "source": [
    "# get numpy array we need from dataframe\n",
    "def get_numpy_data(dataframe, features, output):\n",
    "    dataframe['constant'] = 1\n",
    "    features = ['constant'] + features\n",
    "    features_matrix = dataframe[features].values\n",
    "    output_array = dataframe[output].values \n",
    "    return (features_matrix, output_array)"
   ]
  },
  {
   "cell_type": "code",
   "execution_count": 4,
   "metadata": {
    "collapsed": true
   },
   "outputs": [],
   "source": [
    "# compute for estimated output\n",
    "def get_predictions(features_matrix, weights):\n",
    "    predictions = np.dot(features_matrix, weights)\n",
    "    return predictions"
   ]
  },
  {
   "cell_type": "code",
   "execution_count": 5,
   "metadata": {
    "collapsed": true
   },
   "outputs": [],
   "source": [
    "# normarlize the features\n",
    "def feature_normalization(X):\n",
    "    norms = np.linalg.norm(X, axis=0)\n",
    "    X_normalized = X / norms\n",
    "    return (X_normalized, norms)"
   ]
  },
  {
   "cell_type": "code",
   "execution_count": 6,
   "metadata": {
    "collapsed": true
   },
   "outputs": [],
   "source": [
    "# compute ro \n",
    "# ro[i] = SUM[ [feature_i]*(output - prediction + w[i]*[feature_i]) ]\n",
    "def get_ro(features_matrix, weights, output_array, i):\n",
    "    predicions = get_predictions(features_matrix, weights)\n",
    "    term1 = features_matrix[:,i]\n",
    "    term2 = output_array - predicions + weights[i] * features_matrix[:,i]\n",
    "    ro = np.dot(term1, term2)\n",
    "    return ro"
   ]
  },
  {
   "cell_type": "code",
   "execution_count": 7,
   "metadata": {},
   "outputs": [
    {
     "name": "stdout",
     "output_type": "stream",
     "text": [
      "87939470.8233 175878941.647\n",
      "80966698.6662 161933397.332\n",
      "[  1.47013605e+02   3.34257264e+05   5.14075870e+02]\n"
     ]
    }
   ],
   "source": [
    "# test get_ro function\n",
    "features = ['sqft_living', 'bedrooms']\n",
    "output = 'price'\n",
    "features_matrix, output_array = get_numpy_data(data, features, output)\n",
    "norm_features, norm = feature_normalization(features_matrix)\n",
    "\n",
    "ro1 = get_ro(norm_features, np.array([1,4,1]), output_array, 1)\n",
    "ro2 = get_ro(norm_features, np.array([1,4,1]), output_array, 2)\n",
    "\n",
    "print(ro1, ro1*2)\n",
    "print(ro2, ro2*2)\n",
    "print(norm)"
   ]
  },
  {
   "cell_type": "code",
   "execution_count": 8,
   "metadata": {
    "collapsed": true
   },
   "outputs": [],
   "source": [
    "# implement coordinate descent \n",
    "def lasso_coordinate_descent_step(i, features_matrix, output, weights, l1_penalty):\n",
    "    ro = get_ro(features_matrix, weights, output, i)\n",
    "    \n",
    "    if i == 0: # we don't regularize intercept\n",
    "        new_weight = ro\n",
    "    elif ro < -l1_penalty/2.:\n",
    "        new_weight = ro + l1_penalty/2\n",
    "    elif ro > l1_penalty/2.:\n",
    "        new_weight = ro - l1_penalty/2\n",
    "    else:\n",
    "        new_weight = 0.    \n",
    "    return new_weight"
   ]
  },
  {
   "cell_type": "code",
   "execution_count": 9,
   "metadata": {
    "collapsed": true
   },
   "outputs": [],
   "source": [
    "# implement cyclical coordinate descent\n",
    "def cyclical_lasso_coordinate_descent(features_matrix, output, initial_weights, l1_penalty, tolerance):\n",
    "    weights = initial_weights\n",
    "    max_gradient_change = tolerance + 1\n",
    "    while max_gradient_change > tolerance:\n",
    "        gradient_change = []\n",
    "        for i in range(len(weights)):\n",
    "            new_w = lasso_coordinate_descent_step(i, features_matrix, output, weights, l1_penalty)\n",
    "            gradient_change.append(abs(weights[i] - new_w)) \n",
    "            weights[i] = new_w\n",
    "        max_gradient_change = max(gradient_change)\n",
    "    \n",
    "    return weights"
   ]
  },
  {
   "cell_type": "code",
   "execution_count": 10,
   "metadata": {
    "collapsed": true
   },
   "outputs": [],
   "source": [
    "# compute RSS\n",
    "def get_RSS(X, weights, y):\n",
    "    predictions = get_predictions(X, weights)\n",
    "    return sum((predictions-y) ** 2)"
   ]
  },
  {
   "cell_type": "code",
   "execution_count": 11,
   "metadata": {},
   "outputs": [
    {
     "data": {
      "text/plain": [
       "1630492458794279.8"
      ]
     },
     "execution_count": 11,
     "metadata": {},
     "output_type": "execute_result"
    }
   ],
   "source": [
    "# example 1\n",
    "learned_w = cyclical_lasso_coordinate_descent(norm_features, output_array, np.array([0,0,0]), 1e7, 1.0)\n",
    "get_RSS(norm_features, learned_w, output_array )"
   ]
  },
  {
   "cell_type": "code",
   "execution_count": 12,
   "metadata": {},
   "outputs": [
    {
     "data": {
      "text/plain": [
       "array([21624995, 63157249,        0])"
      ]
     },
     "execution_count": 12,
     "metadata": {},
     "output_type": "execute_result"
    }
   ],
   "source": [
    "learned_w"
   ]
  },
  {
   "cell_type": "code",
   "execution_count": 13,
   "metadata": {},
   "outputs": [],
   "source": [
    "def show_selected_feature(feature_list, coef):\n",
    "    print('# Selected features:')\n",
    "    for i in range(len(coef)):\n",
    "        if coef[i] != 0:\n",
    "            print(feature_list[i])"
   ]
  },
  {
   "cell_type": "code",
   "execution_count": 14,
   "metadata": {},
   "outputs": [
    {
     "name": "stdout",
     "output_type": "stream",
     "text": [
      "# Selected features:\n",
      "constant\n",
      "sqft_living\n",
      "waterfront\n",
      "view\n"
     ]
    }
   ],
   "source": [
    "train = pd.read_csv('kc_house_train_data.csv', dtype=dtype_dict)\n",
    "test = pd.read_csv('kc_house_test_data.csv', dtype=dtype_dict)\n",
    "features = ['bedrooms', 'bathrooms', 'sqft_living', 'sqft_lot', 'floors', 'waterfront', 'view', 'condition', 'grade', 'sqft_above', 'sqft_basement', 'yr_built', 'yr_renovated']\n",
    "output = 'price'\n",
    "features_matrix, output_array = get_numpy_data(train, features, output)\n",
    "norm_features, norms = feature_normalization(features_matrix)\n",
    "\n",
    "# example 2\n",
    "weights_1e7 = cyclical_lasso_coordinate_descent(norm_features, output_array, np.zeros(14), 1e7, 1.) \n",
    "\n",
    "constant_features = ['constant'] + features\n",
    "show_selected_feature(constant_features, weights_1e7)"
   ]
  },
  {
   "cell_type": "code",
   "execution_count": 15,
   "metadata": {},
   "outputs": [
    {
     "name": "stdout",
     "output_type": "stream",
     "text": [
      "# Selected features:\n",
      "constant\n"
     ]
    }
   ],
   "source": [
    "# example 3\n",
    "weights_1e8 = cyclical_lasso_coordinate_descent(norm_features, output_array, np.zeros(14), 1e8, 1.)\n",
    "show_selected_feature(constant_features, weights_1e8)       "
   ]
  },
  {
   "cell_type": "code",
   "execution_count": 16,
   "metadata": {},
   "outputs": [
    {
     "name": "stdout",
     "output_type": "stream",
     "text": [
      "# Selected features:\n",
      "constant\n",
      "bedrooms\n",
      "bathrooms\n",
      "sqft_living\n",
      "sqft_lot\n",
      "floors\n",
      "waterfront\n",
      "view\n",
      "condition\n",
      "grade\n",
      "sqft_above\n",
      "sqft_basement\n",
      "yr_built\n",
      "yr_renovated\n"
     ]
    }
   ],
   "source": [
    "# example 4\n",
    "weights_1e4 = cyclical_lasso_coordinate_descent(norm_features, output_array, np.zeros(14), 1e4, 5e5)\n",
    "show_selected_feature(constant_features, weights_1e4)"
   ]
  },
  {
   "cell_type": "code",
   "execution_count": 17,
   "metadata": {},
   "outputs": [
    {
     "name": "stdout",
     "output_type": "stream",
     "text": [
      "2.28459958971e+14 2.7596207592e+14 5.37166151497e+14\n"
     ]
    }
   ],
   "source": [
    "# get normalized weights thus we can make new predictions without normalizing new data\n",
    "def get_normalized_weights(weights, norms):\n",
    "    normalized_weights = weights / norms\n",
    "    return normalized_weights\n",
    "\n",
    "norn_weights_1e4 = get_normalized_weights(weights_1e4, norms)\n",
    "norn_weights_1e7 = get_normalized_weights(weights_1e7, norms)\n",
    "norn_weights_1e8 = get_normalized_weights(weights_1e8, norms)\n",
    "\n",
    "# compare 3 model on test data\n",
    "X_test, y_test = get_numpy_data(test, features, output)\n",
    "RSS1 = get_RSS(X_test, norn_weights_1e4, y_test)\n",
    "RSS2 = get_RSS(X_test, norn_weights_1e7, y_test)\n",
    "RSS3 = get_RSS(X_test, norn_weights_1e8, y_test)\n",
    "print(RSS1, RSS2, RSS3)"
   ]
  }
 ],
 "metadata": {
  "kernelspec": {
   "display_name": "Python 3",
   "language": "python",
   "name": "python3"
  },
  "language_info": {
   "codemirror_mode": {
    "name": "ipython",
    "version": 3
   },
   "file_extension": ".py",
   "mimetype": "text/x-python",
   "name": "python",
   "nbconvert_exporter": "python",
   "pygments_lexer": "ipython3",
   "version": "3.6.1"
  }
 },
 "nbformat": 4,
 "nbformat_minor": 2
}
