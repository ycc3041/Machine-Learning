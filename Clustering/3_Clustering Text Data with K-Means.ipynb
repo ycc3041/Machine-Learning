{
 "cells": [
  {
   "cell_type": "markdown",
   "metadata": {},
   "source": [
    "# W3_Clustering Text Data with K-Means"
   ]
  },
  {
   "cell_type": "code",
   "execution_count": 1,
   "metadata": {
    "collapsed": true
   },
   "outputs": [],
   "source": [
    "import numpy as np\n",
    "import pandas as pd\n",
    "import matplotlib.pyplot as plt\n",
    "%matplotlib inline\n",
    "from scipy.sparse import csr_matrix\n",
    "from sklearn.metrics import pairwise_distances\n",
    "from sklearn.preprocessing import normalize\n",
    "import os\n",
    "import sys\n",
    "import time"
   ]
  },
  {
   "cell_type": "code",
   "execution_count": 2,
   "metadata": {},
   "outputs": [
    {
     "data": {
      "text/html": [
       "<div>\n",
       "<style>\n",
       "    .dataframe thead tr:only-child th {\n",
       "        text-align: right;\n",
       "    }\n",
       "\n",
       "    .dataframe thead th {\n",
       "        text-align: left;\n",
       "    }\n",
       "\n",
       "    .dataframe tbody tr th {\n",
       "        vertical-align: top;\n",
       "    }\n",
       "</style>\n",
       "<table border=\"1\" class=\"dataframe\">\n",
       "  <thead>\n",
       "    <tr style=\"text-align: right;\">\n",
       "      <th></th>\n",
       "      <th>URI</th>\n",
       "      <th>name</th>\n",
       "      <th>text</th>\n",
       "    </tr>\n",
       "  </thead>\n",
       "  <tbody>\n",
       "    <tr>\n",
       "      <th>0</th>\n",
       "      <td>&lt;http://dbpedia.org/resource/Digby_Morrell&gt;</td>\n",
       "      <td>Digby Morrell</td>\n",
       "      <td>digby morrell born 10 october 1979 is a former...</td>\n",
       "    </tr>\n",
       "    <tr>\n",
       "      <th>1</th>\n",
       "      <td>&lt;http://dbpedia.org/resource/Alfred_J._Lewy&gt;</td>\n",
       "      <td>Alfred J. Lewy</td>\n",
       "      <td>alfred j lewy aka sandy lewy graduated from un...</td>\n",
       "    </tr>\n",
       "    <tr>\n",
       "      <th>2</th>\n",
       "      <td>&lt;http://dbpedia.org/resource/Harpdog_Brown&gt;</td>\n",
       "      <td>Harpdog Brown</td>\n",
       "      <td>harpdog brown is a singer and harmonica player...</td>\n",
       "    </tr>\n",
       "    <tr>\n",
       "      <th>3</th>\n",
       "      <td>&lt;http://dbpedia.org/resource/Franz_Rottensteiner&gt;</td>\n",
       "      <td>Franz Rottensteiner</td>\n",
       "      <td>franz rottensteiner born in waidmannsfeld lowe...</td>\n",
       "    </tr>\n",
       "    <tr>\n",
       "      <th>4</th>\n",
       "      <td>&lt;http://dbpedia.org/resource/G-Enka&gt;</td>\n",
       "      <td>G-Enka</td>\n",
       "      <td>henry krvits born 30 december 1974 in tallinn ...</td>\n",
       "    </tr>\n",
       "  </tbody>\n",
       "</table>\n",
       "</div>"
      ],
      "text/plain": [
       "                                                 URI                 name  \\\n",
       "0        <http://dbpedia.org/resource/Digby_Morrell>        Digby Morrell   \n",
       "1       <http://dbpedia.org/resource/Alfred_J._Lewy>       Alfred J. Lewy   \n",
       "2        <http://dbpedia.org/resource/Harpdog_Brown>        Harpdog Brown   \n",
       "3  <http://dbpedia.org/resource/Franz_Rottensteiner>  Franz Rottensteiner   \n",
       "4               <http://dbpedia.org/resource/G-Enka>               G-Enka   \n",
       "\n",
       "                                                text  \n",
       "0  digby morrell born 10 october 1979 is a former...  \n",
       "1  alfred j lewy aka sandy lewy graduated from un...  \n",
       "2  harpdog brown is a singer and harmonica player...  \n",
       "3  franz rottensteiner born in waidmannsfeld lowe...  \n",
       "4  henry krvits born 30 december 1974 in tallinn ...  "
      ]
     },
     "execution_count": 2,
     "metadata": {},
     "output_type": "execute_result"
    }
   ],
   "source": [
    "data = pd.read_csv('people_wiki.csv')\n",
    "data.head()"
   ]
  },
  {
   "cell_type": "code",
   "execution_count": 3,
   "metadata": {},
   "outputs": [
    {
     "data": {
      "text/html": [
       "<div>\n",
       "<style>\n",
       "    .dataframe thead tr:only-child th {\n",
       "        text-align: right;\n",
       "    }\n",
       "\n",
       "    .dataframe thead th {\n",
       "        text-align: left;\n",
       "    }\n",
       "\n",
       "    .dataframe tbody tr th {\n",
       "        vertical-align: top;\n",
       "    }\n",
       "</style>\n",
       "<table border=\"1\" class=\"dataframe\">\n",
       "  <thead>\n",
       "    <tr style=\"text-align: right;\">\n",
       "      <th></th>\n",
       "      <th>word</th>\n",
       "    </tr>\n",
       "    <tr>\n",
       "      <th>word_index</th>\n",
       "      <th></th>\n",
       "    </tr>\n",
       "  </thead>\n",
       "  <tbody>\n",
       "    <tr>\n",
       "      <th>540315</th>\n",
       "      <td>0</td>\n",
       "    </tr>\n",
       "    <tr>\n",
       "      <th>536260</th>\n",
       "      <td>00</td>\n",
       "    </tr>\n",
       "    <tr>\n",
       "      <th>535641</th>\n",
       "      <td>000</td>\n",
       "    </tr>\n",
       "    <tr>\n",
       "      <th>83348</th>\n",
       "      <td>0000</td>\n",
       "    </tr>\n",
       "    <tr>\n",
       "      <th>81527</th>\n",
       "      <td>00000</td>\n",
       "    </tr>\n",
       "  </tbody>\n",
       "</table>\n",
       "</div>"
      ],
      "text/plain": [
       "             word\n",
       "word_index       \n",
       "540315          0\n",
       "536260         00\n",
       "535641        000\n",
       "83348        0000\n",
       "81527       00000"
      ]
     },
     "execution_count": 3,
     "metadata": {},
     "output_type": "execute_result"
    }
   ],
   "source": [
    "ser = pd.read_json('people_wiki_map_index_to_word.json', typ='series')\n",
    "map_index_to_word = pd.DataFrame(ser, columns=['word_index'])\n",
    "map_index_to_word['word'] = map_index_to_word.index\n",
    "map_index_to_word.index = map_index_to_word['word_index']\n",
    "map_index_to_word.drop('word_index', axis=1, inplace=True)\n",
    "map_index_to_word.head()"
   ]
  },
  {
   "cell_type": "code",
   "execution_count": 4,
   "metadata": {},
   "outputs": [
    {
     "data": {
      "text/plain": [
       "<59071x547979 sparse matrix of type '<class 'numpy.float64'>'\n",
       "\twith 10379283 stored elements in Compressed Sparse Row format>"
      ]
     },
     "execution_count": 4,
     "metadata": {},
     "output_type": "execute_result"
    }
   ],
   "source": [
    "def load_sparse_csr(filename):\n",
    "    loader = np.load(filename)\n",
    "    data = loader['data']\n",
    "    indices = loader['indices']\n",
    "    indptr = loader['indptr']\n",
    "    shape = loader['shape']\n",
    "    return csr_matrix( (data, indices, indptr), shape)\n",
    "\n",
    "tf_idf_matrix = load_sparse_csr('people_wiki_tf_idf.npz')\n",
    "tf_idf_matrix # sparse matrix with 59071 data points, 547979 features"
   ]
  },
  {
   "cell_type": "code",
   "execution_count": 5,
   "metadata": {
    "collapsed": true
   },
   "outputs": [],
   "source": [
    "tf_idf_matrix = normalize(tf_idf_matrix, axis=1)"
   ]
  },
  {
   "cell_type": "code",
   "execution_count": 6,
   "metadata": {
    "collapsed": true
   },
   "outputs": [],
   "source": [
    "def get_initial_centroids(data, k, seed=None):\n",
    "    # randomly choose k data points as initial centroids\n",
    "    if seed is not None: \n",
    "        np.random.seed(seed)\n",
    "    \n",
    "    n = data.shape[0]\n",
    "    indexes = np.random.randint(0, n, k)\n",
    "    centroids = data[indexes,:].toarray() # dense array\n",
    "    return centroids # k * d"
   ]
  },
  {
   "cell_type": "code",
   "execution_count": 7,
   "metadata": {},
   "outputs": [
    {
     "data": {
      "text/plain": [
       "(59071, 3)"
      ]
     },
     "execution_count": 7,
     "metadata": {},
     "output_type": "execute_result"
    }
   ],
   "source": [
    "#\n",
    "c = tf_idf_matrix[0:3]\n",
    "dist = pairwise_distances(tf_idf_matrix, c)\n",
    "dist.shape"
   ]
  },
  {
   "cell_type": "code",
   "execution_count": 8,
   "metadata": {
    "collapsed": true
   },
   "outputs": [],
   "source": [
    "def assign_clusters(data, centroids):\n",
    "    '''\n",
    "    data: n * d\n",
    "    centroids: k * d\n",
    "    '''\n",
    "    distances_from_centroids = pairwise_distances(data, centroids) # n * k\n",
    "    cluster_assignment = np.argmin(distances_from_centroids, axis=1) # n * 1\n",
    "    return cluster_assignment "
   ]
  },
  {
   "cell_type": "code",
   "execution_count": 9,
   "metadata": {},
   "outputs": [
    {
     "data": {
      "text/plain": [
       "array([2, 0, 0, 2, 1, 2, 0, 2, 2, 0, 0, 0, 2, 0, 0, 2, 2, 2, 0, 2], dtype=int64)"
      ]
     },
     "execution_count": 9,
     "metadata": {},
     "output_type": "execute_result"
    }
   ],
   "source": [
    "#\n",
    "assign_clusters(tf_idf_matrix[100:120], tf_idf_matrix[0:3])"
   ]
  },
  {
   "cell_type": "code",
   "execution_count": 10,
   "metadata": {
    "collapsed": true
   },
   "outputs": [],
   "source": [
    "def revise_centroids(data, k, cluster_assignment):\n",
    "    new_centroids = []\n",
    "    for i in range(k):\n",
    "        member_data_points = data[cluster_assignment==i]\n",
    "        centroid = member_data_points.mean(axis=0)\n",
    "        centroid = centroid.A1 # 1-d nparray\n",
    "        new_centroids.append(centroid)\n",
    "    new_centroids = np.array(new_centroids) # k * d\n",
    "    return new_centroids"
   ]
  },
  {
   "cell_type": "code",
   "execution_count": 11,
   "metadata": {
    "collapsed": true
   },
   "outputs": [],
   "source": [
    "def compute_heterogeneity(data, k, centroids, cluster_assignment):\n",
    "    heterogeneity = 0.0\n",
    "    for i in range(k):\n",
    "        member_data_points = data[cluster_assignment==i]\n",
    "        if member_data_points.shape[0] > 0: \n",
    "            distances = pairwise_distances(member_data_points, [centroids[i]], metric='euclidean')\n",
    "            squared_distances = distances**2\n",
    "            heterogeneity += np.sum(squared_distances)        \n",
    "    return heterogeneity"
   ]
  },
  {
   "cell_type": "code",
   "execution_count": 12,
   "metadata": {
    "collapsed": true
   },
   "outputs": [],
   "source": [
    "def kmeans(data, k, initial_centroids, maxiter, record_heterogeneity=None, verbose=False):\n",
    "    centroids = initial_centroids[:]\n",
    "    prev_cluster_assignment = None\n",
    "    \n",
    "    for itr in range(maxiter):        \n",
    "        if verbose:\n",
    "            print(itr)\n",
    "        \n",
    "        cluster_assignment = assign_clusters(data, centroids)\n",
    "        centroids = revise_centroids(data, k, cluster_assignment)\n",
    "            \n",
    "        # check for convergence\n",
    "        if prev_cluster_assignment is not None and (prev_cluster_assignment==cluster_assignment).all():\n",
    "            break\n",
    "        \n",
    "        # count new assignments\n",
    "        if prev_cluster_assignment is not None:\n",
    "            num_changed = np.sum(prev_cluster_assignment!=cluster_assignment)\n",
    "            if verbose:\n",
    "                print('  {0:5d} elements changed their cluster assignment.'.format(num_changed))   \n",
    "        \n",
    "        # record heterogeneity convergence metric\n",
    "        if record_heterogeneity is not None:\n",
    "            score = compute_heterogeneity(data, k, centroids, cluster_assignment)\n",
    "            record_heterogeneity.append(score)\n",
    "        \n",
    "        prev_cluster_assignment = cluster_assignment[:]\n",
    "        \n",
    "    return centroids, cluster_assignment"
   ]
  },
  {
   "cell_type": "code",
   "execution_count": 13,
   "metadata": {
    "collapsed": true
   },
   "outputs": [],
   "source": [
    "def plot_heterogeneity(heterogeneity, k):\n",
    "    plt.figure(figsize=(7,4))\n",
    "    plt.plot(heterogeneity, linewidth=4)\n",
    "    plt.xlabel('# Iterations')\n",
    "    plt.ylabel('Heterogeneity')\n",
    "    plt.title('Heterogeneity of clustering over time, K={0:d}'.format(k))\n",
    "    plt.rcParams.update({'font.size': 16})\n",
    "    plt.tight_layout()"
   ]
  },
  {
   "cell_type": "code",
   "execution_count": 14,
   "metadata": {},
   "outputs": [
    {
     "data": {
      "image/png": "[encoded data removed]",
      "text/plain": [
       "<matplotlib.figure.Figure at 0x20e4527fb00>"
      ]
     },
     "metadata": {},
     "output_type": "display_data"
    }
   ],
   "source": [
    "# k=3\n",
    "heterogeneity = []\n",
    "initial_centroids = get_initial_centroids(tf_idf_matrix, 3, seed=0)\n",
    "centroids, cluster_assignment = kmeans(tf_idf_matrix, 3, initial_centroids, maxiter=400, record_heterogeneity=heterogeneity)\n",
    "plot_heterogeneity(heterogeneity, 3)"
   ]
  },
  {
   "cell_type": "code",
   "execution_count": 15,
   "metadata": {},
   "outputs": [
    {
     "name": "stdout",
     "output_type": "stream",
     "text": [
      "cluster 0: 19595\n",
      "cluster 1: 10427\n",
      "cluster 2: 29049\n"
     ]
    }
   ],
   "source": [
    "# compute which cluster has the most data points\n",
    "for i in range(3):\n",
    "    print('cluster {}: {}'.format(i, np.sum(cluster_assignment==i)))"
   ]
  },
  {
   "cell_type": "code",
   "execution_count": 16,
   "metadata": {},
   "outputs": [
    {
     "name": "stdout",
     "output_type": "stream",
     "text": [
      "seed=0, heterogeneity=57457.52442292027, data points in the biggest cluster=18047\n",
      "seed=20000, heterogeneity=57533.20099687315, data points in the biggest cluster=15779\n",
      "seed=40000, heterogeneity=57512.692572562795, data points in the biggest cluster=18132\n",
      "seed=60000, heterogeneity=57466.97924645124, data points in the biggest cluster=17900\n",
      "seed=80000, heterogeneity=57494.92989694541, data points in the biggest cluster=17582\n",
      "seed=100000, heterogeneity=57484.42209612294, data points in the biggest cluster=16969\n",
      "seed=120000, heterogeneity=57554.624099931665, data points in the biggest cluster=16481\n",
      "547.170036315918\n"
     ]
    }
   ],
   "source": [
    "# run k-means with different initial centroids created using different random seeds\n",
    "# k=10\n",
    "heterogeneity = {}\n",
    "start = time.time()\n",
    "for seed in [0, 20000, 40000, 60000, 80000, 100000, 120000]:\n",
    "    initial_centroids = get_initial_centroids(tf_idf_matrix, 10, seed)\n",
    "    centroids, cluster_assignment = kmeans(tf_idf_matrix, 10, initial_centroids, maxiter=400)\n",
    "    # to save time, compute heterogeneity only once in the end\n",
    "    heterogeneity[seed] = compute_heterogeneity(tf_idf_matrix, 10, centroids, cluster_assignment)\n",
    "    biggest_cluster = np.argmax(np.bincount(cluster_assignment))\n",
    "    num_in_biggest_cluster = np.sum(cluster_assignment==biggest_cluster)\n",
    "    print('seed={}, heterogeneity={}, data points in the biggest cluster={}'.format(seed, heterogeneity[seed], num_in_biggest_cluster))\n",
    "    sys.stdout.flush()\n",
    "end = time.time()\n",
    "print(end-start)"
   ]
  },
  {
   "cell_type": "code",
   "execution_count": 17,
   "metadata": {
    "collapsed": true
   },
   "outputs": [],
   "source": [
    "# k-means++ to initialize a good set of centroids\n",
    "def smart_initialize(data, k, seed=None):\n",
    "    if seed is not None: \n",
    "        np.random.seed(seed)\n",
    "        \n",
    "    centroids = np.zeros((k, data.shape[1]))\n",
    "    idx = np.random.randint(data.shape[0])\n",
    "    centroids[0] = data[idx,:].toarray()\n",
    "    # Compute distances from the first centroid chosen to all the other data points\n",
    "    squared_distances = pairwise_distances(data, centroids[0:1], metric='euclidean').flatten()**2\n",
    "    \n",
    "    for i in range(1, k):\n",
    "        idx = np.random.choice(data.shape[0], 1, p=squared_distances/sum(squared_distances))\n",
    "        centroids[i] = data[idx,:].toarray()\n",
    "        squared_distances = np.min(pairwise_distances(data, centroids[0:i+1], metric='euclidean')**2, axis=1)\n",
    "    return centroids"
   ]
  },
  {
   "cell_type": "code",
   "execution_count": 18,
   "metadata": {},
   "outputs": [
    {
     "name": "stdout",
     "output_type": "stream",
     "text": [
      "seed=000000, heterogeneity=57468.63808\n",
      "seed=020000, heterogeneity=57486.94263\n",
      "seed=040000, heterogeneity=57454.35926\n",
      "seed=060000, heterogeneity=57530.43659\n",
      "seed=080000, heterogeneity=57454.51852\n",
      "seed=100000, heterogeneity=57471.56674\n",
      "seed=120000, heterogeneity=57523.28839\n",
      "719.8264513015747\n"
     ]
    }
   ],
   "source": [
    "heterogeneity_smart = {}\n",
    "start = time.time()\n",
    "for seed in [0, 20000, 40000, 60000, 80000, 100000, 120000]:\n",
    "    initial_centroids = smart_initialize(tf_idf_matrix, 10, seed)\n",
    "    centroids, cluster_assignment = kmeans(tf_idf_matrix, 10, initial_centroids, maxiter=400)\n",
    "    # to save time, compute heterogeneity only once in the end\n",
    "    heterogeneity_smart[seed] = compute_heterogeneity(tf_idf_matrix, 10, centroids, cluster_assignment)\n",
    "    print('seed={0:06d}, heterogeneity={1:.5f}'.format(seed, heterogeneity_smart[seed]))\n",
    "    sys.stdout.flush()\n",
    "end = time.time()\n",
    "print(end-start)"
   ]
  },
  {
   "cell_type": "code",
   "execution_count": 19,
   "metadata": {},
   "outputs": [
    {
     "data": {
      "image/png": "[encoded data removed]",
      "text/plain": [
       "<matplotlib.figure.Figure at 0x20e44feb7b8>"
      ]
     },
     "metadata": {},
     "output_type": "display_data"
    }
   ],
   "source": [
    "plt.figure(figsize=(8,5))\n",
    "plt.boxplot([list(heterogeneity.values()), list(heterogeneity_smart.values())], vert=False)\n",
    "plt.yticks([1, 2], ['k-means', 'k-means++'])\n",
    "plt.rcParams.update({'font.size': 16})\n",
    "plt.tight_layout()"
   ]
  },
  {
   "cell_type": "code",
   "execution_count": 20,
   "metadata": {
    "collapsed": true
   },
   "outputs": [],
   "source": [
    "def kmeans_multiple_runs(data, k, maxiter, num_runs, seed_list=None, verbose=False):\n",
    "    heterogeneity = {}\n",
    "    \n",
    "    min_heterogeneity_achieved = float('inf')\n",
    "    best_seed = None\n",
    "    best_centroids = None\n",
    "    best_cluster_assignment = None\n",
    "    \n",
    "    for i in range(num_runs):\n",
    "        if seed_list is not None: \n",
    "            seed = seed_list[i]\n",
    "            np.random.seed(seed)\n",
    "        else: \n",
    "            seed = int(time.time())\n",
    "            np.random.seed(seed)\n",
    "        \n",
    "        initial_centroids = get_initial_centroids(data, k)\n",
    "        centroids, cluster_assignment = assign_clusters(data, initial_centroids)\n",
    "        heterogeneity[seed] = compute_heterogeneity(data, k, centroids, cluster_assignment)\n",
    "        \n",
    "        if verbose:\n",
    "            print('seed={0:06d}, heterogeneity={1:.5f}'.format(seed, heterogeneity[seed]))\n",
    "            sys.stdout.flush()\n",
    "\n",
    "        if heterogeneity[seed] < min_heterogeneity_achieved:\n",
    "            min_heterogeneity_achieved = heterogeneity[seed]\n",
    "            best_seed = seed\n",
    "            best_centroids = centroids\n",
    "            best_cluster_assignment = cluster_assignment\n",
    "    \n",
    "    return best_centroids, best_cluster_assignment"
   ]
  },
  {
   "cell_type": "code",
   "execution_count": 21,
   "metadata": {},
   "outputs": [
    {
     "data": {
      "image/png": "[encoded data removed]",
      "text/plain": [
       "<matplotlib.figure.Figure at 0x20e43533f98>"
      ]
     },
     "metadata": {},
     "output_type": "display_data"
    }
   ],
   "source": [
    "def plot_k_vs_heterogeneity(k_values, heterogeneity_values):\n",
    "    plt.figure(figsize=(7,4))\n",
    "    plt.plot(k_values, heterogeneity_values, linewidth=4)\n",
    "    plt.xlabel('K')\n",
    "    plt.ylabel('Heterogeneity')\n",
    "    plt.title('K vs. Heterogeneity')\n",
    "    plt.rcParams.update({'font.size': 16})\n",
    "    plt.tight_layout()\n",
    "\n",
    "filename = 'kmeans-arrays.npz'\n",
    "\n",
    "heterogeneity_values = []\n",
    "k_list = [2, 10, 25, 50, 100]\n",
    "\n",
    "if os.path.exists(filename):\n",
    "    arrays = np.load(filename)\n",
    "    centroids = {}\n",
    "    cluster_assignment = {}\n",
    "    for k in k_list:\n",
    "        sys.stdout.flush()\n",
    "        centroids[k] = arrays['centroids_{0:d}'.format(k)]\n",
    "        cluster_assignment[k] = arrays['cluster_assignment_{0:d}'.format(k)]\n",
    "        score = compute_heterogeneity(tf_idf_matrix, k, centroids[k], cluster_assignment[k])\n",
    "        heterogeneity_values.append(score)\n",
    "    \n",
    "    plot_k_vs_heterogeneity(k_list, heterogeneity_values)\n",
    "\n",
    "else:\n",
    "    print('File not found. Skipping.')"
   ]
  },
  {
   "cell_type": "code",
   "execution_count": 22,
   "metadata": {
    "collapsed": true
   },
   "outputs": [],
   "source": [
    "def visualize_document_clusters(centroids, k, map_index_to_word):\n",
    "    print('==========================================================')\n",
    "    for cluster_index in range(k):\n",
    "        print('# Cluster', cluster_index)\n",
    "        # top 5 words with largest TF-IDF weights in the cluster\n",
    "        indexes = centroids[cluster_index].argsort()[::-1][:5]\n",
    "        for i in range(5): # print each word along with the TF-IDF weight\n",
    "            print('{0}: {1:.3f}'.format(map_index_to_word.loc[indexes[i]]['word'], centroids[cluster_index, indexes[i]]))\n",
    "        print('==========================================================')"
   ]
  },
  {
   "cell_type": "code",
   "execution_count": 23,
   "metadata": {},
   "outputs": [
    {
     "name": "stdout",
     "output_type": "stream",
     "text": [
      "==========================================================\n",
      "# Cluster 0\n",
      "she: 0.025\n",
      "her: 0.017\n",
      "music: 0.012\n",
      "he: 0.011\n",
      "university: 0.011\n",
      "==========================================================\n",
      "# Cluster 1\n",
      "league: 0.040\n",
      "season: 0.036\n",
      "team: 0.029\n",
      "football: 0.029\n",
      "played: 0.028\n",
      "==========================================================\n"
     ]
    }
   ],
   "source": [
    "visualize_document_clusters(centroids[2], 2, map_index_to_word)"
   ]
  },
  {
   "cell_type": "code",
   "execution_count": 24,
   "metadata": {},
   "outputs": [
    {
     "name": "stdout",
     "output_type": "stream",
     "text": [
      "==========================================================\n",
      "# Cluster 0\n",
      "film: 0.020\n",
      "art: 0.014\n",
      "he: 0.011\n",
      "book: 0.010\n",
      "television: 0.010\n",
      "==========================================================\n",
      "# Cluster 1\n",
      "league: 0.052\n",
      "rugby: 0.044\n",
      "club: 0.042\n",
      "cup: 0.042\n",
      "season: 0.041\n",
      "==========================================================\n",
      "# Cluster 2\n",
      "championships: 0.040\n",
      "tour: 0.037\n",
      "championship: 0.032\n",
      "world: 0.029\n",
      "won: 0.029\n",
      "==========================================================\n",
      "# Cluster 3\n",
      "baseball: 0.110\n",
      "league: 0.103\n",
      "major: 0.052\n",
      "games: 0.047\n",
      "season: 0.045\n",
      "==========================================================\n",
      "# Cluster 4\n",
      "research: 0.038\n",
      "university: 0.035\n",
      "professor: 0.032\n",
      "science: 0.023\n",
      "institute: 0.019\n",
      "==========================================================\n",
      "# Cluster 5\n",
      "football: 0.076\n",
      "coach: 0.060\n",
      "basketball: 0.056\n",
      "season: 0.044\n",
      "played: 0.037\n",
      "==========================================================\n",
      "# Cluster 6\n",
      "she: 0.138\n",
      "her: 0.089\n",
      "actress: 0.014\n",
      "film: 0.013\n",
      "miss: 0.012\n",
      "==========================================================\n",
      "# Cluster 7\n",
      "music: 0.057\n",
      "album: 0.040\n",
      "band: 0.035\n",
      "orchestra: 0.023\n",
      "released: 0.022\n",
      "==========================================================\n",
      "# Cluster 8\n",
      "hockey: 0.216\n",
      "nhl: 0.134\n",
      "ice: 0.065\n",
      "season: 0.053\n",
      "league: 0.047\n",
      "==========================================================\n",
      "# Cluster 9\n",
      "party: 0.028\n",
      "election: 0.025\n",
      "minister: 0.025\n",
      "served: 0.021\n",
      "law: 0.019\n",
      "==========================================================\n"
     ]
    }
   ],
   "source": [
    "visualize_document_clusters(centroids[10], 10, map_index_to_word)"
   ]
  },
  {
   "cell_type": "code",
   "execution_count": 25,
   "metadata": {},
   "outputs": [
    {
     "name": "stdout",
     "output_type": "stream",
     "text": [
      "0\n",
      "8\n"
     ]
    }
   ],
   "source": [
    "# compute cluster which contains the greatest/least number of articles\n",
    "cluster_assignment[10]\n",
    "biggest_cluster = np.argmax(np.bincount(cluster_assignment[10]))\n",
    "smallest_cluster = np.argmin(np.bincount(cluster_assignment[10]))\n",
    "print(biggest_cluster)\n",
    "print(smallest_cluster)"
   ]
  },
  {
   "cell_type": "code",
   "execution_count": 26,
   "metadata": {},
   "outputs": [
    {
     "name": "stdout",
     "output_type": "stream",
     "text": [
      "==========================================================\n",
      "# Cluster 0\n",
      "law: 0.077\n",
      "district: 0.048\n",
      "court: 0.046\n",
      "republican: 0.038\n",
      "senate: 0.038\n",
      "==========================================================\n",
      "# Cluster 1\n",
      "research: 0.054\n",
      "professor: 0.033\n",
      "science: 0.032\n",
      "university: 0.031\n",
      "physics: 0.029\n",
      "==========================================================\n",
      "# Cluster 2\n",
      "hockey: 0.216\n",
      "nhl: 0.134\n",
      "ice: 0.065\n",
      "season: 0.052\n",
      "league: 0.047\n",
      "==========================================================\n",
      "# Cluster 3\n",
      "party: 0.065\n",
      "election: 0.042\n",
      "elected: 0.031\n",
      "parliament: 0.027\n",
      "member: 0.023\n",
      "==========================================================\n",
      "# Cluster 4\n",
      "board: 0.025\n",
      "president: 0.023\n",
      "chairman: 0.022\n",
      "business: 0.022\n",
      "executive: 0.020\n",
      "==========================================================\n",
      "# Cluster 5\n",
      "minister: 0.160\n",
      "prime: 0.056\n",
      "cabinet: 0.044\n",
      "party: 0.043\n",
      "election: 0.042\n",
      "==========================================================\n",
      "# Cluster 6\n",
      "university: 0.044\n",
      "professor: 0.037\n",
      "studies: 0.035\n",
      "history: 0.034\n",
      "philosophy: 0.031\n",
      "==========================================================\n",
      "# Cluster 7\n",
      "election: 0.066\n",
      "manitoba: 0.058\n",
      "liberal: 0.051\n",
      "party: 0.045\n",
      "riding: 0.043\n",
      "==========================================================\n",
      "# Cluster 8\n",
      "racing: 0.095\n",
      "formula: 0.056\n",
      "championship: 0.054\n",
      "race: 0.052\n",
      "poker: 0.051\n",
      "==========================================================\n",
      "# Cluster 9\n",
      "economics: 0.146\n",
      "economic: 0.096\n",
      "economist: 0.053\n",
      "policy: 0.048\n",
      "research: 0.043\n",
      "==========================================================\n",
      "# Cluster 10\n",
      "championships: 0.075\n",
      "olympics: 0.050\n",
      "marathon: 0.048\n",
      "metres: 0.048\n",
      "she: 0.048\n",
      "==========================================================\n",
      "# Cluster 11\n",
      "she: 0.144\n",
      "her: 0.092\n",
      "miss: 0.016\n",
      "actress: 0.015\n",
      "television: 0.012\n",
      "==========================================================\n",
      "# Cluster 12\n",
      "he: 0.011\n",
      "radio: 0.009\n",
      "show: 0.009\n",
      "that: 0.009\n",
      "his: 0.009\n",
      "==========================================================\n",
      "# Cluster 13\n",
      "baseball: 0.109\n",
      "league: 0.104\n",
      "major: 0.052\n",
      "games: 0.047\n",
      "season: 0.045\n",
      "==========================================================\n",
      "# Cluster 14\n",
      "art: 0.144\n",
      "museum: 0.076\n",
      "gallery: 0.056\n",
      "artist: 0.033\n",
      "arts: 0.031\n",
      "==========================================================\n",
      "# Cluster 15\n",
      "football: 0.125\n",
      "afl: 0.060\n",
      "nfl: 0.051\n",
      "season: 0.049\n",
      "played: 0.045\n",
      "==========================================================\n",
      "# Cluster 16\n",
      "music: 0.097\n",
      "jazz: 0.061\n",
      "piano: 0.033\n",
      "composer: 0.029\n",
      "orchestra: 0.028\n",
      "==========================================================\n",
      "# Cluster 17\n",
      "league: 0.052\n",
      "rugby: 0.044\n",
      "club: 0.043\n",
      "cup: 0.042\n",
      "season: 0.042\n",
      "==========================================================\n",
      "# Cluster 18\n",
      "poetry: 0.055\n",
      "novel: 0.045\n",
      "book: 0.042\n",
      "published: 0.039\n",
      "fiction: 0.035\n",
      "==========================================================\n",
      "# Cluster 19\n",
      "film: 0.095\n",
      "theatre: 0.038\n",
      "films: 0.035\n",
      "directed: 0.029\n",
      "television: 0.028\n",
      "==========================================================\n",
      "# Cluster 20\n",
      "album: 0.064\n",
      "band: 0.049\n",
      "music: 0.037\n",
      "released: 0.033\n",
      "song: 0.025\n",
      "==========================================================\n",
      "# Cluster 21\n",
      "bishop: 0.075\n",
      "air: 0.066\n",
      "force: 0.048\n",
      "church: 0.047\n",
      "command: 0.045\n",
      "==========================================================\n",
      "# Cluster 22\n",
      "orchestra: 0.146\n",
      "opera: 0.116\n",
      "symphony: 0.106\n",
      "conductor: 0.077\n",
      "music: 0.064\n",
      "==========================================================\n",
      "# Cluster 23\n",
      "basketball: 0.120\n",
      "coach: 0.105\n",
      "nba: 0.065\n",
      "head: 0.042\n",
      "season: 0.040\n",
      "==========================================================\n",
      "# Cluster 24\n",
      "tour: 0.256\n",
      "pga: 0.213\n",
      "golf: 0.142\n",
      "open: 0.073\n",
      "golfer: 0.062\n",
      "==========================================================\n"
     ]
    }
   ],
   "source": [
    "visualize_document_clusters(centroids[25], 25, map_index_to_word)"
   ]
  },
  {
   "cell_type": "code",
   "execution_count": 27,
   "metadata": {},
   "outputs": [
    {
     "data": {
      "text/plain": [
       "29"
      ]
     },
     "execution_count": 27,
     "metadata": {},
     "output_type": "execute_result"
    }
   ],
   "source": [
    "# compute how many clusters have fewer than 236 articles (0.4% of the dataset) (k = 100)\n",
    "cluster_num = 0\n",
    "for i in range(100):\n",
    "    num = np.sum(cluster_assignment[100]==i)\n",
    "    if num < 236:\n",
    "        cluster_num += 1\n",
    "cluster_num"
   ]
  }
 ],
 "metadata": {
  "kernelspec": {
   "display_name": "Python 3",
   "language": "python",
   "name": "python3"
  },
  "language_info": {
   "codemirror_mode": {
    "name": "ipython",
    "version": 3
   },
   "file_extension": ".py",
   "mimetype": "text/x-python",
   "name": "python",
   "nbconvert_exporter": "python",
   "pygments_lexer": "ipython3",
   "version": "3.6.1"
  }
 },
 "nbformat": 4,
 "nbformat_minor": 2
}
