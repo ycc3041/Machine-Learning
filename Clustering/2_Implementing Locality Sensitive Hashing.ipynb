{
 "cells": [
  {
   "cell_type": "markdown",
   "metadata": {},
   "source": [
    "# W2(II)_Implementing Locality Sensitive Hashing"
   ]
  },
  {
   "cell_type": "code",
   "execution_count": 1,
   "metadata": {
    "collapsed": true
   },
   "outputs": [],
   "source": [
    "import numpy as np\n",
    "import pandas as pd\n",
    "import matplotlib.pyplot as plt\n",
    "%matplotlib inline\n",
    "from scipy.sparse import csr_matrix\n",
    "from sklearn.metrics.pairwise import pairwise_distances\n",
    "from copy import copy\n",
    "from itertools import combinations\n",
    "import time"
   ]
  },
  {
   "cell_type": "code",
   "execution_count": 2,
   "metadata": {
    "collapsed": true
   },
   "outputs": [],
   "source": [
    "# compute norm of a sparse vector\n",
    "def norm(x):\n",
    "    norm = np.sqrt(np.dot(x, x.T))\n",
    "    return norm"
   ]
  },
  {
   "cell_type": "code",
   "execution_count": 3,
   "metadata": {},
   "outputs": [
    {
     "data": {
      "text/html": [
       "<div>\n",
       "<style>\n",
       "    .dataframe thead tr:only-child th {\n",
       "        text-align: right;\n",
       "    }\n",
       "\n",
       "    .dataframe thead th {\n",
       "        text-align: left;\n",
       "    }\n",
       "\n",
       "    .dataframe tbody tr th {\n",
       "        vertical-align: top;\n",
       "    }\n",
       "</style>\n",
       "<table border=\"1\" class=\"dataframe\">\n",
       "  <thead>\n",
       "    <tr style=\"text-align: right;\">\n",
       "      <th></th>\n",
       "      <th>index</th>\n",
       "      <th>name</th>\n",
       "      <th>text</th>\n",
       "    </tr>\n",
       "  </thead>\n",
       "  <tbody>\n",
       "    <tr>\n",
       "      <th>0</th>\n",
       "      <td>0</td>\n",
       "      <td>Digby Morrell</td>\n",
       "      <td>digby morrell born 10 october 1979 is a former...</td>\n",
       "    </tr>\n",
       "    <tr>\n",
       "      <th>1</th>\n",
       "      <td>1</td>\n",
       "      <td>Alfred J. Lewy</td>\n",
       "      <td>alfred j lewy aka sandy lewy graduated from un...</td>\n",
       "    </tr>\n",
       "    <tr>\n",
       "      <th>2</th>\n",
       "      <td>2</td>\n",
       "      <td>Harpdog Brown</td>\n",
       "      <td>harpdog brown is a singer and harmonica player...</td>\n",
       "    </tr>\n",
       "    <tr>\n",
       "      <th>3</th>\n",
       "      <td>3</td>\n",
       "      <td>Franz Rottensteiner</td>\n",
       "      <td>franz rottensteiner born in waidmannsfeld lowe...</td>\n",
       "    </tr>\n",
       "    <tr>\n",
       "      <th>4</th>\n",
       "      <td>4</td>\n",
       "      <td>G-Enka</td>\n",
       "      <td>henry krvits born 30 december 1974 in tallinn ...</td>\n",
       "    </tr>\n",
       "  </tbody>\n",
       "</table>\n",
       "</div>"
      ],
      "text/plain": [
       "   index                 name  \\\n",
       "0      0        Digby Morrell   \n",
       "1      1       Alfred J. Lewy   \n",
       "2      2        Harpdog Brown   \n",
       "3      3  Franz Rottensteiner   \n",
       "4      4               G-Enka   \n",
       "\n",
       "                                                text  \n",
       "0  digby morrell born 10 october 1979 is a former...  \n",
       "1  alfred j lewy aka sandy lewy graduated from un...  \n",
       "2  harpdog brown is a singer and harmonica player...  \n",
       "3  franz rottensteiner born in waidmannsfeld lowe...  \n",
       "4  henry krvits born 30 december 1974 in tallinn ...  "
      ]
     },
     "execution_count": 3,
     "metadata": {},
     "output_type": "execute_result"
    }
   ],
   "source": [
    "data = pd.read_csv('people_wiki.csv')\n",
    "data['index'] = np.array(range(len(data)))\n",
    "col = ['index', 'name', 'text']\n",
    "data = data[col]\n",
    "data.head()"
   ]
  },
  {
   "cell_type": "code",
   "execution_count": 4,
   "metadata": {},
   "outputs": [
    {
     "data": {
      "text/plain": [
       "<59071x547979 sparse matrix of type '<class 'numpy.float64'>'\n",
       "\twith 10379283 stored elements in Compressed Sparse Row format>"
      ]
     },
     "execution_count": 4,
     "metadata": {},
     "output_type": "execute_result"
    }
   ],
   "source": [
    "def load_sparse_csr(filename):\n",
    "    loader = np.load(filename)\n",
    "    data = loader['data']\n",
    "    indices = loader['indices']\n",
    "    indptr = loader['indptr']\n",
    "    shape = loader['shape']\n",
    "    return csr_matrix( (data, indices, indptr), shape)\n",
    "\n",
    "tf_idf_matrix = load_sparse_csr('people_wiki_tf_idf.npz')\n",
    "tf_idf_matrix # sparse matrix with 59071 data points, 547979 features"
   ]
  },
  {
   "cell_type": "code",
   "execution_count": 5,
   "metadata": {},
   "outputs": [
    {
     "data": {
      "text/html": [
       "<div>\n",
       "<style>\n",
       "    .dataframe thead tr:only-child th {\n",
       "        text-align: right;\n",
       "    }\n",
       "\n",
       "    .dataframe thead th {\n",
       "        text-align: left;\n",
       "    }\n",
       "\n",
       "    .dataframe tbody tr th {\n",
       "        vertical-align: top;\n",
       "    }\n",
       "</style>\n",
       "<table border=\"1\" class=\"dataframe\">\n",
       "  <thead>\n",
       "    <tr style=\"text-align: right;\">\n",
       "      <th></th>\n",
       "      <th>index</th>\n",
       "      <th>name</th>\n",
       "      <th>text</th>\n",
       "      <th>word_count</th>\n",
       "    </tr>\n",
       "  </thead>\n",
       "  <tbody>\n",
       "    <tr>\n",
       "      <th>0</th>\n",
       "      <td>0</td>\n",
       "      <td>Digby Morrell</td>\n",
       "      <td>digby morrell born 10 october 1979 is a former...</td>\n",
       "      <td>{'brisbaneafter': 10.986495389225194, 'edflhe'...</td>\n",
       "    </tr>\n",
       "    <tr>\n",
       "      <th>1</th>\n",
       "      <td>1</td>\n",
       "      <td>Alfred J. Lewy</td>\n",
       "      <td>alfred j lewy aka sandy lewy graduated from un...</td>\n",
       "      <td>{'maladaptation': 10.986495389225194, 'phasede...</td>\n",
       "    </tr>\n",
       "    <tr>\n",
       "      <th>2</th>\n",
       "      <td>2</td>\n",
       "      <td>Harpdog Brown</td>\n",
       "      <td>harpdog brown is a singer and harmonica player...</td>\n",
       "      <td>{'germanyover': 10.986495389225194, 'bluesgosp...</td>\n",
       "    </tr>\n",
       "    <tr>\n",
       "      <th>3</th>\n",
       "      <td>3</td>\n",
       "      <td>Franz Rottensteiner</td>\n",
       "      <td>franz rottensteiner born in waidmannsfeld lowe...</td>\n",
       "      <td>{'fantasticrottensteiner': 10.986495389225194,...</td>\n",
       "    </tr>\n",
       "    <tr>\n",
       "      <th>4</th>\n",
       "      <td>4</td>\n",
       "      <td>G-Enka</td>\n",
       "      <td>henry krvits born 30 december 1974 in tallinn ...</td>\n",
       "      <td>{'arhm': 32.95948616767558, 'gangstergenka': 1...</td>\n",
       "    </tr>\n",
       "  </tbody>\n",
       "</table>\n",
       "</div>"
      ],
      "text/plain": [
       "   index                 name  \\\n",
       "0      0        Digby Morrell   \n",
       "1      1       Alfred J. Lewy   \n",
       "2      2        Harpdog Brown   \n",
       "3      3  Franz Rottensteiner   \n",
       "4      4               G-Enka   \n",
       "\n",
       "                                                text  \\\n",
       "0  digby morrell born 10 october 1979 is a former...   \n",
       "1  alfred j lewy aka sandy lewy graduated from un...   \n",
       "2  harpdog brown is a singer and harmonica player...   \n",
       "3  franz rottensteiner born in waidmannsfeld lowe...   \n",
       "4  henry krvits born 30 december 1974 in tallinn ...   \n",
       "\n",
       "                                          word_count  \n",
       "0  {'brisbaneafter': 10.986495389225194, 'edflhe'...  \n",
       "1  {'maladaptation': 10.986495389225194, 'phasede...  \n",
       "2  {'germanyover': 10.986495389225194, 'bluesgosp...  \n",
       "3  {'fantasticrottensteiner': 10.986495389225194,...  \n",
       "4  {'arhm': 32.95948616767558, 'gangstergenka': 1...  "
      ]
     },
     "execution_count": 5,
     "metadata": {},
     "output_type": "execute_result"
    }
   ],
   "source": [
    "word_index_ser = pd.read_json('people_wiki_map_index_to_word.json', typ='series')\n",
    "word_index_dic = dict(word_index_ser)\n",
    "\n",
    "def unpack_dict(matrix, word_index_dic):\n",
    "    table = sorted(word_index_dic, key=word_index_dic.get)\n",
    "    data = matrix.data\n",
    "    indices = matrix.indices\n",
    "    indptr = matrix.indptr\n",
    "    num_doc = matrix.shape[0]\n",
    "    return [{k:v for k,v in zip([table[word_id] for word_id in indices[indptr[i]:indptr[i+1]]], data[indptr[i]:indptr[i+1]].tolist())} for i in range(num_doc)]\n",
    "\n",
    "data['word_count'] = unpack_dict(tf_idf_matrix, word_index_dic)\n",
    "data.head()"
   ]
  },
  {
   "cell_type": "code",
   "execution_count": 6,
   "metadata": {
    "collapsed": true
   },
   "outputs": [],
   "source": [
    "def generate_random_vectors(num_dim, num_bin):\n",
    "    return np.random.randn(num_dim, num_bin)"
   ]
  },
  {
   "cell_type": "code",
   "execution_count": 7,
   "metadata": {
    "collapsed": true
   },
   "outputs": [],
   "source": [
    "def LSH_model(data, num_bin=16, seed=None):\n",
    "    if seed is not None:\n",
    "        np.random.seed(seed)\n",
    "\n",
    "    dim = data.shape[1]\n",
    "    random_vectors = generate_random_vectors(dim, num_bin) # dim * bin\n",
    "    powers_of_two = 2 ** np.arange(num_bin-1, -1, -1) # bin * 1\n",
    "     \n",
    "    # partition data points into bins\n",
    "    bin_index_bits = (data.dot(random_vectors) >= 0) # n * bin\n",
    "  \n",
    "    # encode bin index bits into integers\n",
    "    bin_indexes = bin_index_bits.dot(powers_of_two) # n * 1\n",
    "    \n",
    "    table = {}\n",
    "    for data_index, bin_index in enumerate(bin_indexes):\n",
    "        if bin_index not in table:\n",
    "            table[bin_index] = []\n",
    "        table[bin_index].append(data_index)\n",
    "            \n",
    "    model = {'data': data,\n",
    "             'bin_index_bits': bin_index_bits,\n",
    "             'bin_indexes': bin_indexes,\n",
    "             'table': table,\n",
    "             'random_vectors': random_vectors,\n",
    "             'num_bin': num_bin}\n",
    "    \n",
    "    return model"
   ]
  },
  {
   "cell_type": "code",
   "execution_count": 8,
   "metadata": {
    "collapsed": true
   },
   "outputs": [],
   "source": [
    "model = LSH_model(tf_idf_matrix, num_bin=16, seed=143)"
   ]
  },
  {
   "cell_type": "code",
   "execution_count": 9,
   "metadata": {
    "collapsed": true
   },
   "outputs": [],
   "source": [
    "def consine_distance(a ,b):\n",
    "    # a, b are sparse matrix\n",
    "    ab = a.dot(b.T)\n",
    "    dist = ab / (norm(a) * norm(b)) \n",
    "    return 1 - dist[0,0]"
   ]
  },
  {
   "cell_type": "code",
   "execution_count": 10,
   "metadata": {},
   "outputs": [
    {
     "data": {
      "text/plain": [
       "0.70313867673357477"
      ]
     },
     "execution_count": 10,
     "metadata": {},
     "output_type": "execute_result"
    }
   ],
   "source": [
    "a = tf_idf_matrix[35817,:]\n",
    "b = tf_idf_matrix[24478,:]\n",
    "consine_distance(a, b)"
   ]
  },
  {
   "cell_type": "code",
   "execution_count": 11,
   "metadata": {
    "collapsed": true
   },
   "outputs": [],
   "source": [
    "def search_nearby_bins(query_bin_bits, table, search_radius=2, initial_candidates=set()):\n",
    "    num_bin = len(query_bin_bits)\n",
    "    powers_of_two = 2 ** np.arange(num_bin-1, -1, -1)\n",
    "    candidate_set = copy(initial_candidates)\n",
    "    \n",
    "    for changed_bits in combinations(range(num_bin), search_radius):       \n",
    "        nearby_bin_bits = copy(query_bin_bits)\n",
    "        for i in changed_bits:\n",
    "            nearby_bin_bits[i] = not(nearby_bin_bits[i]) # flip the bit\n",
    "        \n",
    "        nearby_bin_index = nearby_bin_bits.dot(powers_of_two)\n",
    "        \n",
    "        if nearby_bin_index in table:\n",
    "            candidate_set.update(set(table[nearby_bin_index]))            \n",
    "            \n",
    "    return candidate_set"
   ]
  },
  {
   "cell_type": "code",
   "execution_count": 12,
   "metadata": {},
   "outputs": [
    {
     "name": "stdout",
     "output_type": "stream",
     "text": [
      "# search radius=0\n",
      "{39426, 35817, 53937, 21426, 50261}\n",
      "----------\n",
      "# search radius=1\n",
      "{39426, 38155, 38412, 27404, 28444, 9757, 47773, 41631, 39207, 59050, 53937, 21426, 23229, 55615, 39877, 33996, 21715, 50261, 21975, 33243, 58723, 35817, 45676, 19699, 2804, 34547, 20347}\n"
     ]
    }
   ],
   "source": [
    "obama_bin_bits = model['bin_index_bits'][35817] # bin index of Barack Obama\n",
    "candidate_set = search_nearby_bins(obama_bin_bits, model['table'], search_radius=0)\n",
    "print('# search radius=0')\n",
    "print(candidate_set)\n",
    "print('----------')\n",
    "print('# search radius=1')\n",
    "candidate_set = search_nearby_bins(obama_bin_bits, model['table'], search_radius=1, initial_candidates=candidate_set)\n",
    "print(candidate_set)"
   ]
  },
  {
   "cell_type": "code",
   "execution_count": 13,
   "metadata": {
    "collapsed": true
   },
   "outputs": [],
   "source": [
    "def query(query_vec, model, k, max_search_radius):\n",
    "  \n",
    "    data = model['data']\n",
    "    table = model['table']\n",
    "    random_vectors = model['random_vectors']\n",
    "    num_bin = random_vectors.shape[1]\n",
    "    \n",
    "    bin_index_bits = (query_vec.dot(random_vectors) >= 0).flatten()\n",
    "    \n",
    "    # search nearby bins and collect candidates\n",
    "    candidate_set = set()\n",
    "    for search_radius in range(max_search_radius+1):\n",
    "        candidate_set = search_nearby_bins(bin_index_bits, table, search_radius, initial_candidates=candidate_set)\n",
    "    # sort candidates by their true distances from the query\n",
    "    \n",
    "    nearest_neighbors = pd.DataFrame({'index':list(candidate_set)})\n",
    "    candidates = data[np.array(list(candidate_set)),:]\n",
    "    nearest_neighbors['distance'] = pairwise_distances(candidates, query_vec, metric='cosine').flatten()\n",
    "    \n",
    "    return nearest_neighbors.sort_values(by=['distance'])[:k], len(candidate_set)"
   ]
  },
  {
   "cell_type": "code",
   "execution_count": 14,
   "metadata": {
    "collapsed": true
   },
   "outputs": [],
   "source": [
    "NN_result, num_candidates = query(tf_idf_matrix[35817,:], model, k=10, max_search_radius=3)"
   ]
  },
  {
   "cell_type": "code",
   "execution_count": 15,
   "metadata": {},
   "outputs": [
    {
     "data": {
      "text/html": [
       "<div>\n",
       "<style>\n",
       "    .dataframe thead tr:only-child th {\n",
       "        text-align: right;\n",
       "    }\n",
       "\n",
       "    .dataframe thead th {\n",
       "        text-align: left;\n",
       "    }\n",
       "\n",
       "    .dataframe tbody tr th {\n",
       "        vertical-align: top;\n",
       "    }\n",
       "</style>\n",
       "<table border=\"1\" class=\"dataframe\">\n",
       "  <thead>\n",
       "    <tr style=\"text-align: right;\">\n",
       "      <th></th>\n",
       "      <th>distance</th>\n",
       "      <th>index</th>\n",
       "      <th>name</th>\n",
       "    </tr>\n",
       "  </thead>\n",
       "  <tbody>\n",
       "    <tr>\n",
       "      <th>555</th>\n",
       "      <td>0.000000</td>\n",
       "      <td>35817</td>\n",
       "      <td>Barack Obama</td>\n",
       "    </tr>\n",
       "    <tr>\n",
       "      <th>715</th>\n",
       "      <td>0.703139</td>\n",
       "      <td>24478</td>\n",
       "      <td>Joe Biden</td>\n",
       "    </tr>\n",
       "    <tr>\n",
       "      <th>495</th>\n",
       "      <td>0.856848</td>\n",
       "      <td>56008</td>\n",
       "      <td>Nathan Cullen</td>\n",
       "    </tr>\n",
       "    <tr>\n",
       "      <th>61</th>\n",
       "      <td>0.874669</td>\n",
       "      <td>37199</td>\n",
       "      <td>Barry Sullivan (lawyer)</td>\n",
       "    </tr>\n",
       "    <tr>\n",
       "      <th>623</th>\n",
       "      <td>0.890034</td>\n",
       "      <td>40353</td>\n",
       "      <td>Neil MacBride</td>\n",
       "    </tr>\n",
       "    <tr>\n",
       "      <th>180</th>\n",
       "      <td>0.898377</td>\n",
       "      <td>9267</td>\n",
       "      <td>Vikramaditya Khanna</td>\n",
       "    </tr>\n",
       "    <tr>\n",
       "      <th>474</th>\n",
       "      <td>0.899340</td>\n",
       "      <td>55909</td>\n",
       "      <td>Herman Cain</td>\n",
       "    </tr>\n",
       "    <tr>\n",
       "      <th>167</th>\n",
       "      <td>0.900921</td>\n",
       "      <td>9165</td>\n",
       "      <td>Raymond F. Clevenger</td>\n",
       "    </tr>\n",
       "    <tr>\n",
       "      <th>109</th>\n",
       "      <td>0.903003</td>\n",
       "      <td>57958</td>\n",
       "      <td>Michael J. Malbin</td>\n",
       "    </tr>\n",
       "    <tr>\n",
       "      <th>128</th>\n",
       "      <td>0.909533</td>\n",
       "      <td>49872</td>\n",
       "      <td>Lowell Barron</td>\n",
       "    </tr>\n",
       "  </tbody>\n",
       "</table>\n",
       "</div>"
      ],
      "text/plain": [
       "     distance  index                     name\n",
       "555  0.000000  35817             Barack Obama\n",
       "715  0.703139  24478                Joe Biden\n",
       "495  0.856848  56008            Nathan Cullen\n",
       "61   0.874669  37199  Barry Sullivan (lawyer)\n",
       "623  0.890034  40353            Neil MacBride\n",
       "180  0.898377   9267      Vikramaditya Khanna\n",
       "474  0.899340  55909              Herman Cain\n",
       "167  0.900921   9165     Raymond F. Clevenger\n",
       "109  0.903003  57958        Michael J. Malbin\n",
       "128  0.909533  49872            Lowell Barron"
      ]
     },
     "execution_count": 15,
     "metadata": {},
     "output_type": "execute_result"
    }
   ],
   "source": [
    "NN_result.join(data[['index', 'name']], on='index', lsuffix='1').drop('index1', axis=1)"
   ]
  },
  {
   "cell_type": "code",
   "execution_count": 16,
   "metadata": {},
   "outputs": [
    {
     "name": "stdout",
     "output_type": "stream",
     "text": [
      "Radius: 0\n",
      "   distance  index                     name\n",
      "1  0.000000  35817             Barack Obama\n",
      "3  0.950867  21426            Mark Boulware\n",
      "0  0.975966  39426  John Wells (politician)\n",
      "4  0.978256  50261        Francis Longstaff\n",
      "2  0.993092  53937    Madurai T. Srinivasan\n",
      "Radius: 1\n",
      "    distance  index                                   name\n",
      "21  0.000000  35817                           Barack Obama\n",
      "7   0.947459  41631                            Binayak Sen\n",
      "11  0.950867  21426                          Mark Boulware\n",
      "19  0.951766  33243                        Janice Lachance\n",
      "15  0.960859  33996                            Rufus Black\n",
      "4   0.961081  28444                       John Paul Phelan\n",
      "26  0.974130  20347                        Gianni De Fraja\n",
      "0   0.975966  39426                John Wells (politician)\n",
      "25  0.978215  34547  Nathan Murphy (Australian politician)\n",
      "17  0.978256  50261                      Francis Longstaff\n",
      "Radius: 2\n",
      "     distance  index                 name\n",
      "147  0.000000  35817         Barack Obama\n",
      "124  0.703139  24478            Joe Biden\n",
      "10   0.898377   9267  Vikramaditya Khanna\n",
      "19   0.899340  55909          Herman Cain\n",
      "87   0.925713   6949   Harrison J. Goldin\n",
      "145  0.926398  23524        Paul Bennecke\n",
      "53   0.928498   5823       Adeleke Mamora\n",
      "117  0.934454  37262           Becky Cain\n",
      "114  0.936896  10121         Bill Bradley\n",
      "152  0.937809  54782   Thomas F. Hartnett\n",
      "Radius: 3\n",
      "     distance  index                     name\n",
      "555  0.000000  35817             Barack Obama\n",
      "715  0.703139  24478                Joe Biden\n",
      "495  0.856848  56008            Nathan Cullen\n",
      "61   0.874669  37199  Barry Sullivan (lawyer)\n",
      "623  0.890034  40353            Neil MacBride\n",
      "180  0.898377   9267      Vikramaditya Khanna\n",
      "474  0.899340  55909              Herman Cain\n",
      "167  0.900921   9165     Raymond F. Clevenger\n",
      "109  0.903003  57958        Michael J. Malbin\n",
      "128  0.909533  49872            Lowell Barron\n",
      "Radius: 4\n",
      "      distance  index                name\n",
      "1902  0.000000  35817        Barack Obama\n",
      "2472  0.703139  24478           Joe Biden\n",
      "2275  0.833985  36452        Bill Clinton\n",
      "179   0.839407  24848     John C. Eastman\n",
      "1376  0.840839  43155         Goodwin Liu\n",
      "1273  0.849078  42965     John O. Brennan\n",
      "1724  0.856848  56008       Nathan Cullen\n",
      "1023  0.857574  38495        Barney Frank\n",
      "1487  0.858899  18752      Dan W. Reicher\n",
      "1310  0.874643   2092  Richard Blumenthal\n",
      "Radius: 5\n",
      "      distance  index                     name\n",
      "1347  0.000000  35817             Barack Obama\n",
      "3694  0.703139  24478                Joe Biden\n",
      "2688  0.770561  38714  Eric Stern (politician)\n",
      "5965  0.800197  46811            Jeff Sessions\n",
      "6214  0.826854  14754              Mitt Romney\n",
      "1623  0.833985  36452             Bill Clinton\n",
      "3729  0.834535  40943           Jonathan Alter\n",
      "2667  0.837013  55044             Wesley Clark\n",
      "3878  0.839407  24848          John C. Eastman\n",
      "4708  0.840839  43155              Goodwin Liu\n",
      "Radius: 6\n",
      "       distance  index                     name\n",
      "1405   0.000000  35817             Barack Obama\n",
      "12038  0.703139  24478                Joe Biden\n",
      "2841   0.770561  38714  Eric Stern (politician)\n",
      "5762   0.790926  44681   Jesse Lee (politician)\n",
      "6794   0.800197  46811            Jeff Sessions\n",
      "7799   0.809192  48693              Artur Davis\n",
      "11688  0.810165  23737        John D. McCormick\n",
      "1886   0.814555   4032      Kenneth D. Thompson\n",
      "13445  0.823229  28447           George W. Bush\n",
      "7165   0.826854  14754              Mitt Romney\n",
      "Radius: 7\n",
      "       distance  index                     name\n",
      "15243  0.000000  35817             Barack Obama\n",
      "10511  0.703139  24478                Joe Biden\n",
      "16294  0.742982  38376           Samantha Power\n",
      "24256  0.758358  57108   Hillary Rodham Clinton\n",
      "16422  0.770561  38714  Eric Stern (politician)\n",
      "18984  0.790926  44681   Jesse Lee (politician)\n",
      "8057   0.798323  18827             Henry Waxman\n",
      "19867  0.800197  46811            Jeff Sessions\n",
      "20699  0.809192  48693              Artur Davis\n",
      "10215  0.810165  23737        John D. McCormick\n",
      "Radius: 8\n",
      "       distance  index                     name\n",
      "22317  0.000000  35817             Barack Obama\n",
      "15350  0.703139  24478                Joe Biden\n",
      "23921  0.742982  38376           Samantha Power\n",
      "35597  0.758358  57108   Hillary Rodham Clinton\n",
      "24134  0.770561  38714  Eric Stern (politician)\n",
      "27861  0.790926  44681   Jesse Lee (politician)\n",
      "11760  0.798323  18827             Henry Waxman\n",
      "29168  0.800197  46811            Jeff Sessions\n",
      "30338  0.809192  48693              Artur Davis\n",
      "14880  0.810165  23737        John D. McCormick\n",
      "Radius: 9\n",
      "       distance  index                     name\n",
      "28389  0.000000  35817             Barack Obama\n",
      "19446  0.703139  24478                Joe Biden\n",
      "30425  0.742982  38376           Samantha Power\n",
      "45233  0.758358  57108   Hillary Rodham Clinton\n",
      "30692  0.770561  38714  Eric Stern (politician)\n",
      "36547  0.784678  46140             Robert Gibbs\n",
      "35410  0.790926  44681   Jesse Lee (politician)\n",
      "14945  0.798323  18827             Henry Waxman\n",
      "37056  0.800197  46811            Jeff Sessions\n",
      "31208  0.809051  39357              John McCain\n",
      "Radius: 10\n",
      "       distance  index                     name\n",
      "32400  0.000000  35817             Barack Obama\n",
      "22189  0.703139  24478                Joe Biden\n",
      "34694  0.742982  38376           Samantha Power\n",
      "51690  0.758358  57108   Hillary Rodham Clinton\n",
      "35001  0.770561  38714  Eric Stern (politician)\n",
      "41740  0.784678  46140             Robert Gibbs\n",
      "40417  0.790926  44681   Jesse Lee (politician)\n",
      "17079  0.798323  18827             Henry Waxman\n",
      "2179   0.799466   2412          Joe the Plumber\n",
      "42352  0.800197  46811            Jeff Sessions\n",
      "Radius: 11\n",
      "       distance  index                     name\n",
      "34575  0.000000  35817             Barack Obama\n",
      "23645  0.703139  24478                Joe Biden\n",
      "37050  0.742982  38376           Samantha Power\n",
      "55175  0.758358  57108   Hillary Rodham Clinton\n",
      "37375  0.770561  38714  Eric Stern (politician)\n",
      "44570  0.784678  46140             Robert Gibbs\n",
      "43156  0.790926  44681   Jesse Lee (politician)\n",
      "18191  0.798323  18827             Henry Waxman\n",
      "2327   0.799466   2412          Joe the Plumber\n",
      "45221  0.800197  46811            Jeff Sessions\n",
      "Radius: 12\n",
      "       distance  index                     name\n",
      "35497  0.000000  35817             Barack Obama\n",
      "24261  0.703139  24478                Joe Biden\n",
      "38043  0.742982  38376           Samantha Power\n",
      "56610  0.758358  57108   Hillary Rodham Clinton\n",
      "38376  0.770561  38714  Eric Stern (politician)\n",
      "45738  0.784678  46140             Robert Gibbs\n",
      "6746   0.788039   6796              Eric Holder\n",
      "44287  0.790926  44681   Jesse Lee (politician)\n",
      "18666  0.798323  18827             Henry Waxman\n",
      "2393   0.799466   2412          Joe the Plumber\n",
      "Radius: 13\n",
      "       distance  index                     name\n",
      "35750  0.000000  35817             Barack Obama\n",
      "24433  0.703139  24478                Joe Biden\n",
      "38306  0.742982  38376           Samantha Power\n",
      "57014  0.758358  57108   Hillary Rodham Clinton\n",
      "38644  0.770561  38714  Eric Stern (politician)\n",
      "46057  0.784678  46140             Robert Gibbs\n",
      "6782   0.788039   6796              Eric Holder\n",
      "44601  0.790926  44681   Jesse Lee (politician)\n",
      "18795  0.798323  18827             Henry Waxman\n",
      "2407   0.799466   2412          Joe the Plumber\n",
      "Radius: 14\n",
      "       distance  index                     name\n",
      "35807  0.000000  35817             Barack Obama\n",
      "24471  0.703139  24478                Joe Biden\n",
      "38366  0.742982  38376           Samantha Power\n",
      "57095  0.758358  57108   Hillary Rodham Clinton\n",
      "38704  0.770561  38714  Eric Stern (politician)\n",
      "46129  0.784678  46140             Robert Gibbs\n",
      "6793   0.788039   6796              Eric Holder\n",
      "44670  0.790926  44681   Jesse Lee (politician)\n",
      "18821  0.798323  18827             Henry Waxman\n",
      "2411   0.799466   2412          Joe the Plumber\n",
      "Radius: 15\n",
      "       distance  index                     name\n",
      "35817  0.000000  35817             Barack Obama\n",
      "24478  0.703139  24478                Joe Biden\n",
      "38376  0.742982  38376           Samantha Power\n",
      "57108  0.758358  57108   Hillary Rodham Clinton\n",
      "38714  0.770561  38714  Eric Stern (politician)\n",
      "46140  0.784678  46140             Robert Gibbs\n",
      "6796   0.788039   6796              Eric Holder\n",
      "44681  0.790926  44681   Jesse Lee (politician)\n",
      "18827  0.798323  18827             Henry Waxman\n",
      "2412   0.799466   2412          Joe the Plumber\n"
     ]
    },
    {
     "name": "stdout",
     "output_type": "stream",
     "text": [
      "Radius: 16\n",
      "       distance  index                     name\n",
      "35817  0.000000  35817             Barack Obama\n",
      "24478  0.703139  24478                Joe Biden\n",
      "38376  0.742982  38376           Samantha Power\n",
      "57108  0.758358  57108   Hillary Rodham Clinton\n",
      "38714  0.770561  38714  Eric Stern (politician)\n",
      "46140  0.784678  46140             Robert Gibbs\n",
      "6796   0.788039   6796              Eric Holder\n",
      "44681  0.790926  44681   Jesse Lee (politician)\n",
      "18827  0.798323  18827             Henry Waxman\n",
      "2412   0.799466   2412          Joe the Plumber\n"
     ]
    }
   ],
   "source": [
    "# effect of nearby bin search\n",
    "# elements we care: number of candidate documents considered, query time, distance of approximate neighbors from the query\n",
    "\n",
    "num_candidates_history = []\n",
    "query_time_history = []\n",
    "max_distance_from_query_history = []\n",
    "min_distance_from_query_history = []\n",
    "average_distance_from_query_history = []\n",
    "\n",
    "for max_search_radius in range(17):\n",
    "    start=time.time()\n",
    "    NN_result, num_candidates = query(tf_idf_matrix[35817,:], model, k=10, max_search_radius=max_search_radius)\n",
    "    end=time.time()\n",
    "    query_time = end-start  # measure time\n",
    "    \n",
    "    print('Radius:', max_search_radius)\n",
    "    print(NN_result.join(data[['index', 'name']], on='index', lsuffix='1').drop('index1', axis=1))\n",
    "    \n",
    "    average_distance_from_query = NN_result['distance'][1:].mean()\n",
    "    max_distance_from_query = NN_result['distance'][1:].max()\n",
    "    min_distance_from_query = NN_result['distance'][1:].min()\n",
    "    \n",
    "    num_candidates_history.append(num_candidates)\n",
    "    query_time_history.append(query_time)\n",
    "    average_distance_from_query_history.append(average_distance_from_query)\n",
    "    max_distance_from_query_history.append(max_distance_from_query)\n",
    "    min_distance_from_query_history.append(min_distance_from_query)"
   ]
  },
  {
   "cell_type": "code",
   "execution_count": 17,
   "metadata": {},
   "outputs": [
    {
     "data": {
      "image/png": "[encoded data removed]",
      "text/plain": [
       "<matplotlib.figure.Figure at 0x112a7458710>"
      ]
     },
     "metadata": {},
     "output_type": "display_data"
    },
    {
     "data": {
      "image/png": "[encoded data removed]",
      "text/plain": [
       "<matplotlib.figure.Figure at 0x112e3cc1cc0>"
      ]
     },
     "metadata": {},
     "output_type": "display_data"
    },
    {
     "data": {
      "image/png": "[encoded data removed]",
      "text/plain": [
       "<matplotlib.figure.Figure at 0x112a74897b8>"
      ]
     },
     "metadata": {},
     "output_type": "display_data"
    }
   ],
   "source": [
    "plt.figure(figsize=(7,4.5))\n",
    "plt.plot(num_candidates_history, linewidth=4)\n",
    "plt.xlabel('Search radius')\n",
    "plt.ylabel('# of documents searched')\n",
    "plt.rcParams.update({'font.size':16})\n",
    "plt.tight_layout()\n",
    "\n",
    "plt.figure(figsize=(7,4.5))\n",
    "plt.plot(query_time_history, linewidth=4)\n",
    "plt.xlabel('Search radius')\n",
    "plt.ylabel('Query time (seconds)')\n",
    "plt.rcParams.update({'font.size':16})\n",
    "plt.tight_layout()\n",
    "\n",
    "plt.figure(figsize=(7,4.5))\n",
    "plt.plot(average_distance_from_query_history, linewidth=4, label='Average of 10 neighbors')\n",
    "plt.plot(max_distance_from_query_history, linewidth=4, label='Farthest of 10 neighbors')\n",
    "plt.plot(min_distance_from_query_history, linewidth=4, label='Closest of 10 neighbors')\n",
    "plt.xlabel('Search radius')\n",
    "plt.ylabel('Cosine distance of neighbors')\n",
    "plt.legend(loc='best', prop={'size':15})\n",
    "plt.rcParams.update({'font.size':16})\n",
    "plt.tight_layout()"
   ]
  }
 ],
 "metadata": {
  "kernelspec": {
   "display_name": "Python 3",
   "language": "python",
   "name": "python3"
  },
  "language_info": {
   "codemirror_mode": {
    "name": "ipython",
    "version": 3
   },
   "file_extension": ".py",
   "mimetype": "text/x-python",
   "name": "python",
   "nbconvert_exporter": "python",
   "pygments_lexer": "ipython3",
   "version": "3.6.1"
  }
 },
 "nbformat": 4,
 "nbformat_minor": 2
}
