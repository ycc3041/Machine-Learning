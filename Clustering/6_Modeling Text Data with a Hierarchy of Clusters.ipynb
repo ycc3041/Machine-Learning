{
 "cells": [
  {
   "cell_type": "markdown",
   "metadata": {},
   "source": [
    "# W6_Modeling Text Data with a Hierarchy of Clusters"
   ]
  },
  {
   "cell_type": "code",
   "execution_count": 1,
   "metadata": {
    "collapsed": true
   },
   "outputs": [],
   "source": [
    "import numpy as np\n",
    "import pandas as pd\n",
    "import matplotlib.pyplot as plt\n",
    "from scipy.sparse import csr_matrix\n",
    "from sklearn.cluster import KMeans                \n",
    "from sklearn.metrics import pairwise_distances\n",
    "from sklearn.preprocessing import normalize\n",
    "%matplotlib inline"
   ]
  },
  {
   "cell_type": "code",
   "execution_count": 2,
   "metadata": {},
   "outputs": [
    {
     "data": {
      "text/html": [
       "<div>\n",
       "<style>\n",
       "    .dataframe thead tr:only-child th {\n",
       "        text-align: right;\n",
       "    }\n",
       "\n",
       "    .dataframe thead th {\n",
       "        text-align: left;\n",
       "    }\n",
       "\n",
       "    .dataframe tbody tr th {\n",
       "        vertical-align: top;\n",
       "    }\n",
       "</style>\n",
       "<table border=\"1\" class=\"dataframe\">\n",
       "  <thead>\n",
       "    <tr style=\"text-align: right;\">\n",
       "      <th></th>\n",
       "      <th>URI</th>\n",
       "      <th>name</th>\n",
       "      <th>text</th>\n",
       "    </tr>\n",
       "  </thead>\n",
       "  <tbody>\n",
       "    <tr>\n",
       "      <th>0</th>\n",
       "      <td>&lt;http://dbpedia.org/resource/Digby_Morrell&gt;</td>\n",
       "      <td>Digby Morrell</td>\n",
       "      <td>digby morrell born 10 october 1979 is a former...</td>\n",
       "    </tr>\n",
       "    <tr>\n",
       "      <th>1</th>\n",
       "      <td>&lt;http://dbpedia.org/resource/Alfred_J._Lewy&gt;</td>\n",
       "      <td>Alfred J. Lewy</td>\n",
       "      <td>alfred j lewy aka sandy lewy graduated from un...</td>\n",
       "    </tr>\n",
       "    <tr>\n",
       "      <th>2</th>\n",
       "      <td>&lt;http://dbpedia.org/resource/Harpdog_Brown&gt;</td>\n",
       "      <td>Harpdog Brown</td>\n",
       "      <td>harpdog brown is a singer and harmonica player...</td>\n",
       "    </tr>\n",
       "    <tr>\n",
       "      <th>3</th>\n",
       "      <td>&lt;http://dbpedia.org/resource/Franz_Rottensteiner&gt;</td>\n",
       "      <td>Franz Rottensteiner</td>\n",
       "      <td>franz rottensteiner born in waidmannsfeld lowe...</td>\n",
       "    </tr>\n",
       "    <tr>\n",
       "      <th>4</th>\n",
       "      <td>&lt;http://dbpedia.org/resource/G-Enka&gt;</td>\n",
       "      <td>G-Enka</td>\n",
       "      <td>henry krvits born 30 december 1974 in tallinn ...</td>\n",
       "    </tr>\n",
       "  </tbody>\n",
       "</table>\n",
       "</div>"
      ],
      "text/plain": [
       "                                                 URI                 name  \\\n",
       "0        <http://dbpedia.org/resource/Digby_Morrell>        Digby Morrell   \n",
       "1       <http://dbpedia.org/resource/Alfred_J._Lewy>       Alfred J. Lewy   \n",
       "2        <http://dbpedia.org/resource/Harpdog_Brown>        Harpdog Brown   \n",
       "3  <http://dbpedia.org/resource/Franz_Rottensteiner>  Franz Rottensteiner   \n",
       "4               <http://dbpedia.org/resource/G-Enka>               G-Enka   \n",
       "\n",
       "                                                text  \n",
       "0  digby morrell born 10 october 1979 is a former...  \n",
       "1  alfred j lewy aka sandy lewy graduated from un...  \n",
       "2  harpdog brown is a singer and harmonica player...  \n",
       "3  franz rottensteiner born in waidmannsfeld lowe...  \n",
       "4  henry krvits born 30 december 1974 in tallinn ...  "
      ]
     },
     "execution_count": 2,
     "metadata": {},
     "output_type": "execute_result"
    }
   ],
   "source": [
    "data = pd.read_csv('people_wiki.csv')\n",
    "data.head()"
   ]
  },
  {
   "cell_type": "code",
   "execution_count": 3,
   "metadata": {},
   "outputs": [
    {
     "data": {
      "text/plain": [
       "<59071x547979 sparse matrix of type '<class 'numpy.float64'>'\n",
       "\twith 10379283 stored elements in Compressed Sparse Row format>"
      ]
     },
     "execution_count": 3,
     "metadata": {},
     "output_type": "execute_result"
    }
   ],
   "source": [
    "def load_sparse_csr(filename):\n",
    "    loader = np.load(filename)\n",
    "    data = loader['data']\n",
    "    indices = loader['indices']\n",
    "    indptr = loader['indptr']\n",
    "    shape = loader['shape']\n",
    "    return csr_matrix( (data, indices, indptr), shape)\n",
    "\n",
    "tf_idf_matrix = load_sparse_csr('people_wiki_tf_idf.npz')\n",
    "tf_idf_matrix = normalize(tf_idf_matrix)\n",
    "tf_idf_matrix # sparse matrix with 59071 data points, 547979 features"
   ]
  },
  {
   "cell_type": "code",
   "execution_count": 4,
   "metadata": {},
   "outputs": [
    {
     "data": {
      "text/html": [
       "<div>\n",
       "<style>\n",
       "    .dataframe thead tr:only-child th {\n",
       "        text-align: right;\n",
       "    }\n",
       "\n",
       "    .dataframe thead th {\n",
       "        text-align: left;\n",
       "    }\n",
       "\n",
       "    .dataframe tbody tr th {\n",
       "        vertical-align: top;\n",
       "    }\n",
       "</style>\n",
       "<table border=\"1\" class=\"dataframe\">\n",
       "  <thead>\n",
       "    <tr style=\"text-align: right;\">\n",
       "      <th></th>\n",
       "      <th>word</th>\n",
       "    </tr>\n",
       "    <tr>\n",
       "      <th>word_index</th>\n",
       "      <th></th>\n",
       "    </tr>\n",
       "  </thead>\n",
       "  <tbody>\n",
       "    <tr>\n",
       "      <th>540315</th>\n",
       "      <td>0</td>\n",
       "    </tr>\n",
       "    <tr>\n",
       "      <th>536260</th>\n",
       "      <td>00</td>\n",
       "    </tr>\n",
       "    <tr>\n",
       "      <th>535641</th>\n",
       "      <td>000</td>\n",
       "    </tr>\n",
       "    <tr>\n",
       "      <th>83348</th>\n",
       "      <td>0000</td>\n",
       "    </tr>\n",
       "    <tr>\n",
       "      <th>81527</th>\n",
       "      <td>00000</td>\n",
       "    </tr>\n",
       "  </tbody>\n",
       "</table>\n",
       "</div>"
      ],
      "text/plain": [
       "             word\n",
       "word_index       \n",
       "540315          0\n",
       "536260         00\n",
       "535641        000\n",
       "83348        0000\n",
       "81527       00000"
      ]
     },
     "execution_count": 4,
     "metadata": {},
     "output_type": "execute_result"
    }
   ],
   "source": [
    "ser = pd.read_json('people_wiki_map_index_to_word.json', typ='series')\n",
    "map_index_to_word = pd.DataFrame(ser, columns=['word_index'])\n",
    "map_index_to_word['word'] = map_index_to_word.index\n",
    "map_index_to_word.index = map_index_to_word['word_index']\n",
    "map_index_to_word.drop('word_index', axis=1, inplace=True)\n",
    "map_index_to_word.head()"
   ]
  },
  {
   "cell_type": "code",
   "execution_count": 5,
   "metadata": {
    "collapsed": true
   },
   "outputs": [],
   "source": [
    "def bipartition(cluster, maxiter=400, num_runs=4, seed=None):\n",
    "    '''\n",
    "    cluster: should be a dictionary containing the following keys\n",
    "                * dataframe: original dataframe\n",
    "                * matrix:    same data, in matrix format\n",
    "                * centroid:  centroid for this particular cluster\n",
    "    '''\n",
    "    \n",
    "    dataframe = cluster['dataframe']\n",
    "    data_matrix = cluster['matrix']\n",
    "    \n",
    "    # run k-means on the data matrix with k=2\n",
    "    kmeans_model = KMeans(n_clusters=2, max_iter=maxiter, n_init=num_runs, random_state=seed, n_jobs=1).fit(data_matrix)\n",
    "    centroids, cluster_assignment = kmeans_model.cluster_centers_, kmeans_model.labels_\n",
    "    \n",
    "    # divide the data matrix into two parts using the cluster assignments\n",
    "    data_matrix_left_child, data_matrix_right_child = data_matrix[cluster_assignment==0], data_matrix[cluster_assignment==1]\n",
    "    \n",
    "    # divide the dataframe into two parts using the cluster assignments\n",
    "    dataframe_left_child, dataframe_right_child = dataframe[cluster_assignment==0], dataframe[cluster_assignment==1]\n",
    "        \n",
    "    \n",
    "    cluster_left_child  = {'matrix': data_matrix_left_child,\n",
    "                           'dataframe': dataframe_left_child,\n",
    "                           'centroid': centroids[0]}\n",
    "    cluster_right_child = {'matrix': data_matrix_right_child,\n",
    "                           'dataframe': dataframe_right_child,\n",
    "                           'centroid': centroids[1]}\n",
    "    \n",
    "    return (cluster_left_child, cluster_right_child)"
   ]
  },
  {
   "cell_type": "code",
   "execution_count": 6,
   "metadata": {},
   "outputs": [],
   "source": [
    "wiki_data = {'matrix': tf_idf_matrix, 'dataframe': data} # no centroid for the root cluster\n",
    "left_child, right_child = bipartition(wiki_data, maxiter=100, num_runs=6, seed=1)"
   ]
  },
  {
   "cell_type": "code",
   "execution_count": 7,
   "metadata": {},
   "outputs": [],
   "source": [
    "def display_single_tf_idf_cluster(cluster, map_index_to_word):\n",
    "    \n",
    "    data_subset   = cluster['dataframe']\n",
    "    tf_idf_subset = cluster['matrix']\n",
    "    centroid      = cluster['centroid']\n",
    "    \n",
    "    # print top 5 words with largest TF-IDF weights in the cluster\n",
    "    idx = centroid.argsort()[::-1]\n",
    "    print('==============================')\n",
    "    print('TOP 5 WORDS IN THE CLUSTER')\n",
    "    for i in range(5):\n",
    "        print('{0:s}:{1:.3f}'.format(map_index_to_word.loc[idx[i]]['word'], centroid[idx[i]]))\n",
    "    print('')\n",
    "    \n",
    "    # print 5 nearest neighbors wiht the title and first 180 characters of text\n",
    "    distances = pairwise_distances(tf_idf_subset, [centroid], metric='euclidean').flatten()\n",
    "    nearest_neighbors = distances.argsort()\n",
    "    print('===============================')\n",
    "    print('TITLE AND TEXT FOR 5 NEAREST NEIGHBORS')\n",
    "    for i in range(5):\n",
    "        text = ' '.join(data_subset.iloc[nearest_neighbors[i]]['text'].split(None, 25)[0:25])\n",
    "        print('**', data_subset.iloc[nearest_neighbors[i]]['name'])\n",
    "        print(distances[nearest_neighbors[i]])\n",
    "        print(text[:90], text[90:180] if len(text)>90 else '')\n",
    "\n",
    "        #print('* {0:50s} {1:.5f}\\n  {2:s}\\n  {3:s}'.format(data_subset[nearest_neighbors[i]]['name'],\n",
    "         #     distances[nearest_neighbors[i]], text[:90], text[90:180] if len(text) > 90 else ''))\n",
    "    print('')"
   ]
  },
  {
   "cell_type": "code",
   "execution_count": 8,
   "metadata": {},
   "outputs": [
    {
     "name": "stdout",
     "output_type": "stream",
     "text": [
      "==============================\n",
      "TOP 5 WORDS IN THE CLUSTER\n",
      "league:0.040\n",
      "season:0.036\n",
      "team:0.029\n",
      "football:0.029\n",
      "played:0.028\n",
      "\n",
      "===============================\n",
      "TITLE AND TEXT FOR 5 NEAREST NEIGHBORS\n",
      "** Todd Williams\n",
      "0.954683324219\n",
      "todd michael williams born february 13 1971 in syracuse new york is a former major league  baseball relief pitcher he attended east syracuseminoa high school\n",
      "** Gord Sherven\n",
      "0.956223740771\n",
      "gordon r sherven born august 21 1963 in gravelbourg saskatchewan and raised in mankota sas katchewan is a retired canadian professional ice hockey forward who played\n",
      "** Justin Knoedler\n",
      "0.956390306216\n",
      "justin joseph knoedler born july 17 1980 in springfield illinois is a former major league  baseball catcherknoedler was originally drafted by the st louis cardinals\n",
      "** Chris Day\n",
      "0.956475380544\n",
      "christopher nicholas chris day born 28 july 1975 is an english professional footballer who  plays as a goalkeeper for stevenageday started his career at tottenham\n",
      "** Tony Smith (footballer, born 1957)\n",
      "0.956533909709\n",
      "anthony tony smith born 20 february 1957 is a former footballer who played as a central de fender in the football league in the 1970s and\n",
      "\n"
     ]
    }
   ],
   "source": [
    "display_single_tf_idf_cluster(left_child, map_index_to_word)"
   ]
  },
  {
   "cell_type": "code",
   "execution_count": 9,
   "metadata": {},
   "outputs": [
    {
     "name": "stdout",
     "output_type": "stream",
     "text": [
      "==============================\n",
      "TOP 5 WORDS IN THE CLUSTER\n",
      "she:0.025\n",
      "her:0.017\n",
      "music:0.012\n",
      "he:0.011\n",
      "university:0.011\n",
      "\n",
      "===============================\n",
      "TITLE AND TEXT FOR 5 NEAREST NEIGHBORS\n",
      "** Anita Kunz\n",
      "0.974007672741\n",
      "anita e kunz oc born 1956 is a canadianborn artist and illustratorkunz has lived in london  new york and toronto contributing to magazines and working\n",
      "** Janet Jackson\n",
      "0.974716000044\n",
      "janet damita jo jackson born may 16 1966 is an american singer songwriter and actress know n for a series of sonically innovative socially conscious and\n",
      "** Madonna (entertainer)\n",
      "0.974747958518\n",
      "madonna louise ciccone tkoni born august 16 1958 is an american singer songwriter actress  and businesswoman she achieved popularity by pushing the boundaries of lyrical\n",
      "** %C3%81ine Hyland\n",
      "0.975358023829\n",
      "ine hyland ne donlon is emeritus professor of education and former vicepresident of univer sity college cork ireland she was born in 1942 in athboy co\n",
      "** Jane Fonda\n",
      "0.976212312188\n",
      "jane fonda born lady jayne seymour fonda december 21 1937 is an american actress writer po litical activist former fashion model and fitness guru she is\n",
      "\n"
     ]
    }
   ],
   "source": [
    "display_single_tf_idf_cluster(right_child, map_index_to_word)"
   ]
  },
  {
   "cell_type": "code",
   "execution_count": 10,
   "metadata": {
    "collapsed": true
   },
   "outputs": [],
   "source": [
    "athletes = left_child\n",
    "non_athletes = right_child"
   ]
  },
  {
   "cell_type": "code",
   "execution_count": 11,
   "metadata": {
    "collapsed": true
   },
   "outputs": [],
   "source": [
    "left_child_athletes, right_child_athletes = bipartition(athletes, maxiter=100, num_runs=6, seed=1)"
   ]
  },
  {
   "cell_type": "code",
   "execution_count": 12,
   "metadata": {},
   "outputs": [
    {
     "name": "stdout",
     "output_type": "stream",
     "text": [
      "==============================\n",
      "TOP 5 WORDS IN THE CLUSTER\n",
      "baseball:0.111\n",
      "league:0.103\n",
      "major:0.051\n",
      "games:0.046\n",
      "season:0.045\n",
      "\n",
      "===============================\n",
      "TITLE AND TEXT FOR 5 NEAREST NEIGHBORS\n",
      "** Steve Springer\n",
      "0.893441737353\n",
      "steven michael springer born february 11 1961 is an american former professional baseball  player who appeared in major league baseball as a third baseman and\n",
      "** Dave Ford\n",
      "0.895977080271\n",
      "david alan ford born december 29 1956 is a former major league baseball pitcher for the ba ltimore orioles born in cleveland ohio ford attended lincolnwest\n",
      "** Todd Williams\n",
      "0.898227954339\n",
      "todd michael williams born february 13 1971 in syracuse new york is a former major league  baseball relief pitcher he attended east syracuseminoa high school\n",
      "** Justin Knoedler\n",
      "0.900967414566\n",
      "justin joseph knoedler born july 17 1980 in springfield illinois is a former major league  baseball catcherknoedler was originally drafted by the st louis cardinals\n",
      "** Kevin Nicholson (baseball)\n",
      "0.906073480139\n",
      "kevin ronald nicholson born march 29 1976 is a canadian baseball shortstop he played part  of the 2000 season for the san diego padres of\n",
      "\n"
     ]
    }
   ],
   "source": [
    "display_single_tf_idf_cluster(left_child_athletes, map_index_to_word)"
   ]
  },
  {
   "cell_type": "code",
   "execution_count": 13,
   "metadata": {},
   "outputs": [
    {
     "name": "stdout",
     "output_type": "stream",
     "text": [
      "==============================\n",
      "TOP 5 WORDS IN THE CLUSTER\n",
      "season:0.034\n",
      "football:0.033\n",
      "team:0.031\n",
      "league:0.029\n",
      "played:0.027\n",
      "\n",
      "===============================\n",
      "TITLE AND TEXT FOR 5 NEAREST NEIGHBORS\n",
      "** Gord Sherven\n",
      "0.955619813753\n",
      "gordon r sherven born august 21 1963 in gravelbourg saskatchewan and raised in mankota sas katchewan is a retired canadian professional ice hockey forward who played\n",
      "** Ashley Prescott\n",
      "0.956555828493\n",
      "ashley prescott born 11 september 1972 is a former australian rules footballer he played w ith the richmond and fremantle football clubs in the afl between\n",
      "** Chris Day\n",
      "0.956560487379\n",
      "christopher nicholas chris day born 28 july 1975 is an english professional footballer who  plays as a goalkeeper for stevenageday started his career at tottenham\n",
      "** Jason Roberts (footballer)\n",
      "0.956577195994\n",
      "jason andre davis roberts mbe born 25 january 1978 is a former professional footballer and  now a football punditborn in park royal london roberts was\n",
      "** Todd Curley\n",
      "0.957431080848\n",
      "todd curley born 14 january 1973 is a former australian rules footballer who played for co llingwood and the western bulldogs in the australian football league\n",
      "\n"
     ]
    }
   ],
   "source": [
    "display_single_tf_idf_cluster(right_child_athletes, map_index_to_word)"
   ]
  },
  {
   "cell_type": "code",
   "execution_count": 14,
   "metadata": {
    "collapsed": true
   },
   "outputs": [],
   "source": [
    "baseball = left_child_athletes\n",
    "ice_hockey_football = right_child_athletes"
   ]
  },
  {
   "cell_type": "code",
   "execution_count": 15,
   "metadata": {},
   "outputs": [
    {
     "name": "stdout",
     "output_type": "stream",
     "text": [
      "==============================\n",
      "TOP 5 WORDS IN THE CLUSTER\n",
      "football:0.048\n",
      "season:0.043\n",
      "league:0.041\n",
      "played:0.036\n",
      "coach:0.034\n",
      "\n",
      "===============================\n",
      "TITLE AND TEXT FOR 5 NEAREST NEIGHBORS\n",
      "** Todd Curley\n",
      "0.945779211229\n",
      "todd curley born 14 january 1973 is a former australian rules footballer who played for co llingwood and the western bulldogs in the australian football league\n",
      "** Tony Smith (footballer, born 1957)\n",
      "0.946064950782\n",
      "anthony tony smith born 20 february 1957 is a former footballer who played as a central de fender in the football league in the 1970s and\n",
      "** Chris Day\n",
      "0.946229532006\n",
      "christopher nicholas chris day born 28 july 1975 is an english professional footballer who  plays as a goalkeeper for stevenageday started his career at tottenham\n",
      "** Ashley Prescott\n",
      "0.946320666883\n",
      "ashley prescott born 11 september 1972 is a former australian rules footballer he played w ith the richmond and fremantle football clubs in the afl between\n",
      "** Jason Roberts (footballer)\n",
      "0.946332977023\n",
      "jason andre davis roberts mbe born 25 january 1978 is a former professional footballer and  now a football punditborn in park royal london roberts was\n",
      "\n",
      "==============================\n",
      "TOP 5 WORDS IN THE CLUSTER\n",
      "championships:0.045\n",
      "tour:0.043\n",
      "championship:0.035\n",
      "world:0.031\n",
      "won:0.031\n",
      "\n",
      "===============================\n",
      "TITLE AND TEXT FOR 5 NEAREST NEIGHBORS\n",
      "** Alessandra Aguilar\n",
      "0.938558326459\n",
      "alessandra aguilar born 1 july 1978 in lugo is a spanish longdistance runner who specialis es in marathon running she represented her country in the event\n",
      "** Heather Samuel\n",
      "0.93973489015\n",
      "heather barbara samuel born 6 july 1970 is a retired sprinter from antigua and barbuda who  specialized in the 100 and 200 metres in 1990\n",
      "** Viola Kibiwot\n",
      "0.940151565862\n",
      "viola jelagat kibiwot born december 22 1983 in keiyo district is a runner from kenya who s pecialises in the 1500 metres kibiwot won her first\n",
      "** Ayelech Worku\n",
      "0.940306850953\n",
      "ayelech worku born june 12 1979 is an ethiopian longdistance runner most known for winning  two world championships bronze medals on the 5000 metres she\n",
      "** Krisztina Papp\n",
      "0.940768961113\n",
      "krisztina papp born 17 december 1982 in eger is a hungarian long distance runner she is th e national indoor record holder over 5000 mpapp began\n",
      "\n"
     ]
    }
   ],
   "source": [
    "left_child_ihs, right_child_ihs = bipartition(ice_hockey_football, maxiter=100, num_runs=6, seed=1)\n",
    "display_single_tf_idf_cluster(left_child_ihs, map_index_to_word)\n",
    "display_single_tf_idf_cluster(right_child_ihs, map_index_to_word)"
   ]
  },
  {
   "cell_type": "code",
   "execution_count": 16,
   "metadata": {
    "collapsed": true
   },
   "outputs": [],
   "source": [
    "left_child_non_athletes, right_child_non_athletes = bipartition(non_athletes, maxiter=100, num_runs=6, seed=1)"
   ]
  },
  {
   "cell_type": "code",
   "execution_count": 17,
   "metadata": {},
   "outputs": [
    {
     "name": "stdout",
     "output_type": "stream",
     "text": [
      "==============================\n",
      "TOP 5 WORDS IN THE CLUSTER\n",
      "he:0.013\n",
      "music:0.012\n",
      "university:0.011\n",
      "film:0.010\n",
      "his:0.009\n",
      "\n",
      "===============================\n",
      "TITLE AND TEXT FOR 5 NEAREST NEIGHBORS\n",
      "** Wilson McLean\n",
      "0.978700581621\n",
      "wilson mclean born 1937 is a scottish illustrator and artist he has illustrated primarily  in the field of advertising but has also provided cover art\n",
      "** Julian Knowles\n",
      "0.979381857718\n",
      "julian knowles is an australian composer and performer specialising in new and emerging te chnologies his creative work spans the fields of composition for theatre dance\n",
      "** James A. Joseph\n",
      "0.980418925525\n",
      "james a joseph born 1935 is an american former diplomatjoseph is professor of the practice  of public policy studies at duke university and founder of\n",
      "** Barry Sullivan (lawyer)\n",
      "0.980536900664\n",
      "barry sullivan is a chicago lawyer and as of july 1 2009 the cooney conway chair in advoca cy at loyola university chicago school of law\n",
      "** Archie Brown\n",
      "0.98080902171\n",
      "archibald haworth brown cmg fba commonly known as archie brown born 10 may 1938 is a briti sh political scientist and historian in 2005 he became\n",
      "\n"
     ]
    }
   ],
   "source": [
    "display_single_tf_idf_cluster(left_child_non_athletes, map_index_to_word)"
   ]
  },
  {
   "cell_type": "code",
   "execution_count": 18,
   "metadata": {},
   "outputs": [
    {
     "name": "stdout",
     "output_type": "stream",
     "text": [
      "==============================\n",
      "TOP 5 WORDS IN THE CLUSTER\n",
      "she:0.126\n",
      "her:0.082\n",
      "film:0.013\n",
      "actress:0.012\n",
      "music:0.012\n",
      "\n",
      "===============================\n",
      "TITLE AND TEXT FOR 5 NEAREST NEIGHBORS\n",
      "** Janet Jackson\n",
      "0.938081949011\n",
      "janet damita jo jackson born may 16 1966 is an american singer songwriter and actress know n for a series of sonically innovative socially conscious and\n",
      "** Lauren Royal\n",
      "0.938666907546\n",
      "lauren royal born march 3 circa 1965 is a book writer from california royal has written bo th historic and novelistic booksa selfproclaimed angels baseball fan\n",
      "** Barbara Hershey\n",
      "0.939414848732\n",
      "barbara hershey born barbara lynn herzstein february 5 1948 once known as barbara seagull  is an american actress in a career spanning nearly 50 years\n",
      "** Jane Fonda\n",
      "0.941018061293\n",
      "jane fonda born lady jayne seymour fonda december 21 1937 is an american actress writer po litical activist former fashion model and fitness guru she is\n",
      "** Alexandra Potter\n",
      "0.941899827845\n",
      "alexandra potter born 1970 is a british author of romantic comediesborn in bradford yorksh ire england and educated at liverpool university gaining an honors degree in\n",
      "\n"
     ]
    }
   ],
   "source": [
    "display_single_tf_idf_cluster(right_child_non_athletes, map_index_to_word)"
   ]
  },
  {
   "cell_type": "code",
   "execution_count": 19,
   "metadata": {
    "collapsed": true
   },
   "outputs": [],
   "source": [
    "male_non_athletes = left_child_non_athletes\n",
    "female_non_athletes = right_child_non_athletes"
   ]
  },
  {
   "cell_type": "code",
   "execution_count": 20,
   "metadata": {},
   "outputs": [],
   "source": [
    "left_child_male_non_athletes, right_child_male_non_athletes = bipartition(male_non_athletes, maxiter=100, num_runs=6, seed=1)"
   ]
  },
  {
   "cell_type": "code",
   "execution_count": 21,
   "metadata": {
    "collapsed": true
   },
   "outputs": [],
   "source": [
    "left_child_female_non_athletes, right_child_female_non_athletes = bipartition(female_non_athletes, maxiter=100, num_runs=6, seed=1)"
   ]
  },
  {
   "cell_type": "code",
   "execution_count": 22,
   "metadata": {},
   "outputs": [
    {
     "name": "stdout",
     "output_type": "stream",
     "text": [
      "==============================\n",
      "TOP 5 WORDS IN THE CLUSTER\n",
      "university:0.017\n",
      "he:0.015\n",
      "law:0.013\n",
      "served:0.013\n",
      "research:0.013\n",
      "\n",
      "===============================\n",
      "TITLE AND TEXT FOR 5 NEAREST NEIGHBORS\n",
      "** Barry Sullivan (lawyer)\n",
      "0.970752543673\n",
      "barry sullivan is a chicago lawyer and as of july 1 2009 the cooney conway chair in advoca cy at loyola university chicago school of law\n",
      "** James A. Joseph\n",
      "0.973440408591\n",
      "james a joseph born 1935 is an american former diplomatjoseph is professor of the practice  of public policy studies at duke university and founder of\n",
      "** David Anderson (British Columbia politician)\n",
      "0.973832432984\n",
      "david a anderson pc oc born august 16 1937 in victoria british columbia is a former canadi an cabinet minister educated at victoria college in victoria\n",
      "** Sven Erik Holmes\n",
      "0.974690686243\n",
      "sven erik holmes is a former federal judge and currently the vice chairman legal risk and  regulatory and chief legal officer for kpmg llp a\n",
      "** Andrew Fois\n",
      "0.975579551709\n",
      "andrew fois is an attorney living and working in washington dc as of april 9 2012 he will  be serving as the deputy attorney general\n",
      "\n"
     ]
    }
   ],
   "source": [
    "display_single_tf_idf_cluster(left_child_male_non_athletes, map_index_to_word)"
   ]
  },
  {
   "cell_type": "code",
   "execution_count": 23,
   "metadata": {},
   "outputs": [
    {
     "name": "stdout",
     "output_type": "stream",
     "text": [
      "==============================\n",
      "TOP 5 WORDS IN THE CLUSTER\n",
      "music:0.023\n",
      "film:0.020\n",
      "album:0.014\n",
      "band:0.014\n",
      "art:0.013\n",
      "\n",
      "===============================\n",
      "TITLE AND TEXT FOR 5 NEAREST NEIGHBORS\n",
      "** Julian Knowles\n",
      "0.971919901286\n",
      "julian knowles is an australian composer and performer specialising in new and emerging te chnologies his creative work spans the fields of composition for theatre dance\n",
      "** Peter Combe\n",
      "0.972920007076\n",
      "peter combe born 20 october 1948 is an australian childrens entertainer and musicianmusica l genre childrens musiche has had 22 releases including seven gold albums two\n",
      "** Craig Pruess\n",
      "0.973464007095\n",
      "craig pruess born 1950 is an american composer musician arranger and gold platinum record  producer who has been living in britain since 1973 his career\n",
      "** Ceiri Torjussen\n",
      "0.974196112424\n",
      "ceiri torjussen born 1976 is a composer who has contributed music to dozens of film and te levision productions in the ushis music was described by\n",
      "** Wilson McLean\n",
      "0.974552991101\n",
      "wilson mclean born 1937 is a scottish illustrator and artist he has illustrated primarily  in the field of advertising but has also provided cover art\n",
      "\n"
     ]
    }
   ],
   "source": [
    "display_single_tf_idf_cluster(right_child_male_non_athletes, map_index_to_word)"
   ]
  },
  {
   "cell_type": "code",
   "execution_count": 24,
   "metadata": {},
   "outputs": [
    {
     "name": "stdout",
     "output_type": "stream",
     "text": [
      "==============================\n",
      "TOP 5 WORDS IN THE CLUSTER\n",
      "she:0.121\n",
      "her:0.100\n",
      "actress:0.031\n",
      "film:0.030\n",
      "music:0.028\n",
      "\n",
      "===============================\n",
      "TITLE AND TEXT FOR 5 NEAREST NEIGHBORS\n",
      "** Janet Jackson\n",
      "0.92374494211\n",
      "janet damita jo jackson born may 16 1966 is an american singer songwriter and actress know n for a series of sonically innovative socially conscious and\n",
      "** Barbara Hershey\n",
      "0.925242387778\n",
      "barbara hershey born barbara lynn herzstein february 5 1948 once known as barbara seagull  is an american actress in a career spanning nearly 50 years\n",
      "** Madonna (entertainer)\n",
      "0.927528972684\n",
      "madonna louise ciccone tkoni born august 16 1958 is an american singer songwriter actress  and businesswoman she achieved popularity by pushing the boundaries of lyrical\n",
      "** Cher\n",
      "0.929092276278\n",
      "cher r born cherilyn sarkisian may 20 1946 is an american singer actress and television ho st described as embodying female autonomy in a maledominated industry\n",
      "** Candice Bergen\n",
      "0.932657639481\n",
      "candice patricia bergen born may 9 1946 is an american actress and former fashion model fo r her role as the title character on the cbs\n",
      "\n"
     ]
    }
   ],
   "source": [
    "display_single_tf_idf_cluster(left_child_female_non_athletes, map_index_to_word)"
   ]
  },
  {
   "cell_type": "code",
   "execution_count": 25,
   "metadata": {},
   "outputs": [
    {
     "name": "stdout",
     "output_type": "stream",
     "text": [
      "==============================\n",
      "TOP 5 WORDS IN THE CLUSTER\n",
      "she:0.130\n",
      "her:0.072\n",
      "women:0.014\n",
      "miss:0.014\n",
      "university:0.013\n",
      "\n",
      "===============================\n",
      "TITLE AND TEXT FOR 5 NEAREST NEIGHBORS\n",
      "** Lauren Royal\n",
      "0.939389752369\n",
      "lauren royal born march 3 circa 1965 is a book writer from california royal has written bo th historic and novelistic booksa selfproclaimed angels baseball fan\n",
      "** %C3%81ine Hyland\n",
      "0.939399884114\n",
      "ine hyland ne donlon is emeritus professor of education and former vicepresident of univer sity college cork ireland she was born in 1942 in athboy co\n",
      "** Dorothy E. Smith\n",
      "0.941132059201\n",
      "dorothy edith smithborn july 6 1926 is a canadian sociologist with research interests besi des in sociology in many disciplines including womens studies psychology and educational\n",
      "** Kayee Griffin\n",
      "0.941620752446\n",
      "kayee frances griffin born 6 february 1950 is an australian politician and former australi an labor party member of the new south wales legislative council serving\n",
      "** Janine Shepherd\n",
      "0.942516297403\n",
      "janine lee shepherd am born 1962 is an australian pilot and former crosscountry skier shep herds career as an athlete ended when she suffered major injuries\n",
      "\n"
     ]
    }
   ],
   "source": [
    "display_single_tf_idf_cluster(right_child_female_non_athletes, map_index_to_word)"
   ]
  }
 ],
 "metadata": {
  "kernelspec": {
   "display_name": "Python 3",
   "language": "python",
   "name": "python3"
  },
  "language_info": {
   "codemirror_mode": {
    "name": "ipython",
    "version": 3
   },
   "file_extension": ".py",
   "mimetype": "text/x-python",
   "name": "python",
   "nbconvert_exporter": "python",
   "pygments_lexer": "ipython3",
   "version": "3.6.1"
  }
 },
 "nbformat": 4,
 "nbformat_minor": 2
}
